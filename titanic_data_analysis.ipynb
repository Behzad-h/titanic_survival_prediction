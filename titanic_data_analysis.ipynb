{
 "cells": [
  {
   "attachments": {},
   "cell_type": "markdown",
   "id": "6b6efd2a",
   "metadata": {},
   "source": [
    "# **Data Analysis for Titanic Data**"
   ]
  },
  {
   "attachments": {},
   "cell_type": "markdown",
   "id": "fcfc25ca",
   "metadata": {},
   "source": [
    "![Image](http://www.theatrebloom.com/wp-content/uploads/2018/01/titanic-banner.jpg)"
   ]
  },
  {
   "attachments": {},
   "cell_type": "markdown",
   "id": "6cc78ea8",
   "metadata": {},
   "source": [
    "[Image Credit](http://www.theatrebloom.com/2018/01/heritage-players-ship-dreams-titanics-cast-musicians-share-dreams-spencer-kate-nelson-daniel-plante/) <br>\n",
    "\n",
    "In this notebook, the data of **Titanic - Machine Learning from Disaster** is analyzed and prepared for developing prediction models. <br>\n",
    "The data can be downloaded from: <br>\n",
    "https://www.kaggle.com/competitions/titanic"
   ]
  },
  {
   "cell_type": "code",
   "execution_count": 1,
   "id": "93ae8482",
   "metadata": {
    "execution": {
     "iopub.execute_input": "2023-01-02T00:48:13.093771Z",
     "iopub.status.busy": "2023-01-02T00:48:13.093336Z",
     "iopub.status.idle": "2023-01-02T00:48:14.546768Z",
     "shell.execute_reply": "2023-01-02T00:48:14.545523Z"
    },
    "papermill": {
     "duration": 1.473564,
     "end_time": "2023-01-02T00:48:14.549685",
     "exception": false,
     "start_time": "2023-01-02T00:48:13.076121",
     "status": "completed"
    },
    "tags": []
   },
   "outputs": [],
   "source": [
    "import pandas as pd\n",
    "import numpy as np\n",
    "from sklearn.preprocessing import OneHotEncoder\n",
    "from sklearn.preprocessing import LabelEncoder\n",
    "from sklearn.impute import SimpleImputer\n",
    "from sklearn.impute import KNNImputer\n",
    "import seaborn as sns\n",
    "import matplotlib.pyplot as plt\n",
    "import os\n",
    "import ppscore as pps"
   ]
  },
  {
   "cell_type": "code",
   "execution_count": 2,
   "id": "74a03401",
   "metadata": {},
   "outputs": [],
   "source": [
    "os.chdir(\"../etl\")\n",
    "data_path = \"../data/raw/\""
   ]
  },
  {
   "attachments": {},
   "cell_type": "markdown",
   "id": "37370c2e",
   "metadata": {
    "papermill": {
     "duration": 0.014795,
     "end_time": "2023-01-02T00:48:14.610254",
     "exception": false,
     "start_time": "2023-01-02T00:48:14.595459",
     "status": "completed"
    },
    "tags": []
   },
   "source": [
    "## **1. First Glance at Data:**\n",
    "In this section, we take a quick look at data, data types, etc."
   ]
  },
  {
   "attachments": {},
   "cell_type": "markdown",
   "id": "2d82e95f",
   "metadata": {},
   "source": [
    "**1.1 Quick look at data:**"
   ]
  },
  {
   "cell_type": "code",
   "execution_count": 3,
   "id": "d1db534b",
   "metadata": {
    "execution": {
     "iopub.execute_input": "2023-01-02T00:48:14.642258Z",
     "iopub.status.busy": "2023-01-02T00:48:14.641850Z",
     "iopub.status.idle": "2023-01-02T00:48:14.686213Z",
     "shell.execute_reply": "2023-01-02T00:48:14.685300Z"
    },
    "papermill": {
     "duration": 0.062885,
     "end_time": "2023-01-02T00:48:14.688341",
     "exception": false,
     "start_time": "2023-01-02T00:48:14.625456",
     "status": "completed"
    },
    "tags": []
   },
   "outputs": [
    {
     "data": {
      "text/html": [
       "<div>\n",
       "<style scoped>\n",
       "    .dataframe tbody tr th:only-of-type {\n",
       "        vertical-align: middle;\n",
       "    }\n",
       "\n",
       "    .dataframe tbody tr th {\n",
       "        vertical-align: top;\n",
       "    }\n",
       "\n",
       "    .dataframe thead th {\n",
       "        text-align: right;\n",
       "    }\n",
       "</style>\n",
       "<table border=\"1\" class=\"dataframe\">\n",
       "  <thead>\n",
       "    <tr style=\"text-align: right;\">\n",
       "      <th></th>\n",
       "      <th>PassengerId</th>\n",
       "      <th>Survived</th>\n",
       "      <th>Pclass</th>\n",
       "      <th>Name</th>\n",
       "      <th>Sex</th>\n",
       "      <th>Age</th>\n",
       "      <th>SibSp</th>\n",
       "      <th>Parch</th>\n",
       "      <th>Ticket</th>\n",
       "      <th>Fare</th>\n",
       "      <th>Cabin</th>\n",
       "      <th>Embarked</th>\n",
       "    </tr>\n",
       "  </thead>\n",
       "  <tbody>\n",
       "    <tr>\n",
       "      <th>0</th>\n",
       "      <td>1</td>\n",
       "      <td>0</td>\n",
       "      <td>3</td>\n",
       "      <td>Braund, Mr. Owen Harris</td>\n",
       "      <td>male</td>\n",
       "      <td>22.0</td>\n",
       "      <td>1</td>\n",
       "      <td>0</td>\n",
       "      <td>A/5 21171</td>\n",
       "      <td>7.2500</td>\n",
       "      <td>NaN</td>\n",
       "      <td>S</td>\n",
       "    </tr>\n",
       "    <tr>\n",
       "      <th>1</th>\n",
       "      <td>2</td>\n",
       "      <td>1</td>\n",
       "      <td>1</td>\n",
       "      <td>Cumings, Mrs. John Bradley (Florence Briggs Th...</td>\n",
       "      <td>female</td>\n",
       "      <td>38.0</td>\n",
       "      <td>1</td>\n",
       "      <td>0</td>\n",
       "      <td>PC 17599</td>\n",
       "      <td>71.2833</td>\n",
       "      <td>C85</td>\n",
       "      <td>C</td>\n",
       "    </tr>\n",
       "    <tr>\n",
       "      <th>2</th>\n",
       "      <td>3</td>\n",
       "      <td>1</td>\n",
       "      <td>3</td>\n",
       "      <td>Heikkinen, Miss. Laina</td>\n",
       "      <td>female</td>\n",
       "      <td>26.0</td>\n",
       "      <td>0</td>\n",
       "      <td>0</td>\n",
       "      <td>STON/O2. 3101282</td>\n",
       "      <td>7.9250</td>\n",
       "      <td>NaN</td>\n",
       "      <td>S</td>\n",
       "    </tr>\n",
       "    <tr>\n",
       "      <th>3</th>\n",
       "      <td>4</td>\n",
       "      <td>1</td>\n",
       "      <td>1</td>\n",
       "      <td>Futrelle, Mrs. Jacques Heath (Lily May Peel)</td>\n",
       "      <td>female</td>\n",
       "      <td>35.0</td>\n",
       "      <td>1</td>\n",
       "      <td>0</td>\n",
       "      <td>113803</td>\n",
       "      <td>53.1000</td>\n",
       "      <td>C123</td>\n",
       "      <td>S</td>\n",
       "    </tr>\n",
       "    <tr>\n",
       "      <th>4</th>\n",
       "      <td>5</td>\n",
       "      <td>0</td>\n",
       "      <td>3</td>\n",
       "      <td>Allen, Mr. William Henry</td>\n",
       "      <td>male</td>\n",
       "      <td>35.0</td>\n",
       "      <td>0</td>\n",
       "      <td>0</td>\n",
       "      <td>373450</td>\n",
       "      <td>8.0500</td>\n",
       "      <td>NaN</td>\n",
       "      <td>S</td>\n",
       "    </tr>\n",
       "  </tbody>\n",
       "</table>\n",
       "</div>"
      ],
      "text/plain": [
       "   PassengerId  Survived  Pclass  \\\n",
       "0            1         0       3   \n",
       "1            2         1       1   \n",
       "2            3         1       3   \n",
       "3            4         1       1   \n",
       "4            5         0       3   \n",
       "\n",
       "                                                Name     Sex   Age  SibSp  \\\n",
       "0                            Braund, Mr. Owen Harris    male  22.0      1   \n",
       "1  Cumings, Mrs. John Bradley (Florence Briggs Th...  female  38.0      1   \n",
       "2                             Heikkinen, Miss. Laina  female  26.0      0   \n",
       "3       Futrelle, Mrs. Jacques Heath (Lily May Peel)  female  35.0      1   \n",
       "4                           Allen, Mr. William Henry    male  35.0      0   \n",
       "\n",
       "   Parch            Ticket     Fare Cabin Embarked  \n",
       "0      0         A/5 21171   7.2500   NaN        S  \n",
       "1      0          PC 17599  71.2833   C85        C  \n",
       "2      0  STON/O2. 3101282   7.9250   NaN        S  \n",
       "3      0            113803  53.1000  C123        S  \n",
       "4      0            373450   8.0500   NaN        S  "
      ]
     },
     "execution_count": 3,
     "metadata": {},
     "output_type": "execute_result"
    }
   ],
   "source": [
    "train_raw = pd.read_csv(data_path + \"train.csv\")\n",
    "train_raw.head()"
   ]
  },
  {
   "cell_type": "code",
   "execution_count": 4,
   "id": "8afb440e",
   "metadata": {
    "execution": {
     "iopub.execute_input": "2023-01-02T00:48:14.790365Z",
     "iopub.status.busy": "2023-01-02T00:48:14.789241Z",
     "iopub.status.idle": "2023-01-02T00:48:14.818141Z",
     "shell.execute_reply": "2023-01-02T00:48:14.816920Z"
    },
    "papermill": {
     "duration": 0.050711,
     "end_time": "2023-01-02T00:48:14.820778",
     "exception": false,
     "start_time": "2023-01-02T00:48:14.770067",
     "status": "completed"
    },
    "tags": []
   },
   "outputs": [
    {
     "data": {
      "text/html": [
       "<div>\n",
       "<style scoped>\n",
       "    .dataframe tbody tr th:only-of-type {\n",
       "        vertical-align: middle;\n",
       "    }\n",
       "\n",
       "    .dataframe tbody tr th {\n",
       "        vertical-align: top;\n",
       "    }\n",
       "\n",
       "    .dataframe thead th {\n",
       "        text-align: right;\n",
       "    }\n",
       "</style>\n",
       "<table border=\"1\" class=\"dataframe\">\n",
       "  <thead>\n",
       "    <tr style=\"text-align: right;\">\n",
       "      <th></th>\n",
       "      <th>PassengerId</th>\n",
       "      <th>Pclass</th>\n",
       "      <th>Name</th>\n",
       "      <th>Sex</th>\n",
       "      <th>Age</th>\n",
       "      <th>SibSp</th>\n",
       "      <th>Parch</th>\n",
       "      <th>Ticket</th>\n",
       "      <th>Fare</th>\n",
       "      <th>Cabin</th>\n",
       "      <th>Embarked</th>\n",
       "    </tr>\n",
       "  </thead>\n",
       "  <tbody>\n",
       "    <tr>\n",
       "      <th>0</th>\n",
       "      <td>892</td>\n",
       "      <td>3</td>\n",
       "      <td>Kelly, Mr. James</td>\n",
       "      <td>male</td>\n",
       "      <td>34.5</td>\n",
       "      <td>0</td>\n",
       "      <td>0</td>\n",
       "      <td>330911</td>\n",
       "      <td>7.8292</td>\n",
       "      <td>NaN</td>\n",
       "      <td>Q</td>\n",
       "    </tr>\n",
       "    <tr>\n",
       "      <th>1</th>\n",
       "      <td>893</td>\n",
       "      <td>3</td>\n",
       "      <td>Wilkes, Mrs. James (Ellen Needs)</td>\n",
       "      <td>female</td>\n",
       "      <td>47.0</td>\n",
       "      <td>1</td>\n",
       "      <td>0</td>\n",
       "      <td>363272</td>\n",
       "      <td>7.0000</td>\n",
       "      <td>NaN</td>\n",
       "      <td>S</td>\n",
       "    </tr>\n",
       "    <tr>\n",
       "      <th>2</th>\n",
       "      <td>894</td>\n",
       "      <td>2</td>\n",
       "      <td>Myles, Mr. Thomas Francis</td>\n",
       "      <td>male</td>\n",
       "      <td>62.0</td>\n",
       "      <td>0</td>\n",
       "      <td>0</td>\n",
       "      <td>240276</td>\n",
       "      <td>9.6875</td>\n",
       "      <td>NaN</td>\n",
       "      <td>Q</td>\n",
       "    </tr>\n",
       "    <tr>\n",
       "      <th>3</th>\n",
       "      <td>895</td>\n",
       "      <td>3</td>\n",
       "      <td>Wirz, Mr. Albert</td>\n",
       "      <td>male</td>\n",
       "      <td>27.0</td>\n",
       "      <td>0</td>\n",
       "      <td>0</td>\n",
       "      <td>315154</td>\n",
       "      <td>8.6625</td>\n",
       "      <td>NaN</td>\n",
       "      <td>S</td>\n",
       "    </tr>\n",
       "    <tr>\n",
       "      <th>4</th>\n",
       "      <td>896</td>\n",
       "      <td>3</td>\n",
       "      <td>Hirvonen, Mrs. Alexander (Helga E Lindqvist)</td>\n",
       "      <td>female</td>\n",
       "      <td>22.0</td>\n",
       "      <td>1</td>\n",
       "      <td>1</td>\n",
       "      <td>3101298</td>\n",
       "      <td>12.2875</td>\n",
       "      <td>NaN</td>\n",
       "      <td>S</td>\n",
       "    </tr>\n",
       "  </tbody>\n",
       "</table>\n",
       "</div>"
      ],
      "text/plain": [
       "   PassengerId  Pclass                                          Name     Sex  \\\n",
       "0          892       3                              Kelly, Mr. James    male   \n",
       "1          893       3              Wilkes, Mrs. James (Ellen Needs)  female   \n",
       "2          894       2                     Myles, Mr. Thomas Francis    male   \n",
       "3          895       3                              Wirz, Mr. Albert    male   \n",
       "4          896       3  Hirvonen, Mrs. Alexander (Helga E Lindqvist)  female   \n",
       "\n",
       "    Age  SibSp  Parch   Ticket     Fare Cabin Embarked  \n",
       "0  34.5      0      0   330911   7.8292   NaN        Q  \n",
       "1  47.0      1      0   363272   7.0000   NaN        S  \n",
       "2  62.0      0      0   240276   9.6875   NaN        Q  \n",
       "3  27.0      0      0   315154   8.6625   NaN        S  \n",
       "4  22.0      1      1  3101298  12.2875   NaN        S  "
      ]
     },
     "execution_count": 4,
     "metadata": {},
     "output_type": "execute_result"
    }
   ],
   "source": [
    "test_raw = pd.read_csv(data_path + \"test.csv\")\n",
    "test_raw.head()"
   ]
  },
  {
   "attachments": {},
   "cell_type": "markdown",
   "id": "d96236e1",
   "metadata": {},
   "source": [
    "**1.2 Type of the features:**"
   ]
  },
  {
   "cell_type": "code",
   "execution_count": 5,
   "metadata": {},
   "outputs": [
    {
     "name": "stdout",
     "output_type": "stream",
     "text": [
      "#################### train set ####################\n",
      "<class 'pandas.core.frame.DataFrame'>\n",
      "RangeIndex: 891 entries, 0 to 890\n",
      "Data columns (total 12 columns):\n",
      " #   Column       Non-Null Count  Dtype  \n",
      "---  ------       --------------  -----  \n",
      " 0   PassengerId  891 non-null    int64  \n",
      " 1   Survived     891 non-null    int64  \n",
      " 2   Pclass       891 non-null    int64  \n",
      " 3   Name         891 non-null    object \n",
      " 4   Sex          891 non-null    object \n",
      " 5   Age          714 non-null    float64\n",
      " 6   SibSp        891 non-null    int64  \n",
      " 7   Parch        891 non-null    int64  \n",
      " 8   Ticket       891 non-null    object \n",
      " 9   Fare         891 non-null    float64\n",
      " 10  Cabin        204 non-null    object \n",
      " 11  Embarked     889 non-null    object \n",
      "dtypes: float64(2), int64(5), object(5)\n",
      "memory usage: 83.7+ KB\n",
      "None\n",
      "#################### test set ####################\n",
      "<class 'pandas.core.frame.DataFrame'>\n",
      "RangeIndex: 418 entries, 0 to 417\n",
      "Data columns (total 11 columns):\n",
      " #   Column       Non-Null Count  Dtype  \n",
      "---  ------       --------------  -----  \n",
      " 0   PassengerId  418 non-null    int64  \n",
      " 1   Pclass       418 non-null    int64  \n",
      " 2   Name         418 non-null    object \n",
      " 3   Sex          418 non-null    object \n",
      " 4   Age          332 non-null    float64\n",
      " 5   SibSp        418 non-null    int64  \n",
      " 6   Parch        418 non-null    int64  \n",
      " 7   Ticket       418 non-null    object \n",
      " 8   Fare         417 non-null    float64\n",
      " 9   Cabin        91 non-null     object \n",
      " 10  Embarked     418 non-null    object \n",
      "dtypes: float64(2), int64(4), object(5)\n",
      "memory usage: 36.0+ KB\n",
      "None\n"
     ]
    }
   ],
   "source": [
    "print('#'*20,'train set','#'*20)\n",
    "print(train_raw.info())\n",
    "print('#'*20,'test set','#'*20)\n",
    "print(test_raw.info())"
   ]
  },
  {
   "attachments": {},
   "cell_type": "markdown",
   "id": "23c0af83",
   "metadata": {
    "papermill": {
     "duration": 0.01705,
     "end_time": "2023-01-02T00:48:14.903826",
     "exception": false,
     "start_time": "2023-01-02T00:48:14.886776",
     "status": "completed"
    },
    "tags": []
   },
   "source": [
    "**1.3 Number of missing data points:**"
   ]
  },
  {
   "cell_type": "code",
   "execution_count": 6,
   "id": "a0fa7abd",
   "metadata": {
    "execution": {
     "iopub.execute_input": "2023-01-02T00:48:14.938733Z",
     "iopub.status.busy": "2023-01-02T00:48:14.938295Z",
     "iopub.status.idle": "2023-01-02T00:48:14.948187Z",
     "shell.execute_reply": "2023-01-02T00:48:14.946847Z"
    },
    "papermill": {
     "duration": 0.030498,
     "end_time": "2023-01-02T00:48:14.950641",
     "exception": false,
     "start_time": "2023-01-02T00:48:14.920143",
     "status": "completed"
    },
    "tags": []
   },
   "outputs": [
    {
     "data": {
      "text/plain": [
       "PassengerId      0\n",
       "Survived         0\n",
       "Pclass           0\n",
       "Name             0\n",
       "Sex              0\n",
       "Age            177\n",
       "SibSp            0\n",
       "Parch            0\n",
       "Ticket           0\n",
       "Fare             0\n",
       "Cabin          687\n",
       "Embarked         2\n",
       "dtype: int64"
      ]
     },
     "execution_count": 6,
     "metadata": {},
     "output_type": "execute_result"
    }
   ],
   "source": [
    "train_raw.isna().sum()"
   ]
  },
  {
   "cell_type": "code",
   "execution_count": 7,
   "id": "35ea13f7",
   "metadata": {
    "execution": {
     "iopub.execute_input": "2023-01-02T00:48:14.984334Z",
     "iopub.status.busy": "2023-01-02T00:48:14.983913Z",
     "iopub.status.idle": "2023-01-02T00:48:14.994628Z",
     "shell.execute_reply": "2023-01-02T00:48:14.993474Z"
    },
    "papermill": {
     "duration": 0.030411,
     "end_time": "2023-01-02T00:48:14.996984",
     "exception": false,
     "start_time": "2023-01-02T00:48:14.966573",
     "status": "completed"
    },
    "tags": []
   },
   "outputs": [
    {
     "data": {
      "text/plain": [
       "PassengerId      0\n",
       "Pclass           0\n",
       "Name             0\n",
       "Sex              0\n",
       "Age             86\n",
       "SibSp            0\n",
       "Parch            0\n",
       "Ticket           0\n",
       "Fare             1\n",
       "Cabin          327\n",
       "Embarked         0\n",
       "dtype: int64"
      ]
     },
     "execution_count": 7,
     "metadata": {},
     "output_type": "execute_result"
    }
   ],
   "source": [
    "test_raw.isna().sum()"
   ]
  },
  {
   "attachments": {},
   "cell_type": "markdown",
   "id": "6ce9d1a8",
   "metadata": {},
   "source": [
    "**1.4 General Statistics:**"
   ]
  },
  {
   "cell_type": "code",
   "execution_count": 8,
   "id": "98ce3452",
   "metadata": {
    "execution": {
     "iopub.execute_input": "2023-01-02T00:48:15.031284Z",
     "iopub.status.busy": "2023-01-02T00:48:15.030896Z",
     "iopub.status.idle": "2023-01-02T00:48:15.067458Z",
     "shell.execute_reply": "2023-01-02T00:48:15.066281Z"
    },
    "papermill": {
     "duration": 0.057271,
     "end_time": "2023-01-02T00:48:15.070323",
     "exception": false,
     "start_time": "2023-01-02T00:48:15.013052",
     "status": "completed"
    },
    "tags": []
   },
   "outputs": [
    {
     "data": {
      "text/html": [
       "<div>\n",
       "<style scoped>\n",
       "    .dataframe tbody tr th:only-of-type {\n",
       "        vertical-align: middle;\n",
       "    }\n",
       "\n",
       "    .dataframe tbody tr th {\n",
       "        vertical-align: top;\n",
       "    }\n",
       "\n",
       "    .dataframe thead th {\n",
       "        text-align: right;\n",
       "    }\n",
       "</style>\n",
       "<table border=\"1\" class=\"dataframe\">\n",
       "  <thead>\n",
       "    <tr style=\"text-align: right;\">\n",
       "      <th></th>\n",
       "      <th>PassengerId</th>\n",
       "      <th>Survived</th>\n",
       "      <th>Pclass</th>\n",
       "      <th>Age</th>\n",
       "      <th>SibSp</th>\n",
       "      <th>Parch</th>\n",
       "      <th>Fare</th>\n",
       "    </tr>\n",
       "  </thead>\n",
       "  <tbody>\n",
       "    <tr>\n",
       "      <th>count</th>\n",
       "      <td>891.000000</td>\n",
       "      <td>891.000000</td>\n",
       "      <td>891.000000</td>\n",
       "      <td>714.000000</td>\n",
       "      <td>891.000000</td>\n",
       "      <td>891.000000</td>\n",
       "      <td>891.000000</td>\n",
       "    </tr>\n",
       "    <tr>\n",
       "      <th>mean</th>\n",
       "      <td>446.000000</td>\n",
       "      <td>0.383838</td>\n",
       "      <td>2.308642</td>\n",
       "      <td>29.699118</td>\n",
       "      <td>0.523008</td>\n",
       "      <td>0.381594</td>\n",
       "      <td>32.204208</td>\n",
       "    </tr>\n",
       "    <tr>\n",
       "      <th>std</th>\n",
       "      <td>257.353842</td>\n",
       "      <td>0.486592</td>\n",
       "      <td>0.836071</td>\n",
       "      <td>14.526497</td>\n",
       "      <td>1.102743</td>\n",
       "      <td>0.806057</td>\n",
       "      <td>49.693429</td>\n",
       "    </tr>\n",
       "    <tr>\n",
       "      <th>min</th>\n",
       "      <td>1.000000</td>\n",
       "      <td>0.000000</td>\n",
       "      <td>1.000000</td>\n",
       "      <td>0.420000</td>\n",
       "      <td>0.000000</td>\n",
       "      <td>0.000000</td>\n",
       "      <td>0.000000</td>\n",
       "    </tr>\n",
       "    <tr>\n",
       "      <th>25%</th>\n",
       "      <td>223.500000</td>\n",
       "      <td>0.000000</td>\n",
       "      <td>2.000000</td>\n",
       "      <td>20.125000</td>\n",
       "      <td>0.000000</td>\n",
       "      <td>0.000000</td>\n",
       "      <td>7.910400</td>\n",
       "    </tr>\n",
       "    <tr>\n",
       "      <th>50%</th>\n",
       "      <td>446.000000</td>\n",
       "      <td>0.000000</td>\n",
       "      <td>3.000000</td>\n",
       "      <td>28.000000</td>\n",
       "      <td>0.000000</td>\n",
       "      <td>0.000000</td>\n",
       "      <td>14.454200</td>\n",
       "    </tr>\n",
       "    <tr>\n",
       "      <th>75%</th>\n",
       "      <td>668.500000</td>\n",
       "      <td>1.000000</td>\n",
       "      <td>3.000000</td>\n",
       "      <td>38.000000</td>\n",
       "      <td>1.000000</td>\n",
       "      <td>0.000000</td>\n",
       "      <td>31.000000</td>\n",
       "    </tr>\n",
       "    <tr>\n",
       "      <th>max</th>\n",
       "      <td>891.000000</td>\n",
       "      <td>1.000000</td>\n",
       "      <td>3.000000</td>\n",
       "      <td>80.000000</td>\n",
       "      <td>8.000000</td>\n",
       "      <td>6.000000</td>\n",
       "      <td>512.329200</td>\n",
       "    </tr>\n",
       "  </tbody>\n",
       "</table>\n",
       "</div>"
      ],
      "text/plain": [
       "       PassengerId    Survived      Pclass         Age       SibSp  \\\n",
       "count   891.000000  891.000000  891.000000  714.000000  891.000000   \n",
       "mean    446.000000    0.383838    2.308642   29.699118    0.523008   \n",
       "std     257.353842    0.486592    0.836071   14.526497    1.102743   \n",
       "min       1.000000    0.000000    1.000000    0.420000    0.000000   \n",
       "25%     223.500000    0.000000    2.000000   20.125000    0.000000   \n",
       "50%     446.000000    0.000000    3.000000   28.000000    0.000000   \n",
       "75%     668.500000    1.000000    3.000000   38.000000    1.000000   \n",
       "max     891.000000    1.000000    3.000000   80.000000    8.000000   \n",
       "\n",
       "            Parch        Fare  \n",
       "count  891.000000  891.000000  \n",
       "mean     0.381594   32.204208  \n",
       "std      0.806057   49.693429  \n",
       "min      0.000000    0.000000  \n",
       "25%      0.000000    7.910400  \n",
       "50%      0.000000   14.454200  \n",
       "75%      0.000000   31.000000  \n",
       "max      6.000000  512.329200  "
      ]
     },
     "execution_count": 8,
     "metadata": {},
     "output_type": "execute_result"
    }
   ],
   "source": [
    "train_raw.describe()"
   ]
  },
  {
   "cell_type": "code",
   "execution_count": 9,
   "id": "fa44fb7e",
   "metadata": {},
   "outputs": [
    {
     "data": {
      "text/html": [
       "<div>\n",
       "<style scoped>\n",
       "    .dataframe tbody tr th:only-of-type {\n",
       "        vertical-align: middle;\n",
       "    }\n",
       "\n",
       "    .dataframe tbody tr th {\n",
       "        vertical-align: top;\n",
       "    }\n",
       "\n",
       "    .dataframe thead th {\n",
       "        text-align: right;\n",
       "    }\n",
       "</style>\n",
       "<table border=\"1\" class=\"dataframe\">\n",
       "  <thead>\n",
       "    <tr style=\"text-align: right;\">\n",
       "      <th></th>\n",
       "      <th>PassengerId</th>\n",
       "      <th>Pclass</th>\n",
       "      <th>Age</th>\n",
       "      <th>SibSp</th>\n",
       "      <th>Parch</th>\n",
       "      <th>Fare</th>\n",
       "    </tr>\n",
       "  </thead>\n",
       "  <tbody>\n",
       "    <tr>\n",
       "      <th>count</th>\n",
       "      <td>418.000000</td>\n",
       "      <td>418.000000</td>\n",
       "      <td>332.000000</td>\n",
       "      <td>418.000000</td>\n",
       "      <td>418.000000</td>\n",
       "      <td>417.000000</td>\n",
       "    </tr>\n",
       "    <tr>\n",
       "      <th>mean</th>\n",
       "      <td>1100.500000</td>\n",
       "      <td>2.265550</td>\n",
       "      <td>30.272590</td>\n",
       "      <td>0.447368</td>\n",
       "      <td>0.392344</td>\n",
       "      <td>35.627188</td>\n",
       "    </tr>\n",
       "    <tr>\n",
       "      <th>std</th>\n",
       "      <td>120.810458</td>\n",
       "      <td>0.841838</td>\n",
       "      <td>14.181209</td>\n",
       "      <td>0.896760</td>\n",
       "      <td>0.981429</td>\n",
       "      <td>55.907576</td>\n",
       "    </tr>\n",
       "    <tr>\n",
       "      <th>min</th>\n",
       "      <td>892.000000</td>\n",
       "      <td>1.000000</td>\n",
       "      <td>0.170000</td>\n",
       "      <td>0.000000</td>\n",
       "      <td>0.000000</td>\n",
       "      <td>0.000000</td>\n",
       "    </tr>\n",
       "    <tr>\n",
       "      <th>25%</th>\n",
       "      <td>996.250000</td>\n",
       "      <td>1.000000</td>\n",
       "      <td>21.000000</td>\n",
       "      <td>0.000000</td>\n",
       "      <td>0.000000</td>\n",
       "      <td>7.895800</td>\n",
       "    </tr>\n",
       "    <tr>\n",
       "      <th>50%</th>\n",
       "      <td>1100.500000</td>\n",
       "      <td>3.000000</td>\n",
       "      <td>27.000000</td>\n",
       "      <td>0.000000</td>\n",
       "      <td>0.000000</td>\n",
       "      <td>14.454200</td>\n",
       "    </tr>\n",
       "    <tr>\n",
       "      <th>75%</th>\n",
       "      <td>1204.750000</td>\n",
       "      <td>3.000000</td>\n",
       "      <td>39.000000</td>\n",
       "      <td>1.000000</td>\n",
       "      <td>0.000000</td>\n",
       "      <td>31.500000</td>\n",
       "    </tr>\n",
       "    <tr>\n",
       "      <th>max</th>\n",
       "      <td>1309.000000</td>\n",
       "      <td>3.000000</td>\n",
       "      <td>76.000000</td>\n",
       "      <td>8.000000</td>\n",
       "      <td>9.000000</td>\n",
       "      <td>512.329200</td>\n",
       "    </tr>\n",
       "  </tbody>\n",
       "</table>\n",
       "</div>"
      ],
      "text/plain": [
       "       PassengerId      Pclass         Age       SibSp       Parch        Fare\n",
       "count   418.000000  418.000000  332.000000  418.000000  418.000000  417.000000\n",
       "mean   1100.500000    2.265550   30.272590    0.447368    0.392344   35.627188\n",
       "std     120.810458    0.841838   14.181209    0.896760    0.981429   55.907576\n",
       "min     892.000000    1.000000    0.170000    0.000000    0.000000    0.000000\n",
       "25%     996.250000    1.000000   21.000000    0.000000    0.000000    7.895800\n",
       "50%    1100.500000    3.000000   27.000000    0.000000    0.000000   14.454200\n",
       "75%    1204.750000    3.000000   39.000000    1.000000    0.000000   31.500000\n",
       "max    1309.000000    3.000000   76.000000    8.000000    9.000000  512.329200"
      ]
     },
     "execution_count": 9,
     "metadata": {},
     "output_type": "execute_result"
    }
   ],
   "source": [
    "test_raw.describe()"
   ]
  },
  {
   "cell_type": "code",
   "execution_count": 10,
   "id": "e74c87aa",
   "metadata": {
    "execution": {
     "iopub.execute_input": "2023-01-02T00:48:15.105443Z",
     "iopub.status.busy": "2023-01-02T00:48:15.104626Z",
     "iopub.status.idle": "2023-01-02T00:48:15.131833Z",
     "shell.execute_reply": "2023-01-02T00:48:15.130575Z"
    },
    "papermill": {
     "duration": 0.047927,
     "end_time": "2023-01-02T00:48:15.134703",
     "exception": false,
     "start_time": "2023-01-02T00:48:15.086776",
     "status": "completed"
    },
    "tags": []
   },
   "outputs": [
    {
     "data": {
      "text/html": [
       "<div>\n",
       "<style scoped>\n",
       "    .dataframe tbody tr th:only-of-type {\n",
       "        vertical-align: middle;\n",
       "    }\n",
       "\n",
       "    .dataframe tbody tr th {\n",
       "        vertical-align: top;\n",
       "    }\n",
       "\n",
       "    .dataframe thead th {\n",
       "        text-align: right;\n",
       "    }\n",
       "</style>\n",
       "<table border=\"1\" class=\"dataframe\">\n",
       "  <thead>\n",
       "    <tr style=\"text-align: right;\">\n",
       "      <th></th>\n",
       "      <th>Name</th>\n",
       "      <th>Sex</th>\n",
       "      <th>Ticket</th>\n",
       "      <th>Cabin</th>\n",
       "      <th>Embarked</th>\n",
       "    </tr>\n",
       "  </thead>\n",
       "  <tbody>\n",
       "    <tr>\n",
       "      <th>count</th>\n",
       "      <td>891</td>\n",
       "      <td>891</td>\n",
       "      <td>891</td>\n",
       "      <td>204</td>\n",
       "      <td>889</td>\n",
       "    </tr>\n",
       "    <tr>\n",
       "      <th>unique</th>\n",
       "      <td>891</td>\n",
       "      <td>2</td>\n",
       "      <td>681</td>\n",
       "      <td>147</td>\n",
       "      <td>3</td>\n",
       "    </tr>\n",
       "    <tr>\n",
       "      <th>top</th>\n",
       "      <td>Braund, Mr. Owen Harris</td>\n",
       "      <td>male</td>\n",
       "      <td>347082</td>\n",
       "      <td>B96 B98</td>\n",
       "      <td>S</td>\n",
       "    </tr>\n",
       "    <tr>\n",
       "      <th>freq</th>\n",
       "      <td>1</td>\n",
       "      <td>577</td>\n",
       "      <td>7</td>\n",
       "      <td>4</td>\n",
       "      <td>644</td>\n",
       "    </tr>\n",
       "  </tbody>\n",
       "</table>\n",
       "</div>"
      ],
      "text/plain": [
       "                           Name   Sex  Ticket    Cabin Embarked\n",
       "count                       891   891     891      204      889\n",
       "unique                      891     2     681      147        3\n",
       "top     Braund, Mr. Owen Harris  male  347082  B96 B98        S\n",
       "freq                          1   577       7        4      644"
      ]
     },
     "execution_count": 10,
     "metadata": {},
     "output_type": "execute_result"
    }
   ],
   "source": [
    "train_raw.describe(include=['O'])"
   ]
  },
  {
   "cell_type": "code",
   "execution_count": 11,
   "id": "1daa1699",
   "metadata": {},
   "outputs": [
    {
     "data": {
      "text/html": [
       "<div>\n",
       "<style scoped>\n",
       "    .dataframe tbody tr th:only-of-type {\n",
       "        vertical-align: middle;\n",
       "    }\n",
       "\n",
       "    .dataframe tbody tr th {\n",
       "        vertical-align: top;\n",
       "    }\n",
       "\n",
       "    .dataframe thead th {\n",
       "        text-align: right;\n",
       "    }\n",
       "</style>\n",
       "<table border=\"1\" class=\"dataframe\">\n",
       "  <thead>\n",
       "    <tr style=\"text-align: right;\">\n",
       "      <th></th>\n",
       "      <th>Name</th>\n",
       "      <th>Sex</th>\n",
       "      <th>Ticket</th>\n",
       "      <th>Cabin</th>\n",
       "      <th>Embarked</th>\n",
       "    </tr>\n",
       "  </thead>\n",
       "  <tbody>\n",
       "    <tr>\n",
       "      <th>count</th>\n",
       "      <td>418</td>\n",
       "      <td>418</td>\n",
       "      <td>418</td>\n",
       "      <td>91</td>\n",
       "      <td>418</td>\n",
       "    </tr>\n",
       "    <tr>\n",
       "      <th>unique</th>\n",
       "      <td>418</td>\n",
       "      <td>2</td>\n",
       "      <td>363</td>\n",
       "      <td>76</td>\n",
       "      <td>3</td>\n",
       "    </tr>\n",
       "    <tr>\n",
       "      <th>top</th>\n",
       "      <td>Kelly, Mr. James</td>\n",
       "      <td>male</td>\n",
       "      <td>PC 17608</td>\n",
       "      <td>B57 B59 B63 B66</td>\n",
       "      <td>S</td>\n",
       "    </tr>\n",
       "    <tr>\n",
       "      <th>freq</th>\n",
       "      <td>1</td>\n",
       "      <td>266</td>\n",
       "      <td>5</td>\n",
       "      <td>3</td>\n",
       "      <td>270</td>\n",
       "    </tr>\n",
       "  </tbody>\n",
       "</table>\n",
       "</div>"
      ],
      "text/plain": [
       "                    Name   Sex    Ticket            Cabin Embarked\n",
       "count                418   418       418               91      418\n",
       "unique               418     2       363               76        3\n",
       "top     Kelly, Mr. James  male  PC 17608  B57 B59 B63 B66        S\n",
       "freq                   1   266         5                3      270"
      ]
     },
     "execution_count": 11,
     "metadata": {},
     "output_type": "execute_result"
    }
   ],
   "source": [
    "test_raw.describe(include=['O'])"
   ]
  },
  {
   "attachments": {},
   "cell_type": "markdown",
   "id": "19cdd6fe",
   "metadata": {},
   "source": [
    "## **2. Preparing Data:**\n",
    "In this section, we apply some data preparation steps."
   ]
  },
  {
   "attachments": {},
   "cell_type": "markdown",
   "id": "c115895f",
   "metadata": {
    "papermill": {
     "duration": 0.017202,
     "end_time": "2023-01-02T00:48:15.235853",
     "exception": false,
     "start_time": "2023-01-02T00:48:15.218651",
     "status": "completed"
    },
    "tags": []
   },
   "source": [
    "**2.1 Checking the values of \"Name\" and \"PassengerId\":** \n",
    "\n",
    "The values of \"Name\" and \"PassengerId\" are unique for each passenger. So, it might be better to drop these features."
   ]
  },
  {
   "cell_type": "code",
   "execution_count": 12,
   "id": "b85b1bf2",
   "metadata": {},
   "outputs": [
    {
     "data": {
      "text/plain": [
       "Braund, Mr. Owen Harris                     1\n",
       "Boulos, Mr. Hanna                           1\n",
       "Frolicher-Stehli, Mr. Maxmillian            1\n",
       "Gilinski, Mr. Eliezer                       1\n",
       "Murdlin, Mr. Joseph                         1\n",
       "                                           ..\n",
       "Kelly, Miss. Anna Katherine \"Annie Kate\"    1\n",
       "McCoy, Mr. Bernard                          1\n",
       "Johnson, Mr. William Cahoone Jr             1\n",
       "Keane, Miss. Nora A                         1\n",
       "Dooley, Mr. Patrick                         1\n",
       "Name: Name, Length: 891, dtype: int64"
      ]
     },
     "execution_count": 12,
     "metadata": {},
     "output_type": "execute_result"
    }
   ],
   "source": [
    "train_raw['Name'].value_counts()"
   ]
  },
  {
   "cell_type": "code",
   "execution_count": 13,
   "id": "ccc28b4e",
   "metadata": {},
   "outputs": [
    {
     "data": {
      "text/plain": [
       "1      1\n",
       "599    1\n",
       "588    1\n",
       "589    1\n",
       "590    1\n",
       "      ..\n",
       "301    1\n",
       "302    1\n",
       "303    1\n",
       "304    1\n",
       "891    1\n",
       "Name: PassengerId, Length: 891, dtype: int64"
      ]
     },
     "execution_count": 13,
     "metadata": {},
     "output_type": "execute_result"
    }
   ],
   "source": [
    "train_raw['PassengerId'].value_counts()"
   ]
  },
  {
   "attachments": {},
   "cell_type": "markdown",
   "id": "187490f1",
   "metadata": {},
   "source": [
    "**2.2 Checking the values of \"Ticket\":**\n",
    "\n",
    "We check the values of the feature \"Ticket\" to see how unique they are. This feature seems to be useless for developing the models."
   ]
  },
  {
   "cell_type": "code",
   "execution_count": 14,
   "id": "c32a164c",
   "metadata": {
    "execution": {
     "iopub.execute_input": "2023-01-02T00:48:15.271850Z",
     "iopub.status.busy": "2023-01-02T00:48:15.271421Z",
     "iopub.status.idle": "2023-01-02T00:48:15.282223Z",
     "shell.execute_reply": "2023-01-02T00:48:15.281030Z"
    },
    "papermill": {
     "duration": 0.031811,
     "end_time": "2023-01-02T00:48:15.284860",
     "exception": false,
     "start_time": "2023-01-02T00:48:15.253049",
     "status": "completed"
    },
    "tags": []
   },
   "outputs": [
    {
     "data": {
      "text/plain": [
       "347082      7\n",
       "CA. 2343    7\n",
       "1601        7\n",
       "3101295     6\n",
       "CA 2144     6\n",
       "           ..\n",
       "9234        1\n",
       "19988       1\n",
       "2693        1\n",
       "PC 17612    1\n",
       "370376      1\n",
       "Name: Ticket, Length: 681, dtype: int64"
      ]
     },
     "execution_count": 14,
     "metadata": {},
     "output_type": "execute_result"
    }
   ],
   "source": [
    "train_raw['Ticket'].value_counts()"
   ]
  },
  {
   "attachments": {},
   "cell_type": "markdown",
   "id": "fdcaf39a",
   "metadata": {
    "papermill": {
     "duration": 0.016463,
     "end_time": "2023-01-02T00:48:15.318191",
     "exception": false,
     "start_time": "2023-01-02T00:48:15.301728",
     "status": "completed"
    },
    "tags": []
   },
   "source": [
    "As we can see, there are 681 different ticket numbers for 891 passengers. It is probable that all members of a family have the same ticket number. So, it apparently dosen't contain valuable information we can use, other than we conclude that if a member of a family survived, the other members probably survived, too.\n",
    "\n",
    "On the other hand, the feature \"Cabin\" has 687 missing values (out of 891). Moreover, it may present unique values. Lets check it."
   ]
  },
  {
   "cell_type": "code",
   "execution_count": 15,
   "id": "933d2109",
   "metadata": {
    "execution": {
     "iopub.execute_input": "2023-01-02T00:48:15.354385Z",
     "iopub.status.busy": "2023-01-02T00:48:15.353324Z",
     "iopub.status.idle": "2023-01-02T00:48:15.363300Z",
     "shell.execute_reply": "2023-01-02T00:48:15.362238Z"
    },
    "papermill": {
     "duration": 0.030605,
     "end_time": "2023-01-02T00:48:15.365697",
     "exception": false,
     "start_time": "2023-01-02T00:48:15.335092",
     "status": "completed"
    },
    "tags": []
   },
   "outputs": [
    {
     "data": {
      "text/plain": [
       "B96 B98        4\n",
       "G6             4\n",
       "C23 C25 C27    4\n",
       "C22 C26        3\n",
       "F33            3\n",
       "              ..\n",
       "E34            1\n",
       "C7             1\n",
       "C54            1\n",
       "E36            1\n",
       "C148           1\n",
       "Name: Cabin, Length: 147, dtype: int64"
      ]
     },
     "execution_count": 15,
     "metadata": {},
     "output_type": "execute_result"
    }
   ],
   "source": [
    "train_raw['Cabin'].value_counts()"
   ]
  },
  {
   "attachments": {},
   "cell_type": "markdown",
   "id": "5155eb85",
   "metadata": {
    "papermill": {
     "duration": 0.01644,
     "end_time": "2023-01-02T00:48:15.399148",
     "exception": false,
     "start_time": "2023-01-02T00:48:15.382708",
     "status": "completed"
    },
    "tags": []
   },
   "source": [
    "So, it contains 147 unique values (out of 204 recorded values). So, it doesn't look like necessary to keep this feature."
   ]
  },
  {
   "attachments": {},
   "cell_type": "markdown",
   "id": "c369a702",
   "metadata": {
    "papermill": {
     "duration": 0.016361,
     "end_time": "2023-01-02T00:48:15.479178",
     "exception": false,
     "start_time": "2023-01-02T00:48:15.462817",
     "status": "completed"
    },
    "tags": []
   },
   "source": [
    "**2.3 Binarizing 'Sex':**\n",
    "\n",
    "The values of 'Sex' in its current form cannot be used for model training. So, lets change 'Sex' to binary values."
   ]
  },
  {
   "cell_type": "code",
   "execution_count": 16,
   "id": "24b5b97f",
   "metadata": {
    "execution": {
     "iopub.execute_input": "2023-01-02T00:48:15.514642Z",
     "iopub.status.busy": "2023-01-02T00:48:15.514210Z",
     "iopub.status.idle": "2023-01-02T00:48:15.525171Z",
     "shell.execute_reply": "2023-01-02T00:48:15.524227Z"
    },
    "papermill": {
     "duration": 0.031449,
     "end_time": "2023-01-02T00:48:15.527454",
     "exception": false,
     "start_time": "2023-01-02T00:48:15.496005",
     "status": "completed"
    },
    "tags": []
   },
   "outputs": [
    {
     "data": {
      "text/plain": [
       "male      577\n",
       "female    314\n",
       "Name: Sex, dtype: int64"
      ]
     },
     "execution_count": 16,
     "metadata": {},
     "output_type": "execute_result"
    }
   ],
   "source": [
    "train_raw['Sex'].value_counts()"
   ]
  },
  {
   "cell_type": "code",
   "execution_count": 17,
   "id": "a4fa865b",
   "metadata": {
    "execution": {
     "iopub.execute_input": "2023-01-02T00:48:15.564621Z",
     "iopub.status.busy": "2023-01-02T00:48:15.564139Z",
     "iopub.status.idle": "2023-01-02T00:48:15.580244Z",
     "shell.execute_reply": "2023-01-02T00:48:15.579305Z"
    },
    "papermill": {
     "duration": 0.037566,
     "end_time": "2023-01-02T00:48:15.582713",
     "exception": false,
     "start_time": "2023-01-02T00:48:15.545147",
     "status": "completed"
    },
    "tags": []
   },
   "outputs": [
    {
     "data": {
      "text/plain": [
       "0    577\n",
       "1    314\n",
       "Name: Sex, dtype: int64"
      ]
     },
     "execution_count": 17,
     "metadata": {},
     "output_type": "execute_result"
    }
   ],
   "source": [
    "# Since we are going to transform data, we need to copy the data first to avoid changing the original data\n",
    "train_df = train_raw.copy()\n",
    "test_df = test_raw.copy()\n",
    "\n",
    "train_df.loc[train_df['Sex']=='male', 'Sex'] = 0\n",
    "train_df.loc[train_df['Sex']=='female', 'Sex'] = 1\n",
    "\n",
    "test_df.loc[test_df['Sex']=='male', 'Sex'] = 0\n",
    "test_df.loc[test_df['Sex']=='female', 'Sex'] = 1\n",
    "\n",
    "# change the type of column 'Sex' to int\n",
    "train_df['Sex'] = train_df['Sex'].astype('int')\n",
    "test_df['Sex'] = test_df['Sex'].astype('int')\n",
    "\n",
    "train_df['Sex'].value_counts()"
   ]
  },
  {
   "attachments": {},
   "cell_type": "markdown",
   "id": "a25dbf94",
   "metadata": {},
   "source": [
    "**2.4 Making a new feature 'FamilySize':**\n",
    "\n",
    "We can make a new feature representing the family size by integrating 'SibSp' and 'Parch'. In this case, we may decide to drop 'SibSp' and 'Parch' from the datset."
   ]
  },
  {
   "cell_type": "code",
   "execution_count": 18,
   "id": "390c5a77",
   "metadata": {},
   "outputs": [
    {
     "data": {
      "text/plain": [
       "0     537\n",
       "1     161\n",
       "2     102\n",
       "3      29\n",
       "5      22\n",
       "4      15\n",
       "6      12\n",
       "10      7\n",
       "7       6\n",
       "Name: FamilySize, dtype: int64"
      ]
     },
     "execution_count": 18,
     "metadata": {},
     "output_type": "execute_result"
    }
   ],
   "source": [
    "train_df['FamilySize'] = train_df['SibSp'] + train_df['Parch']\n",
    "test_df['FamilySize'] = test_df['SibSp'] + test_df['Parch']\n",
    "\n",
    "train_df['FamilySize'].value_counts()"
   ]
  },
  {
   "attachments": {},
   "cell_type": "markdown",
   "id": "3c21ea67",
   "metadata": {
    "papermill": {
     "duration": 0.017365,
     "end_time": "2023-01-02T00:48:15.617973",
     "exception": false,
     "start_time": "2023-01-02T00:48:15.600608",
     "status": "completed"
    },
    "tags": []
   },
   "source": [
    "**2.5 Applying one-hot encoding to 'Pclass' and 'Embarked':**\n",
    "\n",
    "'Pclass' has ordinal integer values which can be 1, 2, or 3. 'Embarked' has a categorical values which can be S, C, or Q. If we want to use 'Embarked', we have to transform this feature. So, a good practice is to apply one-hot encoding to 'Pclass' and 'Embarked'."
   ]
  },
  {
   "cell_type": "code",
   "execution_count": 19,
   "id": "e2524c96",
   "metadata": {},
   "outputs": [
    {
     "name": "stdout",
     "output_type": "stream",
     "text": [
      "The values of Pcalss can be [3 1 2].\n",
      "The values of Embarked can be ['S' 'C' 'Q' nan].\n"
     ]
    }
   ],
   "source": [
    "print(f\"The values of Pcalss can be {train_df['Pclass'].unique()}.\")\n",
    "print(f\"The values of Embarked can be {train_df['Embarked'].unique()}.\")"
   ]
  },
  {
   "cell_type": "code",
   "execution_count": 20,
   "id": "f52483ea",
   "metadata": {
    "execution": {
     "iopub.execute_input": "2023-01-02T00:48:15.701581Z",
     "iopub.status.busy": "2023-01-02T00:48:15.700675Z",
     "iopub.status.idle": "2023-01-02T00:48:15.720270Z",
     "shell.execute_reply": "2023-01-02T00:48:15.719039Z"
    },
    "papermill": {
     "duration": 0.04113,
     "end_time": "2023-01-02T00:48:15.723234",
     "exception": false,
     "start_time": "2023-01-02T00:48:15.682104",
     "status": "completed"
    },
    "tags": []
   },
   "outputs": [],
   "source": [
    "enc = OneHotEncoder(handle_unknown='ignore')\n",
    "enc.fit(train_df[['Pclass']])\n",
    "Pclass_train_df = pd.DataFrame(enc.transform(train_df[['Pclass']]).toarray())\n",
    "Pclass_test_df = pd.DataFrame(enc.transform(test_df[['Pclass']]).toarray())\n",
    "\n",
    "# adding the new features to the datasets\n",
    "train_df[['Pc1','Pc2','Pc3']] = Pclass_train_df.copy()\n",
    "test_df[['Pc1','Pc2','Pc3']] = Pclass_test_df.copy()"
   ]
  },
  {
   "attachments": {},
   "cell_type": "markdown",
   "id": "ee73e694",
   "metadata": {
    "papermill": {
     "duration": 0.017578,
     "end_time": "2023-01-02T00:48:15.758849",
     "exception": false,
     "start_time": "2023-01-02T00:48:15.741271",
     "status": "completed"
    },
    "tags": []
   },
   "source": [
    "Now, lets apply one hot encoding to the feature 'Embarked'. This feature has 2 missing values in the train set."
   ]
  },
  {
   "attachments": {},
   "cell_type": "markdown",
   "id": "52b658c7",
   "metadata": {
    "papermill": {
     "duration": 0.018266,
     "end_time": "2023-01-02T00:48:15.846524",
     "exception": false,
     "start_time": "2023-01-02T00:48:15.828258",
     "status": "completed"
    },
    "tags": []
   },
   "source": [
    "Considering (1) the missing values in \"Embarked\", (2) the fact that to use \"KNNImputer\", we have to convert the categorical values, and (3) the fact that to use \"OneHotEncoder\" we should not have np.nan (missing) values:\n",
    "\n",
    "We implement the procedure explained in https://stackoverflow.com/questions/62868129/cyclical-loop-between-onehotencoder-and-knnimpute-in-scikit-learn:\n",
    "\n",
    "* Fill categorical missings with pandas or SimpleImputer with the string \"missing\".\n",
    "* Use OneHotEncoder then.\n",
    "* Use the one-hot encoder's get_feature_names to identify the columns corresponding to each original feature, and in particular the \"missing\" indicator.\n",
    "* For each row and each original categorical feature, when the 1 is in the \"missing\" column, replace the 0's with np.nan; then delete the missing indicator column.\n",
    "* Now everything should be set up to run KNNImputer.\n",
    "* Finally, if desired, postprocess the imputed categorical-encoding columns. (Simply rounding might get you an all-zeros row for a categorical feature, but I don't think with KNNImputer you could get more than one 1 in a row. You could argmax instead to get back exactly one 1.)"
   ]
  },
  {
   "attachments": {},
   "cell_type": "markdown",
   "id": "6d98ca2b",
   "metadata": {
    "papermill": {
     "duration": 0.016992,
     "end_time": "2023-01-02T00:48:15.881403",
     "exception": false,
     "start_time": "2023-01-02T00:48:15.864411",
     "status": "completed"
    },
    "tags": []
   },
   "source": [
    "First, we replace the mising values of 'Embarked' with 'Missing' using 'SimpleImputer'."
   ]
  },
  {
   "cell_type": "code",
   "execution_count": 21,
   "id": "1c8f9b37",
   "metadata": {
    "execution": {
     "iopub.execute_input": "2023-01-02T00:48:15.918333Z",
     "iopub.status.busy": "2023-01-02T00:48:15.917565Z",
     "iopub.status.idle": "2023-01-02T00:48:15.931027Z",
     "shell.execute_reply": "2023-01-02T00:48:15.930151Z"
    },
    "papermill": {
     "duration": 0.0345,
     "end_time": "2023-01-02T00:48:15.933242",
     "exception": false,
     "start_time": "2023-01-02T00:48:15.898742",
     "status": "completed"
    },
    "tags": []
   },
   "outputs": [
    {
     "data": {
      "text/plain": [
       "Embarked    0\n",
       "dtype: int64"
      ]
     },
     "execution_count": 21,
     "metadata": {},
     "output_type": "execute_result"
    }
   ],
   "source": [
    "sim_imp = SimpleImputer(missing_values=np.nan, strategy='constant', fill_value='Missing')\n",
    "train_df['Embarked'] = sim_imp.fit_transform(train_df[['Embarked']])\n",
    "train_df[['Embarked']].isna().sum()"
   ]
  },
  {
   "cell_type": "markdown",
   "id": "0f97e64b",
   "metadata": {
    "papermill": {
     "duration": 0.01692,
     "end_time": "2023-01-02T00:48:15.967643",
     "exception": false,
     "start_time": "2023-01-02T00:48:15.950723",
     "status": "completed"
    },
    "tags": []
   },
   "source": [
    "Then, we apply 'OneHotEncoder' to the dataset."
   ]
  },
  {
   "cell_type": "code",
   "execution_count": 22,
   "id": "fb433eb5",
   "metadata": {
    "execution": {
     "iopub.execute_input": "2023-01-02T00:48:16.004796Z",
     "iopub.status.busy": "2023-01-02T00:48:16.004004Z",
     "iopub.status.idle": "2023-01-02T00:48:16.015399Z",
     "shell.execute_reply": "2023-01-02T00:48:16.013914Z"
    },
    "papermill": {
     "duration": 0.033376,
     "end_time": "2023-01-02T00:48:16.018313",
     "exception": false,
     "start_time": "2023-01-02T00:48:15.984937",
     "status": "completed"
    },
    "tags": []
   },
   "outputs": [
    {
     "data": {
      "text/plain": [
       "0    1    2    3  \n",
       "0.0  0.0  0.0  1.0    644\n",
       "1.0  0.0  0.0  0.0    168\n",
       "0.0  0.0  1.0  0.0     77\n",
       "     1.0  0.0  0.0      2\n",
       "dtype: int64"
      ]
     },
     "execution_count": 22,
     "metadata": {},
     "output_type": "execute_result"
    }
   ],
   "source": [
    "enc = OneHotEncoder(handle_unknown='ignore')\n",
    "enc.fit(train_df[['Embarked']])\n",
    "embarked_train_df = pd.DataFrame(enc.transform(train_df[['Embarked']]).toarray())\n",
    "embarked_test_df = pd.DataFrame(enc.transform(test_df[['Embarked']]).toarray())\n",
    "\n",
    "embarked_train_df.value_counts()"
   ]
  },
  {
   "attachments": {},
   "cell_type": "markdown",
   "id": "7aed748f",
   "metadata": {
    "papermill": {
     "duration": 0.017406,
     "end_time": "2023-01-02T00:48:16.106064",
     "exception": false,
     "start_time": "2023-01-02T00:48:16.088658",
     "status": "completed"
    },
    "tags": []
   },
   "source": [
    "So, the second column (embarked_train_df[1]) represents the 'Missing' values. For each row where this variable is 1, the other varaibels of 'embarked_df' have to be np.nan. Note that only the train set has missing values of 'Embarked'."
   ]
  },
  {
   "cell_type": "code",
   "execution_count": 23,
   "id": "eb0a9921",
   "metadata": {
    "execution": {
     "iopub.execute_input": "2023-01-02T00:48:16.144773Z",
     "iopub.status.busy": "2023-01-02T00:48:16.143974Z",
     "iopub.status.idle": "2023-01-02T00:48:16.154590Z",
     "shell.execute_reply": "2023-01-02T00:48:16.153109Z"
    },
    "papermill": {
     "duration": 0.033299,
     "end_time": "2023-01-02T00:48:16.157198",
     "exception": false,
     "start_time": "2023-01-02T00:48:16.123899",
     "status": "completed"
    },
    "tags": []
   },
   "outputs": [
    {
     "data": {
      "text/plain": [
       "0    0\n",
       "1    0\n",
       "2    0\n",
       "3    0\n",
       "dtype: int64"
      ]
     },
     "execution_count": 23,
     "metadata": {},
     "output_type": "execute_result"
    }
   ],
   "source": [
    "embarked_train_df.isna().sum()"
   ]
  },
  {
   "cell_type": "code",
   "execution_count": 24,
   "id": "1078846d",
   "metadata": {},
   "outputs": [
    {
     "data": {
      "text/plain": [
       "2"
      ]
     },
     "execution_count": 24,
     "metadata": {},
     "output_type": "execute_result"
    }
   ],
   "source": [
    "# first applying it to the train set\n",
    "train_df.loc[embarked_train_df[1] == 1, 'Embarked'] = np.nan\n",
    "train_df.isna().sum()['Embarked']"
   ]
  },
  {
   "cell_type": "code",
   "execution_count": 25,
   "id": "b9bb1cd8",
   "metadata": {
    "execution": {
     "iopub.execute_input": "2023-01-02T00:48:16.195475Z",
     "iopub.status.busy": "2023-01-02T00:48:16.195034Z",
     "iopub.status.idle": "2023-01-02T00:48:16.206360Z",
     "shell.execute_reply": "2023-01-02T00:48:16.204928Z"
    },
    "papermill": {
     "duration": 0.033455,
     "end_time": "2023-01-02T00:48:16.209317",
     "exception": false,
     "start_time": "2023-01-02T00:48:16.175862",
     "status": "completed"
    },
    "tags": []
   },
   "outputs": [
    {
     "data": {
      "text/plain": [
       "0    2\n",
       "1    2\n",
       "2    2\n",
       "3    2\n",
       "dtype: int64"
      ]
     },
     "execution_count": 25,
     "metadata": {},
     "output_type": "execute_result"
    }
   ],
   "source": [
    "embarked_train_df[embarked_train_df[1] == 1] = np.nan\n",
    "embarked_train_df.isna().sum()"
   ]
  },
  {
   "attachments": {},
   "cell_type": "markdown",
   "id": "a421eb6e",
   "metadata": {
    "papermill": {
     "duration": 0.018069,
     "end_time": "2023-01-02T00:48:16.245604",
     "exception": false,
     "start_time": "2023-01-02T00:48:16.227535",
     "status": "completed"
    },
    "tags": []
   },
   "source": [
    "Now, we can integrate the other columns of 'embarked_train_df' (except the second column which is representing the missing values) into 'train_df'."
   ]
  },
  {
   "cell_type": "code",
   "execution_count": 26,
   "id": "0967c774",
   "metadata": {
    "execution": {
     "iopub.execute_input": "2023-01-02T00:48:16.283211Z",
     "iopub.status.busy": "2023-01-02T00:48:16.282771Z",
     "iopub.status.idle": "2023-01-02T00:48:16.299456Z",
     "shell.execute_reply": "2023-01-02T00:48:16.298591Z"
    },
    "papermill": {
     "duration": 0.038757,
     "end_time": "2023-01-02T00:48:16.302117",
     "exception": false,
     "start_time": "2023-01-02T00:48:16.263360",
     "status": "completed"
    },
    "tags": []
   },
   "outputs": [],
   "source": [
    "train_df[['em1','em2','em3']] = embarked_train_df[[0,2,3]].copy()\n",
    "test_df[['em1','em2','em3']] = embarked_test_df[[0,2,3]].copy()"
   ]
  },
  {
   "attachments": {},
   "cell_type": "markdown",
   "id": "e5ca2ac8",
   "metadata": {},
   "source": [
    "Now, take a look at the missing values:"
   ]
  },
  {
   "cell_type": "code",
   "execution_count": 27,
   "id": "81990a64",
   "metadata": {
    "execution": {
     "iopub.execute_input": "2023-01-02T00:48:16.343558Z",
     "iopub.status.busy": "2023-01-02T00:48:16.342373Z",
     "iopub.status.idle": "2023-01-02T00:48:16.352203Z",
     "shell.execute_reply": "2023-01-02T00:48:16.351250Z"
    },
    "papermill": {
     "duration": 0.032523,
     "end_time": "2023-01-02T00:48:16.354547",
     "exception": false,
     "start_time": "2023-01-02T00:48:16.322024",
     "status": "completed"
    },
    "tags": []
   },
   "outputs": [
    {
     "data": {
      "text/plain": [
       "PassengerId      0\n",
       "Survived         0\n",
       "Pclass           0\n",
       "Name             0\n",
       "Sex              0\n",
       "Age            177\n",
       "SibSp            0\n",
       "Parch            0\n",
       "Ticket           0\n",
       "Fare             0\n",
       "Cabin          687\n",
       "Embarked         2\n",
       "FamilySize       0\n",
       "Pc1              0\n",
       "Pc2              0\n",
       "Pc3              0\n",
       "em1              2\n",
       "em2              2\n",
       "em3              2\n",
       "dtype: int64"
      ]
     },
     "execution_count": 27,
     "metadata": {},
     "output_type": "execute_result"
    }
   ],
   "source": [
    "train_df.isna().sum()"
   ]
  },
  {
   "cell_type": "code",
   "execution_count": 28,
   "id": "44e0f799",
   "metadata": {
    "execution": {
     "iopub.execute_input": "2023-01-02T00:48:16.392814Z",
     "iopub.status.busy": "2023-01-02T00:48:16.391883Z",
     "iopub.status.idle": "2023-01-02T00:48:16.401861Z",
     "shell.execute_reply": "2023-01-02T00:48:16.400715Z"
    },
    "papermill": {
     "duration": 0.031766,
     "end_time": "2023-01-02T00:48:16.404218",
     "exception": false,
     "start_time": "2023-01-02T00:48:16.372452",
     "status": "completed"
    },
    "tags": []
   },
   "outputs": [
    {
     "data": {
      "text/plain": [
       "PassengerId      0\n",
       "Pclass           0\n",
       "Name             0\n",
       "Sex              0\n",
       "Age             86\n",
       "SibSp            0\n",
       "Parch            0\n",
       "Ticket           0\n",
       "Fare             1\n",
       "Cabin          327\n",
       "Embarked         0\n",
       "FamilySize       0\n",
       "Pc1              0\n",
       "Pc2              0\n",
       "Pc3              0\n",
       "em1              0\n",
       "em2              0\n",
       "em3              0\n",
       "dtype: int64"
      ]
     },
     "execution_count": 28,
     "metadata": {},
     "output_type": "execute_result"
    }
   ],
   "source": [
    "test_df.isna().sum()"
   ]
  },
  {
   "attachments": {},
   "cell_type": "markdown",
   "id": "ea5dd840",
   "metadata": {},
   "source": [
    "**2.6 Dropping 'Cabin':**\n",
    "\n",
    "As we stated before, we may not need the feature 'Cabin'. Considering the large number of missing values for this feature, we drop it now to make the next step (imputing the missing values) simpler."
   ]
  },
  {
   "cell_type": "code",
   "execution_count": 29,
   "id": "1b8fecb5",
   "metadata": {},
   "outputs": [],
   "source": [
    "train_df.drop(columns=['Cabin'], inplace=True)\n",
    "test_df.drop(columns=['Cabin'], inplace=True)"
   ]
  },
  {
   "attachments": {},
   "cell_type": "markdown",
   "id": "7345b4fd",
   "metadata": {
    "papermill": {
     "duration": 0.018657,
     "end_time": "2023-01-02T00:48:16.441944",
     "exception": false,
     "start_time": "2023-01-02T00:48:16.423287",
     "status": "completed"
    },
    "tags": []
   },
   "source": [
    "**2.7 Data Imputation:**\n",
    "\n",
    "After droping 'Cabin', the main focus of data imputation is on 'Age'. For imputing values of 'Age', we can simply use an imputer such as 'KNNImputer' to the datasets. However, there could be another approach by benefiting the recorded title of passengers in 'Name'.\n",
    "\n",
    "The number of missing values for other features is not so large. Therefore, the imputation method for them may not have considerable effect on model training.\n",
    "\n",
    "Here, we apply both aforementioned approaches and compare their results."
   ]
  },
  {
   "cell_type": "code",
   "execution_count": 30,
   "id": "58c7d597",
   "metadata": {},
   "outputs": [
    {
     "name": "stdout",
     "output_type": "stream",
     "text": [
      "<class 'pandas.core.frame.DataFrame'>\n",
      "RangeIndex: 891 entries, 0 to 890\n",
      "Data columns (total 18 columns):\n",
      " #   Column       Non-Null Count  Dtype  \n",
      "---  ------       --------------  -----  \n",
      " 0   PassengerId  891 non-null    int64  \n",
      " 1   Survived     891 non-null    int64  \n",
      " 2   Pclass       891 non-null    int64  \n",
      " 3   Name         891 non-null    object \n",
      " 4   Sex          891 non-null    int32  \n",
      " 5   Age          714 non-null    float64\n",
      " 6   SibSp        891 non-null    int64  \n",
      " 7   Parch        891 non-null    int64  \n",
      " 8   Ticket       891 non-null    object \n",
      " 9   Fare         891 non-null    float64\n",
      " 10  Embarked     889 non-null    object \n",
      " 11  FamilySize   891 non-null    int64  \n",
      " 12  Pc1          891 non-null    float64\n",
      " 13  Pc2          891 non-null    float64\n",
      " 14  Pc3          891 non-null    float64\n",
      " 15  em1          889 non-null    float64\n",
      " 16  em2          889 non-null    float64\n",
      " 17  em3          889 non-null    float64\n",
      "dtypes: float64(8), int32(1), int64(6), object(3)\n",
      "memory usage: 121.9+ KB\n"
     ]
    }
   ],
   "source": [
    "train_df.info()"
   ]
  },
  {
   "cell_type": "code",
   "execution_count": 31,
   "id": "7b0c5947",
   "metadata": {
    "execution": {
     "iopub.execute_input": "2023-01-02T00:48:16.480265Z",
     "iopub.status.busy": "2023-01-02T00:48:16.479791Z",
     "iopub.status.idle": "2023-01-02T00:48:16.545581Z",
     "shell.execute_reply": "2023-01-02T00:48:16.543877Z"
    },
    "papermill": {
     "duration": 0.089635,
     "end_time": "2023-01-02T00:48:16.550259",
     "exception": false,
     "start_time": "2023-01-02T00:48:16.460624",
     "status": "completed"
    },
    "tags": []
   },
   "outputs": [],
   "source": [
    "# Using KNNImputer to impute the missing values: It should not involve the target variable and columns of type object\n",
    "col_exc_train = ['PassengerId','Survived','Name','Ticket','Embarked']\n",
    "col_exc_test = ['PassengerId','Name','Ticket','Embarked']\n",
    "\n",
    "A = train_df.drop(columns=col_exc_train)\n",
    "B = test_df.drop(columns=col_exc_test)\n",
    "\n",
    "imputer = KNNImputer(n_neighbors=10)\n",
    "imputer.fit(A)\n",
    "train_imp = pd.DataFrame(imputer.transform(A), columns=A.columns)\n",
    "test_imp = pd.DataFrame(imputer.transform(B), columns=B.columns)\n",
    "\n",
    "# adding 'Survived' to the train set\n",
    "train_imp = train_imp.join(train_df[col_exc_train])\n",
    "test_imp = test_imp.join(test_df[col_exc_test])"
   ]
  },
  {
   "attachments": {},
   "cell_type": "markdown",
   "id": "bb104195",
   "metadata": {},
   "source": [
    "Lets take a look at emputed 'em1', 'em2', and 'em3'. The imputed values are not necessarily binary. So, we need to binarize them.\n",
    "Since the feature 'Embarked' is of type 'object' and is excluded from the imputation, we need to assign values based on 'em1', 'em2', and 'em3'."
   ]
  },
  {
   "cell_type": "code",
   "execution_count": 32,
   "id": "433a738e",
   "metadata": {},
   "outputs": [
    {
     "data": {
      "text/html": [
       "<div>\n",
       "<style scoped>\n",
       "    .dataframe tbody tr th:only-of-type {\n",
       "        vertical-align: middle;\n",
       "    }\n",
       "\n",
       "    .dataframe tbody tr th {\n",
       "        vertical-align: top;\n",
       "    }\n",
       "\n",
       "    .dataframe thead th {\n",
       "        text-align: right;\n",
       "    }\n",
       "</style>\n",
       "<table border=\"1\" class=\"dataframe\">\n",
       "  <thead>\n",
       "    <tr style=\"text-align: right;\">\n",
       "      <th></th>\n",
       "      <th>Pclass</th>\n",
       "      <th>Sex</th>\n",
       "      <th>Age</th>\n",
       "      <th>SibSp</th>\n",
       "      <th>Parch</th>\n",
       "      <th>Fare</th>\n",
       "      <th>FamilySize</th>\n",
       "      <th>Pc1</th>\n",
       "      <th>Pc2</th>\n",
       "      <th>Pc3</th>\n",
       "      <th>em1</th>\n",
       "      <th>em2</th>\n",
       "      <th>em3</th>\n",
       "      <th>PassengerId</th>\n",
       "      <th>Survived</th>\n",
       "      <th>Name</th>\n",
       "      <th>Ticket</th>\n",
       "      <th>Embarked</th>\n",
       "    </tr>\n",
       "  </thead>\n",
       "  <tbody>\n",
       "    <tr>\n",
       "      <th>61</th>\n",
       "      <td>1.0</td>\n",
       "      <td>1.0</td>\n",
       "      <td>38.0</td>\n",
       "      <td>0.0</td>\n",
       "      <td>0.0</td>\n",
       "      <td>80.0</td>\n",
       "      <td>0.0</td>\n",
       "      <td>1.0</td>\n",
       "      <td>0.0</td>\n",
       "      <td>0.0</td>\n",
       "      <td>0.5</td>\n",
       "      <td>0.0</td>\n",
       "      <td>0.5</td>\n",
       "      <td>62</td>\n",
       "      <td>1</td>\n",
       "      <td>Icard, Miss. Amelie</td>\n",
       "      <td>113572</td>\n",
       "      <td>NaN</td>\n",
       "    </tr>\n",
       "    <tr>\n",
       "      <th>829</th>\n",
       "      <td>1.0</td>\n",
       "      <td>1.0</td>\n",
       "      <td>62.0</td>\n",
       "      <td>0.0</td>\n",
       "      <td>0.0</td>\n",
       "      <td>80.0</td>\n",
       "      <td>0.0</td>\n",
       "      <td>1.0</td>\n",
       "      <td>0.0</td>\n",
       "      <td>0.0</td>\n",
       "      <td>0.8</td>\n",
       "      <td>0.0</td>\n",
       "      <td>0.2</td>\n",
       "      <td>830</td>\n",
       "      <td>1</td>\n",
       "      <td>Stone, Mrs. George Nelson (Martha Evelyn)</td>\n",
       "      <td>113572</td>\n",
       "      <td>NaN</td>\n",
       "    </tr>\n",
       "  </tbody>\n",
       "</table>\n",
       "</div>"
      ],
      "text/plain": [
       "     Pclass  Sex   Age  SibSp  Parch  Fare  FamilySize  Pc1  Pc2  Pc3  em1  \\\n",
       "61      1.0  1.0  38.0    0.0    0.0  80.0         0.0  1.0  0.0  0.0  0.5   \n",
       "829     1.0  1.0  62.0    0.0    0.0  80.0         0.0  1.0  0.0  0.0  0.8   \n",
       "\n",
       "     em2  em3  PassengerId  Survived  \\\n",
       "61   0.0  0.5           62         1   \n",
       "829  0.0  0.2          830         1   \n",
       "\n",
       "                                          Name  Ticket Embarked  \n",
       "61                         Icard, Miss. Amelie  113572      NaN  \n",
       "829  Stone, Mrs. George Nelson (Martha Evelyn)  113572      NaN  "
      ]
     },
     "execution_count": 32,
     "metadata": {},
     "output_type": "execute_result"
    }
   ],
   "source": [
    "train_imp[train_imp['Embarked'].isna()]"
   ]
  },
  {
   "cell_type": "code",
   "execution_count": 33,
   "id": "ee23f39c",
   "metadata": {},
   "outputs": [],
   "source": [
    "train_imp.loc[61, 'em1'] = 1 # both em1 and em2 can be 1\n",
    "train_imp.loc[61, 'em2'] = 0\n",
    "train_imp.loc[61, 'em3'] = 0\n",
    "train_imp.loc[61, 'Embarked'] = 'C'\n",
    "\n",
    "train_imp.loc[829, 'em1'] = 1 \n",
    "train_imp.loc[829, 'em2'] = 0\n",
    "train_imp.loc[829, 'em3'] = 0\n",
    "train_imp.loc[829, 'Embarked'] = 'C'"
   ]
  },
  {
   "cell_type": "code",
   "execution_count": 34,
   "id": "246629f0",
   "metadata": {},
   "outputs": [
    {
     "data": {
      "text/plain": [
       "Pclass         0\n",
       "Sex            0\n",
       "Age            0\n",
       "SibSp          0\n",
       "Parch          0\n",
       "Fare           0\n",
       "FamilySize     0\n",
       "Pc1            0\n",
       "Pc2            0\n",
       "Pc3            0\n",
       "em1            0\n",
       "em2            0\n",
       "em3            0\n",
       "PassengerId    0\n",
       "Survived       0\n",
       "Name           0\n",
       "Ticket         0\n",
       "Embarked       0\n",
       "dtype: int64"
      ]
     },
     "execution_count": 34,
     "metadata": {},
     "output_type": "execute_result"
    }
   ],
   "source": [
    "train_imp.isna().sum()"
   ]
  },
  {
   "cell_type": "code",
   "execution_count": 35,
   "id": "6b8c366b",
   "metadata": {},
   "outputs": [
    {
     "data": {
      "text/plain": [
       "Pclass         0\n",
       "Sex            0\n",
       "Age            0\n",
       "SibSp          0\n",
       "Parch          0\n",
       "Fare           0\n",
       "FamilySize     0\n",
       "Pc1            0\n",
       "Pc2            0\n",
       "Pc3            0\n",
       "em1            0\n",
       "em2            0\n",
       "em3            0\n",
       "PassengerId    0\n",
       "Name           0\n",
       "Ticket         0\n",
       "Embarked       0\n",
       "dtype: int64"
      ]
     },
     "execution_count": 35,
     "metadata": {},
     "output_type": "execute_result"
    }
   ],
   "source": [
    "test_imp.isna().sum()"
   ]
  },
  {
   "attachments": {},
   "cell_type": "markdown",
   "id": "86168a1e",
   "metadata": {},
   "source": [
    "Now, we try to extract titles from passengers' names and use it to estimate the age of those passengers without an age number. We put the new imputed values of 'Age' in a new column."
   ]
  },
  {
   "cell_type": "code",
   "execution_count": 36,
   "id": "e0203e48",
   "metadata": {},
   "outputs": [],
   "source": [
    "# extracting the titles\n",
    "train_imp['Title'] = train_imp['Name']\n",
    "for names in train_imp['Name']:\n",
    "    train_imp['Title'] = train_imp['Name'].str.extract('([A-Za-z]+)\\.', expand=True)\n",
    "    \n",
    "test_imp['Title'] = test_imp['Name']\n",
    "for names in test_imp['Name']:\n",
    "    test_imp['Title'] = test_imp['Name'].str.extract('([A-Za-z]+)\\.', expand=True)\n",
    "#--------------------------------------------------------------------------------------\n",
    "# categorizing the title \n",
    "mapping = {'Mlle': 'Miss', 'Major': 'Mr', 'Col': 'Mr', 'Sir': 'Mr', 'Don': 'Mr', 'Mme': 'Miss',\n",
    "          'Jonkheer': 'Mr', 'Lady': 'Mrs', 'Capt': 'Mr', 'Countess': 'Mrs', 'Ms': 'Miss', 'Dona': 'Mrs'}\n",
    "train_imp.replace({'Title': mapping}, inplace=True)\n",
    "test_imp.replace({'Title': mapping}, inplace=True)\n",
    "#--------------------------------------------------------------------------------------\n",
    "# assigning values to the missing age values based on the median of the similar titles \n",
    "titles = ['Dr', 'Master', 'Miss', 'Mr', 'Mrs', 'Rev']\n",
    "train_imp['Age_tb'] = train_imp['Age']  # Age_tb >>> Age title-based\n",
    "test_imp['Age_tb'] = test_imp['Age']\n",
    "\n",
    "for title in titles:\n",
    "    age_imputation = train_imp.groupby('Title')['Age'].median()[titles.index(title)]\n",
    "    train_imp.loc[(train_df['Age'].isnull()) & (train_imp['Title'] == title), 'Age_tb'] = age_imputation\n",
    "    test_imp.loc[(test_df['Age'].isnull()) & (test_imp['Title'] == title), 'Age_tb'] = age_imputation"
   ]
  },
  {
   "attachments": {},
   "cell_type": "markdown",
   "id": "e30aebc8",
   "metadata": {},
   "source": [
    "**2.8 Discretizing 'Fare' and 'Age':**\n",
    "\n",
    "We have also the choice of discretizing 'Age' and 'Fare' whose values lie in a long range. In order to make bins of 'Fare', we need to consider interval edges to make 5 bins. Here we do this using pd.qcut which is a quantile-based discretization function. Then, we extract the edges and use them with pd.cut to make bins. In this way, we can apply the same edges to the test set, too."
   ]
  },
  {
   "cell_type": "code",
   "execution_count": 37,
   "id": "cc1d3c6e",
   "metadata": {},
   "outputs": [
    {
     "data": {
      "text/plain": [
       "(0        (-0.001, 7.854]\n",
       " 1      (39.688, 512.329]\n",
       " 2          (7.854, 10.5]\n",
       " 3      (39.688, 512.329]\n",
       " 4          (7.854, 10.5]\n",
       "              ...        \n",
       " 886       (10.5, 21.679]\n",
       " 887     (21.679, 39.688]\n",
       " 888     (21.679, 39.688]\n",
       " 889     (21.679, 39.688]\n",
       " 890      (-0.001, 7.854]\n",
       " Name: Fare, Length: 891, dtype: category\n",
       " Categories (5, interval[float64, right]): [(-0.001, 7.854] < (7.854, 10.5] < (10.5, 21.679] < (21.679, 39.688] < (39.688, 512.329]],\n",
       " array([  0.    ,   7.8542,  10.5   ,  21.6792,  39.6875, 512.3292]))"
      ]
     },
     "execution_count": 37,
     "metadata": {},
     "output_type": "execute_result"
    }
   ],
   "source": [
    "pd.qcut(train_imp['Fare'], 5, retbins=True)"
   ]
  },
  {
   "cell_type": "code",
   "execution_count": 38,
   "id": "19955c6c",
   "metadata": {},
   "outputs": [
    {
     "data": {
      "text/plain": [
       "IntervalIndex([(-0.002, 7.8542], (7.8542, 10.5], (10.5, 21.6792], (21.6792, 39.6875], (39.6875, 512.3293]], dtype='interval[float64, right]')"
      ]
     },
     "execution_count": 38,
     "metadata": {},
     "output_type": "execute_result"
    }
   ],
   "source": [
    "bins = pd.IntervalIndex.from_arrays(left=[-0.002,7.8542,10.5,21.6792,39.6875],\n",
    "                                    right=[7.8542,10.5,21.6792,39.6875,512.3293],\n",
    "                                    closed='right')\n",
    "bins"
   ]
  },
  {
   "cell_type": "code",
   "execution_count": 39,
   "id": "90d4676f",
   "metadata": {},
   "outputs": [
    {
     "data": {
      "text/plain": [
       "0         (-0.002, 7.8542]\n",
       "1      (39.6875, 512.3293]\n",
       "2           (7.8542, 10.5]\n",
       "3      (39.6875, 512.3293]\n",
       "4           (7.8542, 10.5]\n",
       "              ...         \n",
       "886        (10.5, 21.6792]\n",
       "887     (21.6792, 39.6875]\n",
       "888     (21.6792, 39.6875]\n",
       "889     (21.6792, 39.6875]\n",
       "890       (-0.002, 7.8542]\n",
       "Name: Fare, Length: 891, dtype: category\n",
       "Categories (5, interval[float64, right]): [(-0.002, 7.8542] < (7.8542, 10.5] < (10.5, 21.6792] < (21.6792, 39.6875] < (39.6875, 512.3293]]"
      ]
     },
     "execution_count": 39,
     "metadata": {},
     "output_type": "execute_result"
    }
   ],
   "source": [
    "pd.cut(train_imp['Fare'], bins=bins)"
   ]
  },
  {
   "cell_type": "code",
   "execution_count": 40,
   "id": "dd937caa",
   "metadata": {},
   "outputs": [
    {
     "data": {
      "text/plain": [
       "1    184\n",
       "3    180\n",
       "0    179\n",
       "4    176\n",
       "2    172\n",
       "Name: FareBin_Code, dtype: int64"
      ]
     },
     "execution_count": 40,
     "metadata": {},
     "output_type": "execute_result"
    }
   ],
   "source": [
    "train_imp['FareBin'] = pd.cut(train_imp['Fare'], bins=bins)\n",
    "test_imp['FareBin'] = pd.cut(test_imp['Fare'], bins=bins)\n",
    "\n",
    "# encoding the FareBin column\n",
    "label = LabelEncoder()\n",
    "label.fit(train_imp['FareBin'])\n",
    "train_imp['FareBin_Code'] = label.transform(train_imp['FareBin'])\n",
    "train_imp.drop(columns=['FareBin'], inplace=True)\n",
    "\n",
    "test_imp['FareBin_Code'] = label.transform(test_imp['FareBin'])\n",
    "test_imp.drop(columns=['FareBin'], inplace=True)\n",
    "\n",
    "train_imp['FareBin_Code'].value_counts()"
   ]
  },
  {
   "cell_type": "code",
   "execution_count": 41,
   "id": "1878df58",
   "metadata": {},
   "outputs": [
    {
     "data": {
      "text/plain": [
       "0    96\n",
       "4    88\n",
       "2    87\n",
       "3    77\n",
       "1    70\n",
       "Name: FareBin_Code, dtype: int64"
      ]
     },
     "execution_count": 41,
     "metadata": {},
     "output_type": "execute_result"
    }
   ],
   "source": [
    "test_imp['FareBin_Code'].value_counts()"
   ]
  },
  {
   "attachments": {},
   "cell_type": "markdown",
   "id": "c54d2fa7",
   "metadata": {},
   "source": [
    "Now, we make bins of 'Age'."
   ]
  },
  {
   "cell_type": "code",
   "execution_count": 42,
   "id": "cf8d4a08",
   "metadata": {},
   "outputs": [
    {
     "data": {
      "text/plain": [
       "(0      (0.419, 22.0]\n",
       " 1       (36.0, 80.0]\n",
       " 2       (22.0, 29.0]\n",
       " 3       (29.0, 36.0]\n",
       " 4       (29.0, 36.0]\n",
       "            ...      \n",
       " 886     (22.0, 29.0]\n",
       " 887    (0.419, 22.0]\n",
       " 888    (0.419, 22.0]\n",
       " 889     (22.0, 29.0]\n",
       " 890     (29.0, 36.0]\n",
       " Name: Age, Length: 891, dtype: category\n",
       " Categories (4, interval[float64, right]): [(0.419, 22.0] < (22.0, 29.0] < (29.0, 36.0] < (36.0, 80.0]],\n",
       " array([ 0.42, 22.  , 29.  , 36.  , 80.  ]))"
      ]
     },
     "execution_count": 42,
     "metadata": {},
     "output_type": "execute_result"
    }
   ],
   "source": [
    "pd.qcut(train_imp['Age'], 4, retbins=True)"
   ]
  },
  {
   "cell_type": "code",
   "execution_count": 43,
   "id": "eb51d455",
   "metadata": {},
   "outputs": [
    {
     "data": {
      "text/plain": [
       "IntervalIndex([(0.16, 21.5], (21.5, 30.0], (30.0, 35.0], (35.0, 80.1]], dtype='interval[float64, right]')"
      ]
     },
     "execution_count": 43,
     "metadata": {},
     "output_type": "execute_result"
    }
   ],
   "source": [
    "# The min value of 'Age' in test set is 0.17. So, we set the first edge as 0.16.\n",
    "bins = pd.IntervalIndex.from_arrays(left=[0.16,21.5,30.0,35.0],\n",
    "                                    right=[21.5,30.0,35.0,80.1],\n",
    "                                    closed='right')\n",
    "bins"
   ]
  },
  {
   "cell_type": "code",
   "execution_count": 44,
   "id": "b63c4c51",
   "metadata": {},
   "outputs": [
    {
     "data": {
      "text/plain": [
       "0      (21.5, 30.0]\n",
       "1      (35.0, 80.1]\n",
       "2      (21.5, 30.0]\n",
       "3      (30.0, 35.0]\n",
       "4      (30.0, 35.0]\n",
       "           ...     \n",
       "886    (21.5, 30.0]\n",
       "887    (0.16, 21.5]\n",
       "888    (0.16, 21.5]\n",
       "889    (21.5, 30.0]\n",
       "890    (30.0, 35.0]\n",
       "Name: Age, Length: 891, dtype: category\n",
       "Categories (4, interval[float64, right]): [(0.16, 21.5] < (21.5, 30.0] < (30.0, 35.0] < (35.0, 80.1]]"
      ]
     },
     "execution_count": 44,
     "metadata": {},
     "output_type": "execute_result"
    }
   ],
   "source": [
    "pd.cut(train_imp['Age'], bins=bins)"
   ]
  },
  {
   "cell_type": "code",
   "execution_count": 45,
   "id": "7ee5e756",
   "metadata": {},
   "outputs": [
    {
     "data": {
      "text/plain": [
       "1    273\n",
       "3    260\n",
       "0    216\n",
       "2    142\n",
       "Name: AgeBin_Code, dtype: int64"
      ]
     },
     "execution_count": 45,
     "metadata": {},
     "output_type": "execute_result"
    }
   ],
   "source": [
    "train_imp['AgeBin'] = pd.cut(train_imp['Age'], bins=bins)\n",
    "test_imp['AgeBin'] = pd.cut(test_imp['Age'], bins=bins)\n",
    "\n",
    "# encoding the AgeBin column\n",
    "label = LabelEncoder()\n",
    "label.fit(train_imp['AgeBin'])\n",
    "train_imp['AgeBin_Code'] = label.transform(train_imp['AgeBin'])\n",
    "train_imp.drop(columns=['AgeBin'], inplace=True)\n",
    "\n",
    "test_imp['AgeBin_Code'] = label.transform(test_imp['AgeBin'])\n",
    "test_imp.drop(columns=['AgeBin'], inplace=True)\n",
    "\n",
    "train_imp['AgeBin_Code'].value_counts()"
   ]
  },
  {
   "cell_type": "code",
   "execution_count": 46,
   "id": "c20f957a",
   "metadata": {},
   "outputs": [
    {
     "data": {
      "text/plain": [
       "1    153\n",
       "3    125\n",
       "0     91\n",
       "2     49\n",
       "Name: AgeBin_Code, dtype: int64"
      ]
     },
     "execution_count": 46,
     "metadata": {},
     "output_type": "execute_result"
    }
   ],
   "source": [
    "test_imp['AgeBin_Code'].value_counts()"
   ]
  },
  {
   "cell_type": "code",
   "execution_count": 47,
   "id": "ebd27859",
   "metadata": {},
   "outputs": [
    {
     "data": {
      "text/html": [
       "<div>\n",
       "<style scoped>\n",
       "    .dataframe tbody tr th:only-of-type {\n",
       "        vertical-align: middle;\n",
       "    }\n",
       "\n",
       "    .dataframe tbody tr th {\n",
       "        vertical-align: top;\n",
       "    }\n",
       "\n",
       "    .dataframe thead th {\n",
       "        text-align: right;\n",
       "    }\n",
       "</style>\n",
       "<table border=\"1\" class=\"dataframe\">\n",
       "  <thead>\n",
       "    <tr style=\"text-align: right;\">\n",
       "      <th></th>\n",
       "      <th>Pclass</th>\n",
       "      <th>Sex</th>\n",
       "      <th>Age</th>\n",
       "      <th>SibSp</th>\n",
       "      <th>Parch</th>\n",
       "      <th>Fare</th>\n",
       "      <th>FamilySize</th>\n",
       "      <th>Pc1</th>\n",
       "      <th>Pc2</th>\n",
       "      <th>Pc3</th>\n",
       "      <th>...</th>\n",
       "      <th>em3</th>\n",
       "      <th>PassengerId</th>\n",
       "      <th>Survived</th>\n",
       "      <th>Name</th>\n",
       "      <th>Ticket</th>\n",
       "      <th>Embarked</th>\n",
       "      <th>Title</th>\n",
       "      <th>Age_tb</th>\n",
       "      <th>FareBin_Code</th>\n",
       "      <th>AgeBin_Code</th>\n",
       "    </tr>\n",
       "  </thead>\n",
       "  <tbody>\n",
       "    <tr>\n",
       "      <th>0</th>\n",
       "      <td>3.0</td>\n",
       "      <td>0.0</td>\n",
       "      <td>22.0</td>\n",
       "      <td>1.0</td>\n",
       "      <td>0.0</td>\n",
       "      <td>7.2500</td>\n",
       "      <td>1.0</td>\n",
       "      <td>0.0</td>\n",
       "      <td>0.0</td>\n",
       "      <td>1.0</td>\n",
       "      <td>...</td>\n",
       "      <td>1.0</td>\n",
       "      <td>1</td>\n",
       "      <td>0</td>\n",
       "      <td>Braund, Mr. Owen Harris</td>\n",
       "      <td>A/5 21171</td>\n",
       "      <td>S</td>\n",
       "      <td>Mr</td>\n",
       "      <td>22.0</td>\n",
       "      <td>0</td>\n",
       "      <td>1</td>\n",
       "    </tr>\n",
       "    <tr>\n",
       "      <th>1</th>\n",
       "      <td>1.0</td>\n",
       "      <td>1.0</td>\n",
       "      <td>38.0</td>\n",
       "      <td>1.0</td>\n",
       "      <td>0.0</td>\n",
       "      <td>71.2833</td>\n",
       "      <td>1.0</td>\n",
       "      <td>1.0</td>\n",
       "      <td>0.0</td>\n",
       "      <td>0.0</td>\n",
       "      <td>...</td>\n",
       "      <td>0.0</td>\n",
       "      <td>2</td>\n",
       "      <td>1</td>\n",
       "      <td>Cumings, Mrs. John Bradley (Florence Briggs Th...</td>\n",
       "      <td>PC 17599</td>\n",
       "      <td>C</td>\n",
       "      <td>Mrs</td>\n",
       "      <td>38.0</td>\n",
       "      <td>4</td>\n",
       "      <td>3</td>\n",
       "    </tr>\n",
       "    <tr>\n",
       "      <th>2</th>\n",
       "      <td>3.0</td>\n",
       "      <td>1.0</td>\n",
       "      <td>26.0</td>\n",
       "      <td>0.0</td>\n",
       "      <td>0.0</td>\n",
       "      <td>7.9250</td>\n",
       "      <td>0.0</td>\n",
       "      <td>0.0</td>\n",
       "      <td>0.0</td>\n",
       "      <td>1.0</td>\n",
       "      <td>...</td>\n",
       "      <td>1.0</td>\n",
       "      <td>3</td>\n",
       "      <td>1</td>\n",
       "      <td>Heikkinen, Miss. Laina</td>\n",
       "      <td>STON/O2. 3101282</td>\n",
       "      <td>S</td>\n",
       "      <td>Miss</td>\n",
       "      <td>26.0</td>\n",
       "      <td>1</td>\n",
       "      <td>1</td>\n",
       "    </tr>\n",
       "    <tr>\n",
       "      <th>3</th>\n",
       "      <td>1.0</td>\n",
       "      <td>1.0</td>\n",
       "      <td>35.0</td>\n",
       "      <td>1.0</td>\n",
       "      <td>0.0</td>\n",
       "      <td>53.1000</td>\n",
       "      <td>1.0</td>\n",
       "      <td>1.0</td>\n",
       "      <td>0.0</td>\n",
       "      <td>0.0</td>\n",
       "      <td>...</td>\n",
       "      <td>1.0</td>\n",
       "      <td>4</td>\n",
       "      <td>1</td>\n",
       "      <td>Futrelle, Mrs. Jacques Heath (Lily May Peel)</td>\n",
       "      <td>113803</td>\n",
       "      <td>S</td>\n",
       "      <td>Mrs</td>\n",
       "      <td>35.0</td>\n",
       "      <td>4</td>\n",
       "      <td>2</td>\n",
       "    </tr>\n",
       "    <tr>\n",
       "      <th>4</th>\n",
       "      <td>3.0</td>\n",
       "      <td>0.0</td>\n",
       "      <td>35.0</td>\n",
       "      <td>0.0</td>\n",
       "      <td>0.0</td>\n",
       "      <td>8.0500</td>\n",
       "      <td>0.0</td>\n",
       "      <td>0.0</td>\n",
       "      <td>0.0</td>\n",
       "      <td>1.0</td>\n",
       "      <td>...</td>\n",
       "      <td>1.0</td>\n",
       "      <td>5</td>\n",
       "      <td>0</td>\n",
       "      <td>Allen, Mr. William Henry</td>\n",
       "      <td>373450</td>\n",
       "      <td>S</td>\n",
       "      <td>Mr</td>\n",
       "      <td>35.0</td>\n",
       "      <td>1</td>\n",
       "      <td>2</td>\n",
       "    </tr>\n",
       "  </tbody>\n",
       "</table>\n",
       "<p>5 rows × 22 columns</p>\n",
       "</div>"
      ],
      "text/plain": [
       "   Pclass  Sex   Age  SibSp  Parch     Fare  FamilySize  Pc1  Pc2  Pc3  ...  \\\n",
       "0     3.0  0.0  22.0    1.0    0.0   7.2500         1.0  0.0  0.0  1.0  ...   \n",
       "1     1.0  1.0  38.0    1.0    0.0  71.2833         1.0  1.0  0.0  0.0  ...   \n",
       "2     3.0  1.0  26.0    0.0    0.0   7.9250         0.0  0.0  0.0  1.0  ...   \n",
       "3     1.0  1.0  35.0    1.0    0.0  53.1000         1.0  1.0  0.0  0.0  ...   \n",
       "4     3.0  0.0  35.0    0.0    0.0   8.0500         0.0  0.0  0.0  1.0  ...   \n",
       "\n",
       "   em3  PassengerId  Survived  \\\n",
       "0  1.0            1         0   \n",
       "1  0.0            2         1   \n",
       "2  1.0            3         1   \n",
       "3  1.0            4         1   \n",
       "4  1.0            5         0   \n",
       "\n",
       "                                                Name            Ticket  \\\n",
       "0                            Braund, Mr. Owen Harris         A/5 21171   \n",
       "1  Cumings, Mrs. John Bradley (Florence Briggs Th...          PC 17599   \n",
       "2                             Heikkinen, Miss. Laina  STON/O2. 3101282   \n",
       "3       Futrelle, Mrs. Jacques Heath (Lily May Peel)            113803   \n",
       "4                           Allen, Mr. William Henry            373450   \n",
       "\n",
       "  Embarked Title Age_tb FareBin_Code  AgeBin_Code  \n",
       "0        S    Mr   22.0            0            1  \n",
       "1        C   Mrs   38.0            4            3  \n",
       "2        S  Miss   26.0            1            1  \n",
       "3        S   Mrs   35.0            4            2  \n",
       "4        S    Mr   35.0            1            2  \n",
       "\n",
       "[5 rows x 22 columns]"
      ]
     },
     "execution_count": 47,
     "metadata": {},
     "output_type": "execute_result"
    }
   ],
   "source": [
    "train_imp.head()"
   ]
  },
  {
   "cell_type": "code",
   "execution_count": 48,
   "id": "e39b8766",
   "metadata": {},
   "outputs": [
    {
     "data": {
      "text/html": [
       "<div>\n",
       "<style scoped>\n",
       "    .dataframe tbody tr th:only-of-type {\n",
       "        vertical-align: middle;\n",
       "    }\n",
       "\n",
       "    .dataframe tbody tr th {\n",
       "        vertical-align: top;\n",
       "    }\n",
       "\n",
       "    .dataframe thead th {\n",
       "        text-align: right;\n",
       "    }\n",
       "</style>\n",
       "<table border=\"1\" class=\"dataframe\">\n",
       "  <thead>\n",
       "    <tr style=\"text-align: right;\">\n",
       "      <th></th>\n",
       "      <th>Pclass</th>\n",
       "      <th>Sex</th>\n",
       "      <th>Age</th>\n",
       "      <th>SibSp</th>\n",
       "      <th>Parch</th>\n",
       "      <th>Fare</th>\n",
       "      <th>FamilySize</th>\n",
       "      <th>Pc1</th>\n",
       "      <th>Pc2</th>\n",
       "      <th>Pc3</th>\n",
       "      <th>...</th>\n",
       "      <th>em2</th>\n",
       "      <th>em3</th>\n",
       "      <th>PassengerId</th>\n",
       "      <th>Name</th>\n",
       "      <th>Ticket</th>\n",
       "      <th>Embarked</th>\n",
       "      <th>Title</th>\n",
       "      <th>Age_tb</th>\n",
       "      <th>FareBin_Code</th>\n",
       "      <th>AgeBin_Code</th>\n",
       "    </tr>\n",
       "  </thead>\n",
       "  <tbody>\n",
       "    <tr>\n",
       "      <th>0</th>\n",
       "      <td>3.0</td>\n",
       "      <td>0.0</td>\n",
       "      <td>34.5</td>\n",
       "      <td>0.0</td>\n",
       "      <td>0.0</td>\n",
       "      <td>7.8292</td>\n",
       "      <td>0.0</td>\n",
       "      <td>0.0</td>\n",
       "      <td>0.0</td>\n",
       "      <td>1.0</td>\n",
       "      <td>...</td>\n",
       "      <td>1.0</td>\n",
       "      <td>0.0</td>\n",
       "      <td>892</td>\n",
       "      <td>Kelly, Mr. James</td>\n",
       "      <td>330911</td>\n",
       "      <td>Q</td>\n",
       "      <td>Mr</td>\n",
       "      <td>34.5</td>\n",
       "      <td>0</td>\n",
       "      <td>2</td>\n",
       "    </tr>\n",
       "    <tr>\n",
       "      <th>1</th>\n",
       "      <td>3.0</td>\n",
       "      <td>1.0</td>\n",
       "      <td>47.0</td>\n",
       "      <td>1.0</td>\n",
       "      <td>0.0</td>\n",
       "      <td>7.0000</td>\n",
       "      <td>1.0</td>\n",
       "      <td>0.0</td>\n",
       "      <td>0.0</td>\n",
       "      <td>1.0</td>\n",
       "      <td>...</td>\n",
       "      <td>0.0</td>\n",
       "      <td>1.0</td>\n",
       "      <td>893</td>\n",
       "      <td>Wilkes, Mrs. James (Ellen Needs)</td>\n",
       "      <td>363272</td>\n",
       "      <td>S</td>\n",
       "      <td>Mrs</td>\n",
       "      <td>47.0</td>\n",
       "      <td>0</td>\n",
       "      <td>3</td>\n",
       "    </tr>\n",
       "    <tr>\n",
       "      <th>2</th>\n",
       "      <td>2.0</td>\n",
       "      <td>0.0</td>\n",
       "      <td>62.0</td>\n",
       "      <td>0.0</td>\n",
       "      <td>0.0</td>\n",
       "      <td>9.6875</td>\n",
       "      <td>0.0</td>\n",
       "      <td>0.0</td>\n",
       "      <td>1.0</td>\n",
       "      <td>0.0</td>\n",
       "      <td>...</td>\n",
       "      <td>1.0</td>\n",
       "      <td>0.0</td>\n",
       "      <td>894</td>\n",
       "      <td>Myles, Mr. Thomas Francis</td>\n",
       "      <td>240276</td>\n",
       "      <td>Q</td>\n",
       "      <td>Mr</td>\n",
       "      <td>62.0</td>\n",
       "      <td>1</td>\n",
       "      <td>3</td>\n",
       "    </tr>\n",
       "    <tr>\n",
       "      <th>3</th>\n",
       "      <td>3.0</td>\n",
       "      <td>0.0</td>\n",
       "      <td>27.0</td>\n",
       "      <td>0.0</td>\n",
       "      <td>0.0</td>\n",
       "      <td>8.6625</td>\n",
       "      <td>0.0</td>\n",
       "      <td>0.0</td>\n",
       "      <td>0.0</td>\n",
       "      <td>1.0</td>\n",
       "      <td>...</td>\n",
       "      <td>0.0</td>\n",
       "      <td>1.0</td>\n",
       "      <td>895</td>\n",
       "      <td>Wirz, Mr. Albert</td>\n",
       "      <td>315154</td>\n",
       "      <td>S</td>\n",
       "      <td>Mr</td>\n",
       "      <td>27.0</td>\n",
       "      <td>1</td>\n",
       "      <td>1</td>\n",
       "    </tr>\n",
       "    <tr>\n",
       "      <th>4</th>\n",
       "      <td>3.0</td>\n",
       "      <td>1.0</td>\n",
       "      <td>22.0</td>\n",
       "      <td>1.0</td>\n",
       "      <td>1.0</td>\n",
       "      <td>12.2875</td>\n",
       "      <td>2.0</td>\n",
       "      <td>0.0</td>\n",
       "      <td>0.0</td>\n",
       "      <td>1.0</td>\n",
       "      <td>...</td>\n",
       "      <td>0.0</td>\n",
       "      <td>1.0</td>\n",
       "      <td>896</td>\n",
       "      <td>Hirvonen, Mrs. Alexander (Helga E Lindqvist)</td>\n",
       "      <td>3101298</td>\n",
       "      <td>S</td>\n",
       "      <td>Mrs</td>\n",
       "      <td>22.0</td>\n",
       "      <td>2</td>\n",
       "      <td>1</td>\n",
       "    </tr>\n",
       "  </tbody>\n",
       "</table>\n",
       "<p>5 rows × 21 columns</p>\n",
       "</div>"
      ],
      "text/plain": [
       "   Pclass  Sex   Age  SibSp  Parch     Fare  FamilySize  Pc1  Pc2  Pc3  ...  \\\n",
       "0     3.0  0.0  34.5    0.0    0.0   7.8292         0.0  0.0  0.0  1.0  ...   \n",
       "1     3.0  1.0  47.0    1.0    0.0   7.0000         1.0  0.0  0.0  1.0  ...   \n",
       "2     2.0  0.0  62.0    0.0    0.0   9.6875         0.0  0.0  1.0  0.0  ...   \n",
       "3     3.0  0.0  27.0    0.0    0.0   8.6625         0.0  0.0  0.0  1.0  ...   \n",
       "4     3.0  1.0  22.0    1.0    1.0  12.2875         2.0  0.0  0.0  1.0  ...   \n",
       "\n",
       "   em2  em3  PassengerId                                          Name  \\\n",
       "0  1.0  0.0          892                              Kelly, Mr. James   \n",
       "1  0.0  1.0          893              Wilkes, Mrs. James (Ellen Needs)   \n",
       "2  1.0  0.0          894                     Myles, Mr. Thomas Francis   \n",
       "3  0.0  1.0          895                              Wirz, Mr. Albert   \n",
       "4  0.0  1.0          896  Hirvonen, Mrs. Alexander (Helga E Lindqvist)   \n",
       "\n",
       "    Ticket Embarked Title Age_tb  FareBin_Code  AgeBin_Code  \n",
       "0   330911        Q    Mr   34.5             0            2  \n",
       "1   363272        S   Mrs   47.0             0            3  \n",
       "2   240276        Q    Mr   62.0             1            3  \n",
       "3   315154        S    Mr   27.0             1            1  \n",
       "4  3101298        S   Mrs   22.0             2            1  \n",
       "\n",
       "[5 rows x 21 columns]"
      ]
     },
     "execution_count": 48,
     "metadata": {},
     "output_type": "execute_result"
    }
   ],
   "source": [
    "test_imp.head()"
   ]
  },
  {
   "cell_type": "code",
   "execution_count": 49,
   "id": "fad2591c",
   "metadata": {},
   "outputs": [
    {
     "name": "stdout",
     "output_type": "stream",
     "text": [
      "<class 'pandas.core.frame.DataFrame'>\n",
      "RangeIndex: 891 entries, 0 to 890\n",
      "Data columns (total 22 columns):\n",
      " #   Column        Non-Null Count  Dtype  \n",
      "---  ------        --------------  -----  \n",
      " 0   Pclass        891 non-null    float64\n",
      " 1   Sex           891 non-null    float64\n",
      " 2   Age           891 non-null    float64\n",
      " 3   SibSp         891 non-null    float64\n",
      " 4   Parch         891 non-null    float64\n",
      " 5   Fare          891 non-null    float64\n",
      " 6   FamilySize    891 non-null    float64\n",
      " 7   Pc1           891 non-null    float64\n",
      " 8   Pc2           891 non-null    float64\n",
      " 9   Pc3           891 non-null    float64\n",
      " 10  em1           891 non-null    float64\n",
      " 11  em2           891 non-null    float64\n",
      " 12  em3           891 non-null    float64\n",
      " 13  PassengerId   891 non-null    int64  \n",
      " 14  Survived      891 non-null    int64  \n",
      " 15  Name          891 non-null    object \n",
      " 16  Ticket        891 non-null    object \n",
      " 17  Embarked      891 non-null    object \n",
      " 18  Title         891 non-null    object \n",
      " 19  Age_tb        891 non-null    float64\n",
      " 20  FareBin_Code  891 non-null    int32  \n",
      " 21  AgeBin_Code   891 non-null    int32  \n",
      "dtypes: float64(14), int32(2), int64(2), object(4)\n",
      "memory usage: 146.3+ KB\n"
     ]
    }
   ],
   "source": [
    "train_imp.info()"
   ]
  },
  {
   "cell_type": "code",
   "execution_count": 50,
   "id": "37df6296",
   "metadata": {},
   "outputs": [
    {
     "name": "stdout",
     "output_type": "stream",
     "text": [
      "<class 'pandas.core.frame.DataFrame'>\n",
      "RangeIndex: 418 entries, 0 to 417\n",
      "Data columns (total 21 columns):\n",
      " #   Column        Non-Null Count  Dtype  \n",
      "---  ------        --------------  -----  \n",
      " 0   Pclass        418 non-null    float64\n",
      " 1   Sex           418 non-null    float64\n",
      " 2   Age           418 non-null    float64\n",
      " 3   SibSp         418 non-null    float64\n",
      " 4   Parch         418 non-null    float64\n",
      " 5   Fare          418 non-null    float64\n",
      " 6   FamilySize    418 non-null    float64\n",
      " 7   Pc1           418 non-null    float64\n",
      " 8   Pc2           418 non-null    float64\n",
      " 9   Pc3           418 non-null    float64\n",
      " 10  em1           418 non-null    float64\n",
      " 11  em2           418 non-null    float64\n",
      " 12  em3           418 non-null    float64\n",
      " 13  PassengerId   418 non-null    int64  \n",
      " 14  Name          418 non-null    object \n",
      " 15  Ticket        418 non-null    object \n",
      " 16  Embarked      418 non-null    object \n",
      " 17  Title         418 non-null    object \n",
      " 18  Age_tb        418 non-null    float64\n",
      " 19  FareBin_Code  418 non-null    int32  \n",
      " 20  AgeBin_Code   418 non-null    int32  \n",
      "dtypes: float64(14), int32(2), int64(1), object(4)\n",
      "memory usage: 65.4+ KB\n"
     ]
    }
   ],
   "source": [
    "test_imp.info()"
   ]
  },
  {
   "attachments": {},
   "cell_type": "markdown",
   "id": "664583dd",
   "metadata": {
    "papermill": {
     "duration": 0.047093,
     "end_time": "2023-01-02T00:48:16.644617",
     "exception": false,
     "start_time": "2023-01-02T00:48:16.597524",
     "status": "completed"
    },
    "tags": []
   },
   "source": [
    "## **3. Analyzing Data:**"
   ]
  },
  {
   "attachments": {},
   "cell_type": "markdown",
   "id": "bc236330",
   "metadata": {},
   "source": [
    "**3.1 Imputed Age Values:**\n",
    "\n",
    "First, lets compare the imputed values of 'Age' using the two aforementioned methods:"
   ]
  },
  {
   "cell_type": "code",
   "execution_count": 51,
   "id": "16b566f4",
   "metadata": {},
   "outputs": [
    {
     "data": {
      "text/plain": [
       "<matplotlib.legend.Legend at 0x1d64b641fa0>"
      ]
     },
     "execution_count": 51,
     "metadata": {},
     "output_type": "execute_result"
    },
    {
     "data": {
      "image/png": "[encoded data removed]",
      "text/plain": [
       "<Figure size 1200x500 with 2 Axes>"
      ]
     },
     "metadata": {},
     "output_type": "display_data"
    }
   ],
   "source": [
    "A = train_imp[['Age','Age_tb']][train_df['Age'].isna()]\n",
    "B = train_imp[['Age']][train_df['Age'].notna()] # two check the distribution of the recorded values of age\n",
    "\n",
    "fig, (ax1, ax2) = plt.subplots(1, 2, figsize=(12,5))\n",
    "ax1.scatter(A.index, A['Age'], alpha=0.5, label='Computed by KNNImputer')\n",
    "ax1.scatter(A.index, A['Age_tb'], alpha=0.5, label='Computed by Title-based')\n",
    "ax1.set_xlabel('Index-PassengerId')\n",
    "ax1.set_ylabel('Age')\n",
    "ax1.set_ylim(-10, 85)\n",
    "ax1.legend()\n",
    "\n",
    "ax2.scatter(B.index, B['Age'], alpha=0.5, label='Recorded')\n",
    "ax2.set_xlabel('Index-PassengerId')\n",
    "ax2.set_ylabel('Age')\n",
    "ax2.set_ylim(-10, 85)\n",
    "ax2.legend()"
   ]
  },
  {
   "attachments": {},
   "cell_type": "markdown",
   "id": "80049194",
   "metadata": {
    "papermill": {
     "duration": 0.017519,
     "end_time": "2023-01-02T00:48:16.683252",
     "exception": false,
     "start_time": "2023-01-02T00:48:16.665733",
     "status": "completed"
    },
    "tags": []
   },
   "source": [
    "**3.2 Survival based on the number of passengers:**\n",
    "\n",
    "What percentage of the passengers survived?"
   ]
  },
  {
   "cell_type": "code",
   "execution_count": 52,
   "id": "c6274333",
   "metadata": {
    "execution": {
     "iopub.execute_input": "2023-01-02T00:48:16.721584Z",
     "iopub.status.busy": "2023-01-02T00:48:16.720528Z",
     "iopub.status.idle": "2023-01-02T00:48:16.730374Z",
     "shell.execute_reply": "2023-01-02T00:48:16.728970Z"
    },
    "papermill": {
     "duration": 0.031506,
     "end_time": "2023-01-02T00:48:16.732817",
     "exception": false,
     "start_time": "2023-01-02T00:48:16.701311",
     "status": "completed"
    },
    "tags": []
   },
   "outputs": [
    {
     "data": {
      "text/plain": [
       "0    0.616162\n",
       "1    0.383838\n",
       "Name: Survived, dtype: float64"
      ]
     },
     "execution_count": 52,
     "metadata": {},
     "output_type": "execute_result"
    }
   ],
   "source": [
    "train_imp['Survived'].value_counts()/len(train_imp)"
   ]
  },
  {
   "attachments": {},
   "cell_type": "markdown",
   "id": "5ec0032e",
   "metadata": {},
   "source": [
    "So, about 62% of the passengers were survived.\n"
   ]
  },
  {
   "attachments": {},
   "cell_type": "markdown",
   "id": "343e42ae",
   "metadata": {
    "papermill": {
     "duration": 0.01873,
     "end_time": "2023-01-02T00:48:17.630367",
     "exception": false,
     "start_time": "2023-01-02T00:48:17.611637",
     "status": "completed"
    },
    "tags": []
   },
   "source": [
    "**3.3 Survival based on gender**\n",
    "\n",
    "What percentage of men (0) and women (1) survived?"
   ]
  },
  {
   "cell_type": "code",
   "execution_count": 53,
   "id": "79baf55d",
   "metadata": {
    "execution": {
     "iopub.execute_input": "2023-01-02T00:48:17.671366Z",
     "iopub.status.busy": "2023-01-02T00:48:17.670719Z",
     "iopub.status.idle": "2023-01-02T00:48:17.693305Z",
     "shell.execute_reply": "2023-01-02T00:48:17.691885Z"
    },
    "papermill": {
     "duration": 0.046624,
     "end_time": "2023-01-02T00:48:17.696109",
     "exception": false,
     "start_time": "2023-01-02T00:48:17.649485",
     "status": "completed"
    },
    "tags": []
   },
   "outputs": [
    {
     "data": {
      "text/html": [
       "<div>\n",
       "<style scoped>\n",
       "    .dataframe tbody tr th:only-of-type {\n",
       "        vertical-align: middle;\n",
       "    }\n",
       "\n",
       "    .dataframe tbody tr th {\n",
       "        vertical-align: top;\n",
       "    }\n",
       "\n",
       "    .dataframe thead th {\n",
       "        text-align: right;\n",
       "    }\n",
       "</style>\n",
       "<table border=\"1\" class=\"dataframe\">\n",
       "  <thead>\n",
       "    <tr style=\"text-align: right;\">\n",
       "      <th></th>\n",
       "      <th>Sex</th>\n",
       "      <th>Survived</th>\n",
       "      <th>Percentage_from_all</th>\n",
       "    </tr>\n",
       "  </thead>\n",
       "  <tbody>\n",
       "    <tr>\n",
       "      <th>0</th>\n",
       "      <td>0.0</td>\n",
       "      <td>0.188908</td>\n",
       "      <td>0.647587</td>\n",
       "    </tr>\n",
       "    <tr>\n",
       "      <th>1</th>\n",
       "      <td>1.0</td>\n",
       "      <td>0.742038</td>\n",
       "      <td>0.352413</td>\n",
       "    </tr>\n",
       "  </tbody>\n",
       "</table>\n",
       "</div>"
      ],
      "text/plain": [
       "   Sex  Survived  Percentage_from_all\n",
       "0  0.0  0.188908             0.647587\n",
       "1  1.0  0.742038             0.352413"
      ]
     },
     "execution_count": 53,
     "metadata": {},
     "output_type": "execute_result"
    }
   ],
   "source": [
    "a = train_imp[['Sex','Survived']].groupby(['Sex'], as_index=False).mean()\n",
    "a['Percentage_from_all'] = [train_imp[train_imp['Sex']==a.loc[0,'Sex']].shape[0]/len(train_imp),\n",
    "                            train_imp[train_imp['Sex']==a.loc[1,'Sex']].shape[0]/len(train_imp)]\n",
    "a"
   ]
  },
  {
   "attachments": {},
   "cell_type": "markdown",
   "id": "067b63cc",
   "metadata": {},
   "source": [
    "while about 65% of passengers are men, only 19% of them survived. 35% of passengers are women and 74% of them survived. This shows that priority for survival was with women."
   ]
  },
  {
   "attachments": {},
   "cell_type": "markdown",
   "id": "cd27b336",
   "metadata": {
    "papermill": {
     "duration": 0.020018,
     "end_time": "2023-01-02T00:48:17.738942",
     "exception": false,
     "start_time": "2023-01-02T00:48:17.718924",
     "status": "completed"
    },
    "tags": []
   },
   "source": [
    "**3.4 Survival based on SibSp:**\n",
    "\n",
    "What is the relation between the number of sibling/spouse and survival?"
   ]
  },
  {
   "cell_type": "code",
   "execution_count": 54,
   "id": "c629a056",
   "metadata": {
    "execution": {
     "iopub.execute_input": "2023-01-02T00:48:17.781407Z",
     "iopub.status.busy": "2023-01-02T00:48:17.780238Z",
     "iopub.status.idle": "2023-01-02T00:48:17.804527Z",
     "shell.execute_reply": "2023-01-02T00:48:17.803660Z"
    },
    "papermill": {
     "duration": 0.047836,
     "end_time": "2023-01-02T00:48:17.806770",
     "exception": false,
     "start_time": "2023-01-02T00:48:17.758934",
     "status": "completed"
    },
    "tags": []
   },
   "outputs": [
    {
     "data": {
      "text/html": [
       "<div>\n",
       "<style scoped>\n",
       "    .dataframe tbody tr th:only-of-type {\n",
       "        vertical-align: middle;\n",
       "    }\n",
       "\n",
       "    .dataframe tbody tr th {\n",
       "        vertical-align: top;\n",
       "    }\n",
       "\n",
       "    .dataframe thead th {\n",
       "        text-align: right;\n",
       "    }\n",
       "</style>\n",
       "<table border=\"1\" class=\"dataframe\">\n",
       "  <thead>\n",
       "    <tr style=\"text-align: right;\">\n",
       "      <th></th>\n",
       "      <th>SibSp</th>\n",
       "      <th>Survived</th>\n",
       "      <th>Percentage_from_all</th>\n",
       "    </tr>\n",
       "  </thead>\n",
       "  <tbody>\n",
       "    <tr>\n",
       "      <th>0</th>\n",
       "      <td>0.0</td>\n",
       "      <td>0.345395</td>\n",
       "      <td>0.682379</td>\n",
       "    </tr>\n",
       "    <tr>\n",
       "      <th>1</th>\n",
       "      <td>1.0</td>\n",
       "      <td>0.535885</td>\n",
       "      <td>0.234568</td>\n",
       "    </tr>\n",
       "    <tr>\n",
       "      <th>2</th>\n",
       "      <td>2.0</td>\n",
       "      <td>0.464286</td>\n",
       "      <td>0.031425</td>\n",
       "    </tr>\n",
       "    <tr>\n",
       "      <th>3</th>\n",
       "      <td>3.0</td>\n",
       "      <td>0.250000</td>\n",
       "      <td>0.017957</td>\n",
       "    </tr>\n",
       "    <tr>\n",
       "      <th>4</th>\n",
       "      <td>4.0</td>\n",
       "      <td>0.166667</td>\n",
       "      <td>0.020202</td>\n",
       "    </tr>\n",
       "    <tr>\n",
       "      <th>5</th>\n",
       "      <td>5.0</td>\n",
       "      <td>0.000000</td>\n",
       "      <td>0.005612</td>\n",
       "    </tr>\n",
       "    <tr>\n",
       "      <th>6</th>\n",
       "      <td>8.0</td>\n",
       "      <td>0.000000</td>\n",
       "      <td>0.007856</td>\n",
       "    </tr>\n",
       "  </tbody>\n",
       "</table>\n",
       "</div>"
      ],
      "text/plain": [
       "   SibSp  Survived  Percentage_from_all\n",
       "0    0.0  0.345395             0.682379\n",
       "1    1.0  0.535885             0.234568\n",
       "2    2.0  0.464286             0.031425\n",
       "3    3.0  0.250000             0.017957\n",
       "4    4.0  0.166667             0.020202\n",
       "5    5.0  0.000000             0.005612\n",
       "6    8.0  0.000000             0.007856"
      ]
     },
     "execution_count": 54,
     "metadata": {},
     "output_type": "execute_result"
    }
   ],
   "source": [
    "a = train_imp[['SibSp','Survived']].groupby(['SibSp'], as_index=False).mean()\n",
    "a['Percentage_from_all'] = [train_imp[train_imp['SibSp']==a.loc[0,'SibSp']].shape[0]/len(train_imp),\n",
    "                            train_imp[train_imp['SibSp']==a.loc[1,'SibSp']].shape[0]/len(train_imp),\n",
    "                            train_imp[train_imp['SibSp']==a.loc[2,'SibSp']].shape[0]/len(train_imp),\n",
    "                            train_imp[train_imp['SibSp']==a.loc[3,'SibSp']].shape[0]/len(train_imp),\n",
    "                            train_imp[train_imp['SibSp']==a.loc[4,'SibSp']].shape[0]/len(train_imp),\n",
    "                            train_imp[train_imp['SibSp']==a.loc[5,'SibSp']].shape[0]/len(train_imp),\n",
    "                            train_imp[train_imp['SibSp']==a.loc[6,'SibSp']].shape[0]/len(train_imp)]\n",
    "a"
   ]
  },
  {
   "attachments": {},
   "cell_type": "markdown",
   "id": "b4eabee2",
   "metadata": {},
   "source": [
    "The greatest chance of survival is for those with SibSp = 1. They constitute 23% of the passengers."
   ]
  },
  {
   "attachments": {},
   "cell_type": "markdown",
   "id": "5857550c",
   "metadata": {
    "papermill": {
     "duration": 0.019004,
     "end_time": "2023-01-02T00:48:17.845208",
     "exception": false,
     "start_time": "2023-01-02T00:48:17.826204",
     "status": "completed"
    },
    "tags": []
   },
   "source": [
    "**3.5 Survival based on Parch:**\n",
    "\n",
    "What is the relation between the number of parents/children and survival?"
   ]
  },
  {
   "cell_type": "code",
   "execution_count": 55,
   "id": "54f4f227",
   "metadata": {
    "execution": {
     "iopub.execute_input": "2023-01-02T00:48:17.886385Z",
     "iopub.status.busy": "2023-01-02T00:48:17.885329Z",
     "iopub.status.idle": "2023-01-02T00:48:17.910504Z",
     "shell.execute_reply": "2023-01-02T00:48:17.909306Z"
    },
    "papermill": {
     "duration": 0.04836,
     "end_time": "2023-01-02T00:48:17.912930",
     "exception": false,
     "start_time": "2023-01-02T00:48:17.864570",
     "status": "completed"
    },
    "tags": []
   },
   "outputs": [
    {
     "data": {
      "text/html": [
       "<div>\n",
       "<style scoped>\n",
       "    .dataframe tbody tr th:only-of-type {\n",
       "        vertical-align: middle;\n",
       "    }\n",
       "\n",
       "    .dataframe tbody tr th {\n",
       "        vertical-align: top;\n",
       "    }\n",
       "\n",
       "    .dataframe thead th {\n",
       "        text-align: right;\n",
       "    }\n",
       "</style>\n",
       "<table border=\"1\" class=\"dataframe\">\n",
       "  <thead>\n",
       "    <tr style=\"text-align: right;\">\n",
       "      <th></th>\n",
       "      <th>Parch</th>\n",
       "      <th>Survived</th>\n",
       "      <th>Percentage_from_all</th>\n",
       "    </tr>\n",
       "  </thead>\n",
       "  <tbody>\n",
       "    <tr>\n",
       "      <th>0</th>\n",
       "      <td>0.0</td>\n",
       "      <td>0.343658</td>\n",
       "      <td>0.760943</td>\n",
       "    </tr>\n",
       "    <tr>\n",
       "      <th>1</th>\n",
       "      <td>1.0</td>\n",
       "      <td>0.550847</td>\n",
       "      <td>0.132435</td>\n",
       "    </tr>\n",
       "    <tr>\n",
       "      <th>2</th>\n",
       "      <td>2.0</td>\n",
       "      <td>0.500000</td>\n",
       "      <td>0.089787</td>\n",
       "    </tr>\n",
       "    <tr>\n",
       "      <th>3</th>\n",
       "      <td>3.0</td>\n",
       "      <td>0.600000</td>\n",
       "      <td>0.005612</td>\n",
       "    </tr>\n",
       "    <tr>\n",
       "      <th>4</th>\n",
       "      <td>4.0</td>\n",
       "      <td>0.000000</td>\n",
       "      <td>0.004489</td>\n",
       "    </tr>\n",
       "    <tr>\n",
       "      <th>5</th>\n",
       "      <td>5.0</td>\n",
       "      <td>0.200000</td>\n",
       "      <td>0.005612</td>\n",
       "    </tr>\n",
       "    <tr>\n",
       "      <th>6</th>\n",
       "      <td>6.0</td>\n",
       "      <td>0.000000</td>\n",
       "      <td>0.001122</td>\n",
       "    </tr>\n",
       "  </tbody>\n",
       "</table>\n",
       "</div>"
      ],
      "text/plain": [
       "   Parch  Survived  Percentage_from_all\n",
       "0    0.0  0.343658             0.760943\n",
       "1    1.0  0.550847             0.132435\n",
       "2    2.0  0.500000             0.089787\n",
       "3    3.0  0.600000             0.005612\n",
       "4    4.0  0.000000             0.004489\n",
       "5    5.0  0.200000             0.005612\n",
       "6    6.0  0.000000             0.001122"
      ]
     },
     "execution_count": 55,
     "metadata": {},
     "output_type": "execute_result"
    }
   ],
   "source": [
    "a = train_imp[['Parch','Survived']].groupby(['Parch'], as_index=False).mean()\n",
    "a['Percentage_from_all'] = [train_imp[train_imp['Parch']==a.loc[0,'Parch']].shape[0]/len(train_imp),\n",
    "                            train_imp[train_imp['Parch']==a.loc[1,'Parch']].shape[0]/len(train_imp),\n",
    "                            train_imp[train_imp['Parch']==a.loc[2,'Parch']].shape[0]/len(train_imp),\n",
    "                            train_imp[train_imp['Parch']==a.loc[3,'Parch']].shape[0]/len(train_imp),\n",
    "                            train_imp[train_imp['Parch']==a.loc[4,'Parch']].shape[0]/len(train_imp),\n",
    "                            train_imp[train_imp['Parch']==a.loc[5,'Parch']].shape[0]/len(train_imp),\n",
    "                            train_imp[train_imp['Parch']==a.loc[6,'Parch']].shape[0]/len(train_imp)]\n",
    "a"
   ]
  },
  {
   "attachments": {},
   "cell_type": "markdown",
   "id": "282ad665",
   "metadata": {},
   "source": [
    "The greatest chance of survival is for those with Parch = 3. They constitute 0.5% of the passengers."
   ]
  },
  {
   "attachments": {},
   "cell_type": "markdown",
   "id": "a19bec60",
   "metadata": {
    "papermill": {
     "duration": 0.020458,
     "end_time": "2023-01-02T00:48:17.953580",
     "exception": false,
     "start_time": "2023-01-02T00:48:17.933122",
     "status": "completed"
    },
    "tags": []
   },
   "source": [
    "**3.6 Survival based on Pclass:**\n",
    "\n",
    "What is the relation between the ticket class and survival?"
   ]
  },
  {
   "cell_type": "code",
   "execution_count": 56,
   "id": "f92718e5",
   "metadata": {
    "execution": {
     "iopub.execute_input": "2023-01-02T00:48:17.996774Z",
     "iopub.status.busy": "2023-01-02T00:48:17.996080Z",
     "iopub.status.idle": "2023-01-02T00:48:18.014195Z",
     "shell.execute_reply": "2023-01-02T00:48:18.012965Z"
    },
    "papermill": {
     "duration": 0.042354,
     "end_time": "2023-01-02T00:48:18.016684",
     "exception": false,
     "start_time": "2023-01-02T00:48:17.974330",
     "status": "completed"
    },
    "tags": []
   },
   "outputs": [
    {
     "data": {
      "text/html": [
       "<div>\n",
       "<style scoped>\n",
       "    .dataframe tbody tr th:only-of-type {\n",
       "        vertical-align: middle;\n",
       "    }\n",
       "\n",
       "    .dataframe tbody tr th {\n",
       "        vertical-align: top;\n",
       "    }\n",
       "\n",
       "    .dataframe thead th {\n",
       "        text-align: right;\n",
       "    }\n",
       "</style>\n",
       "<table border=\"1\" class=\"dataframe\">\n",
       "  <thead>\n",
       "    <tr style=\"text-align: right;\">\n",
       "      <th></th>\n",
       "      <th>Pclass</th>\n",
       "      <th>Survived</th>\n",
       "      <th>Percentage_from_all</th>\n",
       "    </tr>\n",
       "  </thead>\n",
       "  <tbody>\n",
       "    <tr>\n",
       "      <th>0</th>\n",
       "      <td>1.0</td>\n",
       "      <td>0.629630</td>\n",
       "      <td>0.242424</td>\n",
       "    </tr>\n",
       "    <tr>\n",
       "      <th>1</th>\n",
       "      <td>2.0</td>\n",
       "      <td>0.472826</td>\n",
       "      <td>0.206510</td>\n",
       "    </tr>\n",
       "    <tr>\n",
       "      <th>2</th>\n",
       "      <td>3.0</td>\n",
       "      <td>0.242363</td>\n",
       "      <td>0.551066</td>\n",
       "    </tr>\n",
       "  </tbody>\n",
       "</table>\n",
       "</div>"
      ],
      "text/plain": [
       "   Pclass  Survived  Percentage_from_all\n",
       "0     1.0  0.629630             0.242424\n",
       "1     2.0  0.472826             0.206510\n",
       "2     3.0  0.242363             0.551066"
      ]
     },
     "execution_count": 56,
     "metadata": {},
     "output_type": "execute_result"
    }
   ],
   "source": [
    "a = train_imp[['Pclass','Survived']].groupby(['Pclass'], as_index=False).mean()\n",
    "a['Percentage_from_all'] = [train_imp[train_imp['Pclass']==a.loc[0,'Pclass']].shape[0]/len(train_imp),\n",
    "                            train_imp[train_imp['Pclass']==a.loc[1,'Pclass']].shape[0]/len(train_imp),\n",
    "                            train_imp[train_imp['Pclass']==a.loc[2,'Pclass']].shape[0]/len(train_imp)]\n",
    "a"
   ]
  },
  {
   "attachments": {},
   "cell_type": "markdown",
   "id": "6fad3587",
   "metadata": {},
   "source": [
    "The greatest chance of survival is for those with Pclass = 1. They constitute 24% of the passengers."
   ]
  },
  {
   "attachments": {},
   "cell_type": "markdown",
   "id": "a4d81a6c",
   "metadata": {
    "papermill": {
     "duration": 0.019836,
     "end_time": "2023-01-02T00:48:18.056966",
     "exception": false,
     "start_time": "2023-01-02T00:48:18.037130",
     "status": "completed"
    },
    "tags": []
   },
   "source": [
    "**3.7 Survival based on Embarked:**\n",
    "\n",
    "What is the relation between the port of embarkation and survival?"
   ]
  },
  {
   "cell_type": "code",
   "execution_count": 57,
   "id": "a9b3655f",
   "metadata": {
    "execution": {
     "iopub.execute_input": "2023-01-02T00:48:18.099318Z",
     "iopub.status.busy": "2023-01-02T00:48:18.098577Z",
     "iopub.status.idle": "2023-01-02T00:48:18.117402Z",
     "shell.execute_reply": "2023-01-02T00:48:18.116267Z"
    },
    "papermill": {
     "duration": 0.043033,
     "end_time": "2023-01-02T00:48:18.120008",
     "exception": false,
     "start_time": "2023-01-02T00:48:18.076975",
     "status": "completed"
    },
    "tags": []
   },
   "outputs": [
    {
     "data": {
      "text/html": [
       "<div>\n",
       "<style scoped>\n",
       "    .dataframe tbody tr th:only-of-type {\n",
       "        vertical-align: middle;\n",
       "    }\n",
       "\n",
       "    .dataframe tbody tr th {\n",
       "        vertical-align: top;\n",
       "    }\n",
       "\n",
       "    .dataframe thead th {\n",
       "        text-align: right;\n",
       "    }\n",
       "</style>\n",
       "<table border=\"1\" class=\"dataframe\">\n",
       "  <thead>\n",
       "    <tr style=\"text-align: right;\">\n",
       "      <th></th>\n",
       "      <th>Embarked</th>\n",
       "      <th>Survived</th>\n",
       "      <th>Percentage_from_all</th>\n",
       "    </tr>\n",
       "  </thead>\n",
       "  <tbody>\n",
       "    <tr>\n",
       "      <th>0</th>\n",
       "      <td>C</td>\n",
       "      <td>0.558824</td>\n",
       "      <td>0.190797</td>\n",
       "    </tr>\n",
       "    <tr>\n",
       "      <th>1</th>\n",
       "      <td>Q</td>\n",
       "      <td>0.389610</td>\n",
       "      <td>0.086420</td>\n",
       "    </tr>\n",
       "    <tr>\n",
       "      <th>2</th>\n",
       "      <td>S</td>\n",
       "      <td>0.336957</td>\n",
       "      <td>0.722783</td>\n",
       "    </tr>\n",
       "  </tbody>\n",
       "</table>\n",
       "</div>"
      ],
      "text/plain": [
       "  Embarked  Survived  Percentage_from_all\n",
       "0        C  0.558824             0.190797\n",
       "1        Q  0.389610             0.086420\n",
       "2        S  0.336957             0.722783"
      ]
     },
     "execution_count": 57,
     "metadata": {},
     "output_type": "execute_result"
    }
   ],
   "source": [
    "a = train_imp[['Embarked','Survived']].groupby(['Embarked'], as_index=False).mean()\n",
    "a['Percentage_from_all'] = [train_imp[train_imp['Embarked']==a.loc[0,'Embarked']].shape[0]/len(train_imp),\n",
    "                            train_imp[train_imp['Embarked']==a.loc[1,'Embarked']].shape[0]/len(train_imp),\n",
    "                            train_imp[train_imp['Embarked']==a.loc[2,'Embarked']].shape[0]/len(train_imp)]\n",
    "a"
   ]
  },
  {
   "attachments": {},
   "cell_type": "markdown",
   "id": "830c6992",
   "metadata": {},
   "source": [
    "The greatest chance of survival is for those with Embarked = C. They constitute 19% of the passengers."
   ]
  },
  {
   "attachments": {},
   "cell_type": "markdown",
   "id": "55c89dcd",
   "metadata": {},
   "source": [
    "**3.8 Survival based on FareBin_Code:**\n",
    "\n",
    "What is the relation between the bin codes we generated for 'Fare' and survival?"
   ]
  },
  {
   "cell_type": "code",
   "execution_count": 58,
   "id": "de0e2683",
   "metadata": {},
   "outputs": [
    {
     "data": {
      "text/html": [
       "<div>\n",
       "<style scoped>\n",
       "    .dataframe tbody tr th:only-of-type {\n",
       "        vertical-align: middle;\n",
       "    }\n",
       "\n",
       "    .dataframe tbody tr th {\n",
       "        vertical-align: top;\n",
       "    }\n",
       "\n",
       "    .dataframe thead th {\n",
       "        text-align: right;\n",
       "    }\n",
       "</style>\n",
       "<table border=\"1\" class=\"dataframe\">\n",
       "  <thead>\n",
       "    <tr style=\"text-align: right;\">\n",
       "      <th></th>\n",
       "      <th>FareBin_Code</th>\n",
       "      <th>Survived</th>\n",
       "      <th>Percentage_from_all</th>\n",
       "    </tr>\n",
       "  </thead>\n",
       "  <tbody>\n",
       "    <tr>\n",
       "      <th>0</th>\n",
       "      <td>0</td>\n",
       "      <td>0.217877</td>\n",
       "      <td>0.200898</td>\n",
       "    </tr>\n",
       "    <tr>\n",
       "      <th>1</th>\n",
       "      <td>1</td>\n",
       "      <td>0.201087</td>\n",
       "      <td>0.206510</td>\n",
       "    </tr>\n",
       "    <tr>\n",
       "      <th>2</th>\n",
       "      <td>2</td>\n",
       "      <td>0.424419</td>\n",
       "      <td>0.193042</td>\n",
       "    </tr>\n",
       "    <tr>\n",
       "      <th>3</th>\n",
       "      <td>3</td>\n",
       "      <td>0.444444</td>\n",
       "      <td>0.202020</td>\n",
       "    </tr>\n",
       "    <tr>\n",
       "      <th>4</th>\n",
       "      <td>4</td>\n",
       "      <td>0.642045</td>\n",
       "      <td>0.197531</td>\n",
       "    </tr>\n",
       "  </tbody>\n",
       "</table>\n",
       "</div>"
      ],
      "text/plain": [
       "   FareBin_Code  Survived  Percentage_from_all\n",
       "0             0  0.217877             0.200898\n",
       "1             1  0.201087             0.206510\n",
       "2             2  0.424419             0.193042\n",
       "3             3  0.444444             0.202020\n",
       "4             4  0.642045             0.197531"
      ]
     },
     "execution_count": 58,
     "metadata": {},
     "output_type": "execute_result"
    }
   ],
   "source": [
    "a = train_imp[['FareBin_Code','Survived']].groupby(['FareBin_Code'], as_index=False).mean()\n",
    "a['Percentage_from_all'] = [train_imp[train_imp['FareBin_Code']==a.loc[0,'FareBin_Code']].shape[0]/len(train_imp),\n",
    "                            train_imp[train_imp['FareBin_Code']==a.loc[1,'FareBin_Code']].shape[0]/len(train_imp),\n",
    "                            train_imp[train_imp['FareBin_Code']==a.loc[2,'FareBin_Code']].shape[0]/len(train_imp),\n",
    "                            train_imp[train_imp['FareBin_Code']==a.loc[3,'FareBin_Code']].shape[0]/len(train_imp),\n",
    "                            train_imp[train_imp['FareBin_Code']==a.loc[4,'FareBin_Code']].shape[0]/len(train_imp)]\n",
    "a"
   ]
  },
  {
   "attachments": {},
   "cell_type": "markdown",
   "id": "8568023c",
   "metadata": {},
   "source": [
    "The greatest chance of survival is for those with FareBin_Code = 4. They constitute 19% of the passengers."
   ]
  },
  {
   "attachments": {},
   "cell_type": "markdown",
   "id": "efd350d0",
   "metadata": {},
   "source": [
    "**3.9 Survival based on AgeBin_Code:**\n",
    "\n",
    "What is the relation between the bin codes we generated for 'Age' and survival?"
   ]
  },
  {
   "cell_type": "code",
   "execution_count": 59,
   "id": "a4e453c4",
   "metadata": {},
   "outputs": [
    {
     "data": {
      "text/html": [
       "<div>\n",
       "<style scoped>\n",
       "    .dataframe tbody tr th:only-of-type {\n",
       "        vertical-align: middle;\n",
       "    }\n",
       "\n",
       "    .dataframe tbody tr th {\n",
       "        vertical-align: top;\n",
       "    }\n",
       "\n",
       "    .dataframe thead th {\n",
       "        text-align: right;\n",
       "    }\n",
       "</style>\n",
       "<table border=\"1\" class=\"dataframe\">\n",
       "  <thead>\n",
       "    <tr style=\"text-align: right;\">\n",
       "      <th></th>\n",
       "      <th>AgeBin_Code</th>\n",
       "      <th>Survived</th>\n",
       "      <th>Percentage_from_all</th>\n",
       "    </tr>\n",
       "  </thead>\n",
       "  <tbody>\n",
       "    <tr>\n",
       "      <th>0</th>\n",
       "      <td>0</td>\n",
       "      <td>0.416667</td>\n",
       "      <td>0.242424</td>\n",
       "    </tr>\n",
       "    <tr>\n",
       "      <th>1</th>\n",
       "      <td>1</td>\n",
       "      <td>0.377289</td>\n",
       "      <td>0.306397</td>\n",
       "    </tr>\n",
       "    <tr>\n",
       "      <th>2</th>\n",
       "      <td>2</td>\n",
       "      <td>0.387324</td>\n",
       "      <td>0.159371</td>\n",
       "    </tr>\n",
       "    <tr>\n",
       "      <th>3</th>\n",
       "      <td>3</td>\n",
       "      <td>0.361538</td>\n",
       "      <td>0.291807</td>\n",
       "    </tr>\n",
       "  </tbody>\n",
       "</table>\n",
       "</div>"
      ],
      "text/plain": [
       "   AgeBin_Code  Survived  Percentage_from_all\n",
       "0            0  0.416667             0.242424\n",
       "1            1  0.377289             0.306397\n",
       "2            2  0.387324             0.159371\n",
       "3            3  0.361538             0.291807"
      ]
     },
     "execution_count": 59,
     "metadata": {},
     "output_type": "execute_result"
    }
   ],
   "source": [
    "a = train_imp[['AgeBin_Code','Survived']].groupby(['AgeBin_Code'], as_index=False).mean()\n",
    "a['Percentage_from_all'] = [train_imp[train_imp['AgeBin_Code']==a.loc[0,'AgeBin_Code']].shape[0]/len(train_imp),\n",
    "                            train_imp[train_imp['AgeBin_Code']==a.loc[1,'AgeBin_Code']].shape[0]/len(train_imp),\n",
    "                            train_imp[train_imp['AgeBin_Code']==a.loc[2,'AgeBin_Code']].shape[0]/len(train_imp),\n",
    "                            train_imp[train_imp['AgeBin_Code']==a.loc[3,'AgeBin_Code']].shape[0]/len(train_imp)]\n",
    "a"
   ]
  },
  {
   "attachments": {},
   "cell_type": "markdown",
   "id": "9baad791",
   "metadata": {},
   "source": [
    "The greatest chance of survival is for those with AgeBin_Code = 0. They constitute 24% of the passengers."
   ]
  },
  {
   "attachments": {},
   "cell_type": "markdown",
   "id": "9b286557",
   "metadata": {
    "papermill": {
     "duration": 0.020288,
     "end_time": "2023-01-02T00:48:18.161212",
     "exception": false,
     "start_time": "2023-01-02T00:48:18.140924",
     "status": "completed"
    },
    "tags": []
   },
   "source": [
    "**3.10 Fare distribution based on survival:**\n",
    "\n",
    "How the fare paid by the passengers relate to their survival?"
   ]
  },
  {
   "cell_type": "code",
   "execution_count": 60,
   "id": "d6bf72f6",
   "metadata": {
    "execution": {
     "iopub.execute_input": "2023-01-02T00:48:18.205318Z",
     "iopub.status.busy": "2023-01-02T00:48:18.204882Z",
     "iopub.status.idle": "2023-01-02T00:48:18.421434Z",
     "shell.execute_reply": "2023-01-02T00:48:18.420294Z"
    },
    "papermill": {
     "duration": 0.242151,
     "end_time": "2023-01-02T00:48:18.423952",
     "exception": false,
     "start_time": "2023-01-02T00:48:18.181801",
     "status": "completed"
    },
    "tags": []
   },
   "outputs": [
    {
     "data": {
      "text/plain": [
       "Text(0, 0.5, 'Survived')"
      ]
     },
     "execution_count": 60,
     "metadata": {},
     "output_type": "execute_result"
    },
    {
     "data": {
      "image/png": "[encoded data removed]",
      "text/plain": [
       "<Figure size 1300x100 with 1 Axes>"
      ]
     },
     "metadata": {},
     "output_type": "display_data"
    }
   ],
   "source": [
    "plt.figure(figsize=(13,1))\n",
    "plt.scatter(train_imp['Fare'], train_imp['Survived'], s=40, alpha=0.3)\n",
    "plt.ylim(-0.5,1.5)\n",
    "plt.xlabel('Fare')\n",
    "plt.ylabel('Survived')"
   ]
  },
  {
   "attachments": {},
   "cell_type": "markdown",
   "id": "6be361e0",
   "metadata": {
    "papermill": {
     "duration": 0.019775,
     "end_time": "2023-01-02T00:48:18.463903",
     "exception": false,
     "start_time": "2023-01-02T00:48:18.444128",
     "status": "completed"
    },
    "tags": []
   },
   "source": [
    "**3.11 Age distribution based on survival:**\n",
    "\n",
    "How the age of the passengers relate to their survival?"
   ]
  },
  {
   "cell_type": "code",
   "execution_count": 61,
   "id": "20b49d23",
   "metadata": {
    "execution": {
     "iopub.execute_input": "2023-01-02T00:48:18.506597Z",
     "iopub.status.busy": "2023-01-02T00:48:18.505455Z",
     "iopub.status.idle": "2023-01-02T00:48:18.727620Z",
     "shell.execute_reply": "2023-01-02T00:48:18.726295Z"
    },
    "papermill": {
     "duration": 0.246201,
     "end_time": "2023-01-02T00:48:18.730258",
     "exception": false,
     "start_time": "2023-01-02T00:48:18.484057",
     "status": "completed"
    },
    "tags": []
   },
   "outputs": [
    {
     "data": {
      "text/plain": [
       "Text(0, 0.5, 'Survived')"
      ]
     },
     "execution_count": 61,
     "metadata": {},
     "output_type": "execute_result"
    },
    {
     "data": {
      "image/png": "[encoded data removed]",
      "text/plain": [
       "<Figure size 1300x100 with 1 Axes>"
      ]
     },
     "metadata": {},
     "output_type": "display_data"
    }
   ],
   "source": [
    "plt.figure(figsize=(13,1))\n",
    "plt.scatter(train_imp['Age'], train_imp['Survived'], s=40, alpha=0.3)\n",
    "plt.ylim(-0.5,1.5)\n",
    "plt.xlabel('Age')\n",
    "plt.ylabel('Survived')"
   ]
  },
  {
   "attachments": {},
   "cell_type": "markdown",
   "id": "363daa18",
   "metadata": {},
   "source": [
    "**3.12 Correlation Coefficients:**\n",
    "\n",
    "We take a look at the correlations."
   ]
  },
  {
   "cell_type": "code",
   "execution_count": 62,
   "id": "6358170a",
   "metadata": {},
   "outputs": [
    {
     "name": "stderr",
     "output_type": "stream",
     "text": [
      "C:\\Users\\MIO\\AppData\\Local\\Temp\\ipykernel_19436\\2796105455.py:3: FutureWarning: The default value of numeric_only in DataFrame.corr is deprecated. In a future version, it will default to False. Select only valid columns or specify the value of numeric_only to silence this warning.\n",
      "  mask = np.triu(np.ones_like(train_imp.corr(), dtype=bool))\n",
      "C:\\Users\\MIO\\AppData\\Local\\Temp\\ipykernel_19436\\2796105455.py:4: FutureWarning: The default value of numeric_only in DataFrame.corr is deprecated. In a future version, it will default to False. Select only valid columns or specify the value of numeric_only to silence this warning.\n",
      "  heatmap = sns.heatmap(train_imp.corr(), mask=mask, vmin=-1, vmax=1, annot=True, cmap='BrBG')\n"
     ]
    },
    {
     "data": {
      "text/plain": [
       "Text(0.5, 1.0, 'Correlation Heatmap in Train Set')"
      ]
     },
     "execution_count": 62,
     "metadata": {},
     "output_type": "execute_result"
    },
    {
     "data": {
      "image/png": "[encoded data removed]",
      "text/plain": [
       "<Figure size 1200x800 with 2 Axes>"
      ]
     },
     "metadata": {},
     "output_type": "display_data"
    }
   ],
   "source": [
    "plt.figure(figsize=(12,8))\n",
    "# define the mask to set the values in the upper triangle to True\n",
    "mask = np.triu(np.ones_like(train_imp.corr(), dtype=bool))\n",
    "heatmap = sns.heatmap(train_imp.corr(), mask=mask, vmin=-1, vmax=1, annot=True, cmap='BrBG')\n",
    "heatmap.set_title('Correlation Heatmap in Train Set', fontdict={'fontsize':18})"
   ]
  },
  {
   "attachments": {},
   "cell_type": "markdown",
   "id": "3fc66b43",
   "metadata": {},
   "source": [
    "As we can see, 'Sex' and 'Pclass' have the greatest correlations with survival, one positive and the other negative. "
   ]
  },
  {
   "attachments": {},
   "cell_type": "markdown",
   "id": "f7a051c5",
   "metadata": {},
   "source": [
    "**3.13 Have a look at the Predictive Power Score (PPScore):**\n",
    "\n",
    "The PPS is an asymmetric, data-type-agnostic score that can detect linear or non-linear relationships between two columns. The score ranges from 0 (no predictive power) to 1 (perfect predictive power). It can be used as an alternative to the correlation (matrix) [1].\n",
    "\n",
    "[1] https://github.com/8080labs/ppscore\n",
    "More in: https://towardsdatascience.com/rip-correlation-introducing-the-predictive-power-score-3d90808b9598 "
   ]
  },
  {
   "cell_type": "code",
   "execution_count": 76,
   "id": "b6346317",
   "metadata": {},
   "outputs": [
    {
     "name": "stderr",
     "output_type": "stream",
     "text": [
      "c:\\Behzad\\gitHub-Projects\\Kaggle\\Titanic\\env_titanic\\lib\\site-packages\\sklearn\\model_selection\\_split.py:666: UserWarning: The least populated class in y has only 1 members, which is less than n_splits=4.\n",
      "  warnings.warn((\"The least populated class in y has only %d\"\n",
      "c:\\Behzad\\gitHub-Projects\\Kaggle\\Titanic\\env_titanic\\lib\\site-packages\\sklearn\\model_selection\\_split.py:666: UserWarning: The least populated class in y has only 1 members, which is less than n_splits=4.\n",
      "  warnings.warn((\"The least populated class in y has only %d\"\n",
      "c:\\Behzad\\gitHub-Projects\\Kaggle\\Titanic\\env_titanic\\lib\\site-packages\\sklearn\\model_selection\\_split.py:666: UserWarning: The least populated class in y has only 1 members, which is less than n_splits=4.\n",
      "  warnings.warn((\"The least populated class in y has only %d\"\n",
      "c:\\Behzad\\gitHub-Projects\\Kaggle\\Titanic\\env_titanic\\lib\\site-packages\\sklearn\\model_selection\\_split.py:666: UserWarning: The least populated class in y has only 1 members, which is less than n_splits=4.\n",
      "  warnings.warn((\"The least populated class in y has only %d\"\n",
      "c:\\Behzad\\gitHub-Projects\\Kaggle\\Titanic\\env_titanic\\lib\\site-packages\\sklearn\\model_selection\\_split.py:666: UserWarning: The least populated class in y has only 1 members, which is less than n_splits=4.\n",
      "  warnings.warn((\"The least populated class in y has only %d\"\n",
      "c:\\Behzad\\gitHub-Projects\\Kaggle\\Titanic\\env_titanic\\lib\\site-packages\\sklearn\\model_selection\\_split.py:666: UserWarning: The least populated class in y has only 1 members, which is less than n_splits=4.\n",
      "  warnings.warn((\"The least populated class in y has only %d\"\n",
      "c:\\Behzad\\gitHub-Projects\\Kaggle\\Titanic\\env_titanic\\lib\\site-packages\\sklearn\\model_selection\\_split.py:666: UserWarning: The least populated class in y has only 1 members, which is less than n_splits=4.\n",
      "  warnings.warn((\"The least populated class in y has only %d\"\n",
      "c:\\Behzad\\gitHub-Projects\\Kaggle\\Titanic\\env_titanic\\lib\\site-packages\\sklearn\\model_selection\\_split.py:666: UserWarning: The least populated class in y has only 1 members, which is less than n_splits=4.\n",
      "  warnings.warn((\"The least populated class in y has only %d\"\n",
      "c:\\Behzad\\gitHub-Projects\\Kaggle\\Titanic\\env_titanic\\lib\\site-packages\\sklearn\\model_selection\\_split.py:666: UserWarning: The least populated class in y has only 1 members, which is less than n_splits=4.\n",
      "  warnings.warn((\"The least populated class in y has only %d\"\n",
      "c:\\Behzad\\gitHub-Projects\\Kaggle\\Titanic\\env_titanic\\lib\\site-packages\\sklearn\\model_selection\\_split.py:666: UserWarning: The least populated class in y has only 1 members, which is less than n_splits=4.\n",
      "  warnings.warn((\"The least populated class in y has only %d\"\n",
      "c:\\Behzad\\gitHub-Projects\\Kaggle\\Titanic\\env_titanic\\lib\\site-packages\\sklearn\\model_selection\\_split.py:666: UserWarning: The least populated class in y has only 1 members, which is less than n_splits=4.\n",
      "  warnings.warn((\"The least populated class in y has only %d\"\n",
      "c:\\Behzad\\gitHub-Projects\\Kaggle\\Titanic\\env_titanic\\lib\\site-packages\\sklearn\\model_selection\\_split.py:666: UserWarning: The least populated class in y has only 1 members, which is less than n_splits=4.\n",
      "  warnings.warn((\"The least populated class in y has only %d\"\n",
      "c:\\Behzad\\gitHub-Projects\\Kaggle\\Titanic\\env_titanic\\lib\\site-packages\\sklearn\\model_selection\\_split.py:666: UserWarning: The least populated class in y has only 1 members, which is less than n_splits=4.\n",
      "  warnings.warn((\"The least populated class in y has only %d\"\n",
      "c:\\Behzad\\gitHub-Projects\\Kaggle\\Titanic\\env_titanic\\lib\\site-packages\\sklearn\\model_selection\\_split.py:666: UserWarning: The least populated class in y has only 1 members, which is less than n_splits=4.\n",
      "  warnings.warn((\"The least populated class in y has only %d\"\n",
      "c:\\Behzad\\gitHub-Projects\\Kaggle\\Titanic\\env_titanic\\lib\\site-packages\\sklearn\\model_selection\\_split.py:666: UserWarning: The least populated class in y has only 1 members, which is less than n_splits=4.\n",
      "  warnings.warn((\"The least populated class in y has only %d\"\n",
      "c:\\Behzad\\gitHub-Projects\\Kaggle\\Titanic\\env_titanic\\lib\\site-packages\\sklearn\\model_selection\\_split.py:666: UserWarning: The least populated class in y has only 1 members, which is less than n_splits=4.\n",
      "  warnings.warn((\"The least populated class in y has only %d\"\n",
      "c:\\Behzad\\gitHub-Projects\\Kaggle\\Titanic\\env_titanic\\lib\\site-packages\\sklearn\\model_selection\\_split.py:666: UserWarning: The least populated class in y has only 1 members, which is less than n_splits=4.\n",
      "  warnings.warn((\"The least populated class in y has only %d\"\n",
      "c:\\Behzad\\gitHub-Projects\\Kaggle\\Titanic\\env_titanic\\lib\\site-packages\\sklearn\\model_selection\\_split.py:666: UserWarning: The least populated class in y has only 1 members, which is less than n_splits=4.\n",
      "  warnings.warn((\"The least populated class in y has only %d\"\n",
      "c:\\Behzad\\gitHub-Projects\\Kaggle\\Titanic\\env_titanic\\lib\\site-packages\\sklearn\\model_selection\\_split.py:666: UserWarning: The least populated class in y has only 1 members, which is less than n_splits=4.\n",
      "  warnings.warn((\"The least populated class in y has only %d\"\n",
      "c:\\Behzad\\gitHub-Projects\\Kaggle\\Titanic\\env_titanic\\lib\\site-packages\\sklearn\\model_selection\\_split.py:666: UserWarning: The least populated class in y has only 1 members, which is less than n_splits=4.\n",
      "  warnings.warn((\"The least populated class in y has only %d\"\n"
     ]
    },
    {
     "data": {
      "text/html": [
       "<div>\n",
       "<style scoped>\n",
       "    .dataframe tbody tr th:only-of-type {\n",
       "        vertical-align: middle;\n",
       "    }\n",
       "\n",
       "    .dataframe tbody tr th {\n",
       "        vertical-align: top;\n",
       "    }\n",
       "\n",
       "    .dataframe thead th {\n",
       "        text-align: right;\n",
       "    }\n",
       "</style>\n",
       "<table border=\"1\" class=\"dataframe\">\n",
       "  <thead>\n",
       "    <tr style=\"text-align: right;\">\n",
       "      <th></th>\n",
       "      <th>x</th>\n",
       "      <th>y</th>\n",
       "      <th>ppscore</th>\n",
       "      <th>case</th>\n",
       "      <th>is_valid_score</th>\n",
       "      <th>metric</th>\n",
       "      <th>baseline_score</th>\n",
       "      <th>model_score</th>\n",
       "      <th>model</th>\n",
       "    </tr>\n",
       "  </thead>\n",
       "  <tbody>\n",
       "    <tr>\n",
       "      <th>322</th>\n",
       "      <td>Survived</td>\n",
       "      <td>Survived</td>\n",
       "      <td>1.000000</td>\n",
       "      <td>predict_itself</td>\n",
       "      <td>True</td>\n",
       "      <td>None</td>\n",
       "      <td>0.000000</td>\n",
       "      <td>1.000000</td>\n",
       "      <td>None</td>\n",
       "    </tr>\n",
       "    <tr>\n",
       "      <th>410</th>\n",
       "      <td>Title</td>\n",
       "      <td>Survived</td>\n",
       "      <td>0.547505</td>\n",
       "      <td>classification</td>\n",
       "      <td>True</td>\n",
       "      <td>weighted F1</td>\n",
       "      <td>0.537598</td>\n",
       "      <td>0.790765</td>\n",
       "      <td>DecisionTreeClassifier()</td>\n",
       "    </tr>\n",
       "    <tr>\n",
       "      <th>36</th>\n",
       "      <td>Sex</td>\n",
       "      <td>Survived</td>\n",
       "      <td>0.534660</td>\n",
       "      <td>classification</td>\n",
       "      <td>True</td>\n",
       "      <td>weighted F1</td>\n",
       "      <td>0.537598</td>\n",
       "      <td>0.784826</td>\n",
       "      <td>DecisionTreeClassifier()</td>\n",
       "    </tr>\n",
       "    <tr>\n",
       "      <th>212</th>\n",
       "      <td>Pc3</td>\n",
       "      <td>Survived</td>\n",
       "      <td>0.289365</td>\n",
       "      <td>classification</td>\n",
       "      <td>True</td>\n",
       "      <td>weighted F1</td>\n",
       "      <td>0.537598</td>\n",
       "      <td>0.671401</td>\n",
       "      <td>DecisionTreeClassifier()</td>\n",
       "    </tr>\n",
       "    <tr>\n",
       "      <th>124</th>\n",
       "      <td>Fare</td>\n",
       "      <td>Survived</td>\n",
       "      <td>0.289275</td>\n",
       "      <td>classification</td>\n",
       "      <td>True</td>\n",
       "      <td>weighted F1</td>\n",
       "      <td>0.537598</td>\n",
       "      <td>0.671359</td>\n",
       "      <td>DecisionTreeClassifier()</td>\n",
       "    </tr>\n",
       "    <tr>\n",
       "      <th>146</th>\n",
       "      <td>FamilySize</td>\n",
       "      <td>Survived</td>\n",
       "      <td>0.268902</td>\n",
       "      <td>classification</td>\n",
       "      <td>True</td>\n",
       "      <td>weighted F1</td>\n",
       "      <td>0.537598</td>\n",
       "      <td>0.661939</td>\n",
       "      <td>DecisionTreeClassifier()</td>\n",
       "    </tr>\n",
       "    <tr>\n",
       "      <th>168</th>\n",
       "      <td>Pc1</td>\n",
       "      <td>Survived</td>\n",
       "      <td>0.262438</td>\n",
       "      <td>classification</td>\n",
       "      <td>True</td>\n",
       "      <td>weighted F1</td>\n",
       "      <td>0.537598</td>\n",
       "      <td>0.658950</td>\n",
       "      <td>DecisionTreeClassifier()</td>\n",
       "    </tr>\n",
       "    <tr>\n",
       "      <th>14</th>\n",
       "      <td>Pclass</td>\n",
       "      <td>Survived</td>\n",
       "      <td>0.242624</td>\n",
       "      <td>classification</td>\n",
       "      <td>True</td>\n",
       "      <td>weighted F1</td>\n",
       "      <td>0.537598</td>\n",
       "      <td>0.649788</td>\n",
       "      <td>DecisionTreeClassifier()</td>\n",
       "    </tr>\n",
       "    <tr>\n",
       "      <th>366</th>\n",
       "      <td>Ticket</td>\n",
       "      <td>Survived</td>\n",
       "      <td>0.230979</td>\n",
       "      <td>classification</td>\n",
       "      <td>True</td>\n",
       "      <td>weighted F1</td>\n",
       "      <td>0.537598</td>\n",
       "      <td>0.644403</td>\n",
       "      <td>DecisionTreeClassifier()</td>\n",
       "    </tr>\n",
       "    <tr>\n",
       "      <th>454</th>\n",
       "      <td>FareBin_Code</td>\n",
       "      <td>Survived</td>\n",
       "      <td>0.223233</td>\n",
       "      <td>classification</td>\n",
       "      <td>True</td>\n",
       "      <td>weighted F1</td>\n",
       "      <td>0.537598</td>\n",
       "      <td>0.640822</td>\n",
       "      <td>DecisionTreeClassifier()</td>\n",
       "    </tr>\n",
       "    <tr>\n",
       "      <th>432</th>\n",
       "      <td>Age_tb</td>\n",
       "      <td>Survived</td>\n",
       "      <td>0.153980</td>\n",
       "      <td>classification</td>\n",
       "      <td>True</td>\n",
       "      <td>weighted F1</td>\n",
       "      <td>0.537598</td>\n",
       "      <td>0.608799</td>\n",
       "      <td>DecisionTreeClassifier()</td>\n",
       "    </tr>\n",
       "    <tr>\n",
       "      <th>80</th>\n",
       "      <td>SibSp</td>\n",
       "      <td>Survived</td>\n",
       "      <td>0.152837</td>\n",
       "      <td>classification</td>\n",
       "      <td>True</td>\n",
       "      <td>weighted F1</td>\n",
       "      <td>0.537598</td>\n",
       "      <td>0.608270</td>\n",
       "      <td>DecisionTreeClassifier()</td>\n",
       "    </tr>\n",
       "    <tr>\n",
       "      <th>278</th>\n",
       "      <td>em3</td>\n",
       "      <td>Survived</td>\n",
       "      <td>0.142998</td>\n",
       "      <td>classification</td>\n",
       "      <td>True</td>\n",
       "      <td>weighted F1</td>\n",
       "      <td>0.537598</td>\n",
       "      <td>0.603721</td>\n",
       "      <td>DecisionTreeClassifier()</td>\n",
       "    </tr>\n",
       "    <tr>\n",
       "      <th>388</th>\n",
       "      <td>Embarked</td>\n",
       "      <td>Survived</td>\n",
       "      <td>0.139332</td>\n",
       "      <td>classification</td>\n",
       "      <td>True</td>\n",
       "      <td>weighted F1</td>\n",
       "      <td>0.537598</td>\n",
       "      <td>0.602026</td>\n",
       "      <td>DecisionTreeClassifier()</td>\n",
       "    </tr>\n",
       "    <tr>\n",
       "      <th>234</th>\n",
       "      <td>em1</td>\n",
       "      <td>Survived</td>\n",
       "      <td>0.139332</td>\n",
       "      <td>classification</td>\n",
       "      <td>True</td>\n",
       "      <td>weighted F1</td>\n",
       "      <td>0.537598</td>\n",
       "      <td>0.602026</td>\n",
       "      <td>DecisionTreeClassifier()</td>\n",
       "    </tr>\n",
       "    <tr>\n",
       "      <th>58</th>\n",
       "      <td>Age</td>\n",
       "      <td>Survived</td>\n",
       "      <td>0.097158</td>\n",
       "      <td>classification</td>\n",
       "      <td>True</td>\n",
       "      <td>weighted F1</td>\n",
       "      <td>0.537598</td>\n",
       "      <td>0.582524</td>\n",
       "      <td>DecisionTreeClassifier()</td>\n",
       "    </tr>\n",
       "    <tr>\n",
       "      <th>102</th>\n",
       "      <td>Parch</td>\n",
       "      <td>Survived</td>\n",
       "      <td>0.066142</td>\n",
       "      <td>classification</td>\n",
       "      <td>True</td>\n",
       "      <td>weighted F1</td>\n",
       "      <td>0.537598</td>\n",
       "      <td>0.568183</td>\n",
       "      <td>DecisionTreeClassifier()</td>\n",
       "    </tr>\n",
       "    <tr>\n",
       "      <th>256</th>\n",
       "      <td>em2</td>\n",
       "      <td>Survived</td>\n",
       "      <td>0.000000</td>\n",
       "      <td>classification</td>\n",
       "      <td>True</td>\n",
       "      <td>weighted F1</td>\n",
       "      <td>0.537598</td>\n",
       "      <td>0.469826</td>\n",
       "      <td>DecisionTreeClassifier()</td>\n",
       "    </tr>\n",
       "    <tr>\n",
       "      <th>344</th>\n",
       "      <td>Name</td>\n",
       "      <td>Survived</td>\n",
       "      <td>0.000000</td>\n",
       "      <td>feature_is_id</td>\n",
       "      <td>True</td>\n",
       "      <td>None</td>\n",
       "      <td>0.000000</td>\n",
       "      <td>0.000000</td>\n",
       "      <td>None</td>\n",
       "    </tr>\n",
       "    <tr>\n",
       "      <th>300</th>\n",
       "      <td>PassengerId</td>\n",
       "      <td>Survived</td>\n",
       "      <td>0.000000</td>\n",
       "      <td>classification</td>\n",
       "      <td>True</td>\n",
       "      <td>weighted F1</td>\n",
       "      <td>0.537598</td>\n",
       "      <td>0.537279</td>\n",
       "      <td>DecisionTreeClassifier()</td>\n",
       "    </tr>\n",
       "    <tr>\n",
       "      <th>190</th>\n",
       "      <td>Pc2</td>\n",
       "      <td>Survived</td>\n",
       "      <td>0.000000</td>\n",
       "      <td>classification</td>\n",
       "      <td>True</td>\n",
       "      <td>weighted F1</td>\n",
       "      <td>0.537598</td>\n",
       "      <td>0.480910</td>\n",
       "      <td>DecisionTreeClassifier()</td>\n",
       "    </tr>\n",
       "    <tr>\n",
       "      <th>476</th>\n",
       "      <td>AgeBin_Code</td>\n",
       "      <td>Survived</td>\n",
       "      <td>0.000000</td>\n",
       "      <td>classification</td>\n",
       "      <td>True</td>\n",
       "      <td>weighted F1</td>\n",
       "      <td>0.537598</td>\n",
       "      <td>0.469826</td>\n",
       "      <td>DecisionTreeClassifier()</td>\n",
       "    </tr>\n",
       "  </tbody>\n",
       "</table>\n",
       "</div>"
      ],
      "text/plain": [
       "                x         y   ppscore            case  is_valid_score  \\\n",
       "322      Survived  Survived  1.000000  predict_itself            True   \n",
       "410         Title  Survived  0.547505  classification            True   \n",
       "36            Sex  Survived  0.534660  classification            True   \n",
       "212           Pc3  Survived  0.289365  classification            True   \n",
       "124          Fare  Survived  0.289275  classification            True   \n",
       "146    FamilySize  Survived  0.268902  classification            True   \n",
       "168           Pc1  Survived  0.262438  classification            True   \n",
       "14         Pclass  Survived  0.242624  classification            True   \n",
       "366        Ticket  Survived  0.230979  classification            True   \n",
       "454  FareBin_Code  Survived  0.223233  classification            True   \n",
       "432        Age_tb  Survived  0.153980  classification            True   \n",
       "80          SibSp  Survived  0.152837  classification            True   \n",
       "278           em3  Survived  0.142998  classification            True   \n",
       "388      Embarked  Survived  0.139332  classification            True   \n",
       "234           em1  Survived  0.139332  classification            True   \n",
       "58            Age  Survived  0.097158  classification            True   \n",
       "102         Parch  Survived  0.066142  classification            True   \n",
       "256           em2  Survived  0.000000  classification            True   \n",
       "344          Name  Survived  0.000000   feature_is_id            True   \n",
       "300   PassengerId  Survived  0.000000  classification            True   \n",
       "190           Pc2  Survived  0.000000  classification            True   \n",
       "476   AgeBin_Code  Survived  0.000000  classification            True   \n",
       "\n",
       "          metric  baseline_score  model_score                     model  \n",
       "322         None        0.000000     1.000000                      None  \n",
       "410  weighted F1        0.537598     0.790765  DecisionTreeClassifier()  \n",
       "36   weighted F1        0.537598     0.784826  DecisionTreeClassifier()  \n",
       "212  weighted F1        0.537598     0.671401  DecisionTreeClassifier()  \n",
       "124  weighted F1        0.537598     0.671359  DecisionTreeClassifier()  \n",
       "146  weighted F1        0.537598     0.661939  DecisionTreeClassifier()  \n",
       "168  weighted F1        0.537598     0.658950  DecisionTreeClassifier()  \n",
       "14   weighted F1        0.537598     0.649788  DecisionTreeClassifier()  \n",
       "366  weighted F1        0.537598     0.644403  DecisionTreeClassifier()  \n",
       "454  weighted F1        0.537598     0.640822  DecisionTreeClassifier()  \n",
       "432  weighted F1        0.537598     0.608799  DecisionTreeClassifier()  \n",
       "80   weighted F1        0.537598     0.608270  DecisionTreeClassifier()  \n",
       "278  weighted F1        0.537598     0.603721  DecisionTreeClassifier()  \n",
       "388  weighted F1        0.537598     0.602026  DecisionTreeClassifier()  \n",
       "234  weighted F1        0.537598     0.602026  DecisionTreeClassifier()  \n",
       "58   weighted F1        0.537598     0.582524  DecisionTreeClassifier()  \n",
       "102  weighted F1        0.537598     0.568183  DecisionTreeClassifier()  \n",
       "256  weighted F1        0.537598     0.469826  DecisionTreeClassifier()  \n",
       "344         None        0.000000     0.000000                      None  \n",
       "300  weighted F1        0.537598     0.537279  DecisionTreeClassifier()  \n",
       "190  weighted F1        0.537598     0.480910  DecisionTreeClassifier()  \n",
       "476  weighted F1        0.537598     0.469826  DecisionTreeClassifier()  "
      ]
     },
     "execution_count": 76,
     "metadata": {},
     "output_type": "execute_result"
    }
   ],
   "source": [
    "A = train_imp.copy()\n",
    "A['Survived'] = A['Survived'].astype('category')\n",
    "\n",
    "scores = pps.matrix(A)\n",
    "scores_target = scores[scores.y == 'Survived']\n",
    "scores_target.sort_values(by='ppscore', ascending=False)"
   ]
  },
  {
   "attachments": {},
   "cell_type": "markdown",
   "id": "38ca4cfa",
   "metadata": {},
   "source": [
    "This can give a good view on the most important features to predict the target."
   ]
  },
  {
   "attachments": {},
   "cell_type": "markdown",
   "id": "0e92b835",
   "metadata": {
    "papermill": {
     "duration": 0.022191,
     "end_time": "2023-01-02T00:51:09.546424",
     "exception": false,
     "start_time": "2023-01-02T00:51:09.524233",
     "status": "completed"
    },
    "tags": []
   },
   "source": [
    "## **4. Saving the Modified Data:**"
   ]
  },
  {
   "cell_type": "code",
   "execution_count": 78,
   "id": "64f08b92",
   "metadata": {
    "papermill": {
     "duration": 0.02239,
     "end_time": "2023-01-02T00:51:09.591440",
     "exception": false,
     "start_time": "2023-01-02T00:51:09.569050",
     "status": "completed"
    },
    "tags": []
   },
   "outputs": [],
   "source": [
    "os.chdir(\"../data/raw\")\n",
    "data_path = \"../processed/\"\n",
    "\n",
    "train_imp.to_csv(data_path + 'train.csv', index=False)\n",
    "test_imp.to_csv(data_path + 'test.csv', index=False)"
   ]
  },
  {
   "cell_type": "code",
   "execution_count": null,
   "id": "1dcfcd0c",
   "metadata": {},
   "outputs": [],
   "source": []
  },
  {
   "cell_type": "code",
   "execution_count": null,
   "id": "25115d05",
   "metadata": {},
   "outputs": [],
   "source": []
  }
 ],
 "metadata": {
  "kernelspec": {
   "display_name": "Python 3",
   "language": "python",
   "name": "python3"
  },
  "language_info": {
   "codemirror_mode": {
    "name": "ipython",
    "version": 3
   },
   "file_extension": ".py",
   "mimetype": "text/x-python",
   "name": "python",
   "nbconvert_exporter": "python",
   "pygments_lexer": "ipython3",
   "version": "3.9.13 (tags/v3.9.13:6de2ca5, May 17 2022, 16:36:42) [MSC v.1929 64 bit (AMD64)]"
  },
  "papermill": {
   "default_parameters": {},
   "duration": 189.629909,
   "end_time": "2023-01-02T00:51:12.237357",
   "environment_variables": {},
   "exception": null,
   "input_path": "__notebook__.ipynb",
   "output_path": "__notebook__.ipynb",
   "parameters": {},
   "start_time": "2023-01-02T00:48:02.607448",
   "version": "2.3.4"
  },
  "vscode": {
   "interpreter": {
    "hash": "70925e6d05d0cf6f8d51033a934ab9ed1a710a80908b21ecb975171b4d5ab6c9"
   }
  }
 },
 "nbformat": 4,
 "nbformat_minor": 5
}
