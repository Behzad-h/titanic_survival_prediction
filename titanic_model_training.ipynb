{
 "cells": [
  {
   "attachments": {},
   "cell_type": "markdown",
   "id": "4a16aeba",
   "metadata": {},
   "source": [
    "# Competition: Titanic - Machine Learning from Disaster\n",
    "URL: https://www.kaggle.com/competitions/titanic\n",
    "# Model Training"
   ]
  },
  {
   "cell_type": "code",
   "execution_count": 1,
   "id": "096de1dd",
   "metadata": {},
   "outputs": [],
   "source": [
    "import pandas as pd\n",
    "import numpy as np\n",
    "import matplotlib.pyplot as plt\n",
    "from sklearn.ensemble import RandomForestClassifier\n",
    "from sklearn.ensemble import GradientBoostingClassifier\n",
    "from sklearn.neighbors import KNeighborsClassifier\n",
    "from sklearn.model_selection import RepeatedKFold\n",
    "from skopt import BayesSearchCV\n",
    "from skopt.space import Real, Categorical, Integer\n",
    "from sklearn.metrics import accuracy_score\n",
    "import os"
   ]
  },
  {
   "attachments": {},
   "cell_type": "markdown",
   "id": "c55e4bfc",
   "metadata": {},
   "source": [
    "----------\n",
    "-----------\n",
    "----------\n",
    "----------"
   ]
  },
  {
   "attachments": {},
   "cell_type": "markdown",
   "id": "ddee107d",
   "metadata": {},
   "source": [
    "## Extracting Data"
   ]
  },
  {
   "cell_type": "code",
   "execution_count": 2,
   "id": "c4e510da",
   "metadata": {},
   "outputs": [],
   "source": [
    "os.chdir(\"../training\")\n",
    "data_path = \"../data/processed/\""
   ]
  },
  {
   "cell_type": "code",
   "execution_count": 3,
   "id": "d940c492",
   "metadata": {},
   "outputs": [],
   "source": [
    "train = pd.read_csv(data_path + \"train.csv\")\n",
    "test = pd.read_csv(data_path + \"test.csv\")"
   ]
  },
  {
   "cell_type": "code",
   "execution_count": 4,
   "id": "d0d5a5cb",
   "metadata": {},
   "outputs": [
    {
     "name": "stdout",
     "output_type": "stream",
     "text": [
      "<class 'pandas.core.frame.DataFrame'>\n",
      "RangeIndex: 891 entries, 0 to 890\n",
      "Data columns (total 22 columns):\n",
      " #   Column        Non-Null Count  Dtype  \n",
      "---  ------        --------------  -----  \n",
      " 0   Pclass        891 non-null    float64\n",
      " 1   Sex           891 non-null    float64\n",
      " 2   Age           891 non-null    float64\n",
      " 3   SibSp         891 non-null    float64\n",
      " 4   Parch         891 non-null    float64\n",
      " 5   Fare          891 non-null    float64\n",
      " 6   FamilySize    891 non-null    float64\n",
      " 7   Pc1           891 non-null    float64\n",
      " 8   Pc2           891 non-null    float64\n",
      " 9   Pc3           891 non-null    float64\n",
      " 10  em1           891 non-null    float64\n",
      " 11  em2           891 non-null    float64\n",
      " 12  em3           891 non-null    float64\n",
      " 13  PassengerId   891 non-null    int64  \n",
      " 14  Survived      891 non-null    int64  \n",
      " 15  Name          891 non-null    object \n",
      " 16  Ticket        891 non-null    object \n",
      " 17  Embarked      891 non-null    object \n",
      " 18  Title         891 non-null    object \n",
      " 19  Age_tb        891 non-null    float64\n",
      " 20  FareBin_Code  891 non-null    int64  \n",
      " 21  AgeBin_Code   891 non-null    int64  \n",
      "dtypes: float64(14), int64(4), object(4)\n",
      "memory usage: 153.3+ KB\n"
     ]
    }
   ],
   "source": [
    "train.info()"
   ]
  },
  {
   "cell_type": "code",
   "execution_count": 5,
   "id": "24262c75",
   "metadata": {},
   "outputs": [
    {
     "name": "stdout",
     "output_type": "stream",
     "text": [
      "<class 'pandas.core.frame.DataFrame'>\n",
      "RangeIndex: 418 entries, 0 to 417\n",
      "Data columns (total 21 columns):\n",
      " #   Column        Non-Null Count  Dtype  \n",
      "---  ------        --------------  -----  \n",
      " 0   Pclass        418 non-null    float64\n",
      " 1   Sex           418 non-null    float64\n",
      " 2   Age           418 non-null    float64\n",
      " 3   SibSp         418 non-null    float64\n",
      " 4   Parch         418 non-null    float64\n",
      " 5   Fare          418 non-null    float64\n",
      " 6   FamilySize    418 non-null    float64\n",
      " 7   Pc1           418 non-null    float64\n",
      " 8   Pc2           418 non-null    float64\n",
      " 9   Pc3           418 non-null    float64\n",
      " 10  em1           418 non-null    float64\n",
      " 11  em2           418 non-null    float64\n",
      " 12  em3           418 non-null    float64\n",
      " 13  PassengerId   418 non-null    int64  \n",
      " 14  Name          418 non-null    object \n",
      " 15  Ticket        418 non-null    object \n",
      " 16  Embarked      418 non-null    object \n",
      " 17  Title         418 non-null    object \n",
      " 18  Age_tb        418 non-null    float64\n",
      " 19  FareBin_Code  418 non-null    int64  \n",
      " 20  AgeBin_Code   418 non-null    int64  \n",
      "dtypes: float64(14), int64(3), object(4)\n",
      "memory usage: 68.7+ KB\n"
     ]
    }
   ],
   "source": [
    "test.info()"
   ]
  },
  {
   "attachments": {},
   "cell_type": "markdown",
   "id": "4d2f6a91",
   "metadata": {},
   "source": [
    "----------\n",
    "-----------\n",
    "----------\n",
    "-----------"
   ]
  },
  {
   "attachments": {},
   "cell_type": "markdown",
   "id": "e1cad6c7",
   "metadata": {},
   "source": [
    "## Model 1: Random Forest"
   ]
  },
  {
   "cell_type": "code",
   "execution_count": 6,
   "id": "18183cda",
   "metadata": {},
   "outputs": [],
   "source": [
    "columns = ['Sex','Age','SibSp','Parch','Fare','FamilySize','Pc1','Pc2','Pc3','em1','em2','em3','Age_tb','FareBin_Code','AgeBin_Code']\n",
    "\n",
    "train_in = train[columns].copy()\n",
    "test_in = test[columns].copy()\n",
    "train_out = train[['Survived']].copy()"
   ]
  },
  {
   "attachments": {},
   "cell_type": "markdown",
   "id": "92c2386e",
   "metadata": {
    "papermill": {
     "duration": 0.020275,
     "end_time": "2023-01-02T00:48:18.771100",
     "exception": false,
     "start_time": "2023-01-02T00:48:18.750825",
     "status": "completed"
    },
    "tags": []
   },
   "source": [
    "**Data Normalization:**\n",
    "\n",
    "Normalizing the data based on the train set"
   ]
  },
  {
   "cell_type": "code",
   "execution_count": 7,
   "id": "78b9cdec",
   "metadata": {
    "execution": {
     "iopub.execute_input": "2023-01-02T00:48:18.814347Z",
     "iopub.status.busy": "2023-01-02T00:48:18.813487Z",
     "iopub.status.idle": "2023-01-02T00:48:18.831040Z",
     "shell.execute_reply": "2023-01-02T00:48:18.829918Z"
    },
    "papermill": {
     "duration": 0.041868,
     "end_time": "2023-01-02T00:48:18.833520",
     "exception": false,
     "start_time": "2023-01-02T00:48:18.791652",
     "status": "completed"
    },
    "tags": []
   },
   "outputs": [],
   "source": [
    "cols_exc = [] \n",
    "\n",
    "train_max = train_in.drop(columns=cols_exc).max()\n",
    "train_min = train_in.drop(columns=cols_exc).min()\n",
    "\n",
    "A1 = (train_min - train_in.drop(columns=cols_exc))/(train_min - train_max)\n",
    "A2 = (train_min - test_in.drop(columns=cols_exc))/(train_min - train_max)\n",
    "\n",
    "train_in_nor = A1.join(train_in[cols_exc])\n",
    "test_in_nor = A2.join(test_in[cols_exc])"
   ]
  },
  {
   "cell_type": "code",
   "execution_count": 8,
   "id": "000ff842",
   "metadata": {
    "execution": {
     "iopub.execute_input": "2023-01-02T00:48:18.877818Z",
     "iopub.status.busy": "2023-01-02T00:48:18.876642Z",
     "iopub.status.idle": "2023-01-02T00:48:18.928264Z",
     "shell.execute_reply": "2023-01-02T00:48:18.927074Z"
    },
    "papermill": {
     "duration": 0.076394,
     "end_time": "2023-01-02T00:48:18.930714",
     "exception": false,
     "start_time": "2023-01-02T00:48:18.854320",
     "status": "completed"
    },
    "tags": []
   },
   "outputs": [
    {
     "data": {
      "text/html": [
       "<div>\n",
       "<style scoped>\n",
       "    .dataframe tbody tr th:only-of-type {\n",
       "        vertical-align: middle;\n",
       "    }\n",
       "\n",
       "    .dataframe tbody tr th {\n",
       "        vertical-align: top;\n",
       "    }\n",
       "\n",
       "    .dataframe thead th {\n",
       "        text-align: right;\n",
       "    }\n",
       "</style>\n",
       "<table border=\"1\" class=\"dataframe\">\n",
       "  <thead>\n",
       "    <tr style=\"text-align: right;\">\n",
       "      <th></th>\n",
       "      <th>Sex</th>\n",
       "      <th>Age</th>\n",
       "      <th>SibSp</th>\n",
       "      <th>Parch</th>\n",
       "      <th>Fare</th>\n",
       "      <th>FamilySize</th>\n",
       "      <th>Pc1</th>\n",
       "      <th>Pc2</th>\n",
       "      <th>Pc3</th>\n",
       "      <th>em1</th>\n",
       "      <th>em2</th>\n",
       "      <th>em3</th>\n",
       "      <th>Age_tb</th>\n",
       "      <th>FareBin_Code</th>\n",
       "      <th>AgeBin_Code</th>\n",
       "    </tr>\n",
       "  </thead>\n",
       "  <tbody>\n",
       "    <tr>\n",
       "      <th>count</th>\n",
       "      <td>891.00</td>\n",
       "      <td>891.00</td>\n",
       "      <td>891.00</td>\n",
       "      <td>891.00</td>\n",
       "      <td>891.00</td>\n",
       "      <td>891.00</td>\n",
       "      <td>891.00</td>\n",
       "      <td>891.00</td>\n",
       "      <td>891.00</td>\n",
       "      <td>891.00</td>\n",
       "      <td>891.00</td>\n",
       "      <td>891.00</td>\n",
       "      <td>891.00</td>\n",
       "      <td>891.00</td>\n",
       "      <td>891.00</td>\n",
       "    </tr>\n",
       "    <tr>\n",
       "      <th>mean</th>\n",
       "      <td>0.35</td>\n",
       "      <td>0.37</td>\n",
       "      <td>0.07</td>\n",
       "      <td>0.06</td>\n",
       "      <td>0.06</td>\n",
       "      <td>0.09</td>\n",
       "      <td>0.24</td>\n",
       "      <td>0.21</td>\n",
       "      <td>0.55</td>\n",
       "      <td>0.19</td>\n",
       "      <td>0.09</td>\n",
       "      <td>0.72</td>\n",
       "      <td>0.37</td>\n",
       "      <td>0.50</td>\n",
       "      <td>0.50</td>\n",
       "    </tr>\n",
       "    <tr>\n",
       "      <th>std</th>\n",
       "      <td>0.48</td>\n",
       "      <td>0.17</td>\n",
       "      <td>0.14</td>\n",
       "      <td>0.13</td>\n",
       "      <td>0.10</td>\n",
       "      <td>0.16</td>\n",
       "      <td>0.43</td>\n",
       "      <td>0.41</td>\n",
       "      <td>0.50</td>\n",
       "      <td>0.39</td>\n",
       "      <td>0.28</td>\n",
       "      <td>0.45</td>\n",
       "      <td>0.17</td>\n",
       "      <td>0.35</td>\n",
       "      <td>0.38</td>\n",
       "    </tr>\n",
       "    <tr>\n",
       "      <th>min</th>\n",
       "      <td>-0.00</td>\n",
       "      <td>-0.00</td>\n",
       "      <td>-0.00</td>\n",
       "      <td>-0.00</td>\n",
       "      <td>-0.00</td>\n",
       "      <td>-0.00</td>\n",
       "      <td>-0.00</td>\n",
       "      <td>-0.00</td>\n",
       "      <td>-0.00</td>\n",
       "      <td>-0.00</td>\n",
       "      <td>-0.00</td>\n",
       "      <td>-0.00</td>\n",
       "      <td>-0.00</td>\n",
       "      <td>-0.00</td>\n",
       "      <td>-0.00</td>\n",
       "    </tr>\n",
       "    <tr>\n",
       "      <th>25%</th>\n",
       "      <td>-0.00</td>\n",
       "      <td>0.27</td>\n",
       "      <td>-0.00</td>\n",
       "      <td>-0.00</td>\n",
       "      <td>0.02</td>\n",
       "      <td>-0.00</td>\n",
       "      <td>-0.00</td>\n",
       "      <td>-0.00</td>\n",
       "      <td>-0.00</td>\n",
       "      <td>-0.00</td>\n",
       "      <td>-0.00</td>\n",
       "      <td>-0.00</td>\n",
       "      <td>0.27</td>\n",
       "      <td>0.25</td>\n",
       "      <td>0.33</td>\n",
       "    </tr>\n",
       "    <tr>\n",
       "      <th>50%</th>\n",
       "      <td>0.00</td>\n",
       "      <td>0.36</td>\n",
       "      <td>0.00</td>\n",
       "      <td>0.00</td>\n",
       "      <td>0.03</td>\n",
       "      <td>0.00</td>\n",
       "      <td>0.00</td>\n",
       "      <td>0.00</td>\n",
       "      <td>1.00</td>\n",
       "      <td>0.00</td>\n",
       "      <td>0.00</td>\n",
       "      <td>1.00</td>\n",
       "      <td>0.37</td>\n",
       "      <td>0.50</td>\n",
       "      <td>0.33</td>\n",
       "    </tr>\n",
       "    <tr>\n",
       "      <th>75%</th>\n",
       "      <td>1.00</td>\n",
       "      <td>0.45</td>\n",
       "      <td>0.12</td>\n",
       "      <td>-0.00</td>\n",
       "      <td>0.06</td>\n",
       "      <td>0.10</td>\n",
       "      <td>-0.00</td>\n",
       "      <td>-0.00</td>\n",
       "      <td>1.00</td>\n",
       "      <td>-0.00</td>\n",
       "      <td>-0.00</td>\n",
       "      <td>1.00</td>\n",
       "      <td>0.43</td>\n",
       "      <td>0.75</td>\n",
       "      <td>1.00</td>\n",
       "    </tr>\n",
       "    <tr>\n",
       "      <th>max</th>\n",
       "      <td>1.00</td>\n",
       "      <td>1.00</td>\n",
       "      <td>1.00</td>\n",
       "      <td>1.00</td>\n",
       "      <td>1.00</td>\n",
       "      <td>1.00</td>\n",
       "      <td>1.00</td>\n",
       "      <td>1.00</td>\n",
       "      <td>1.00</td>\n",
       "      <td>1.00</td>\n",
       "      <td>1.00</td>\n",
       "      <td>1.00</td>\n",
       "      <td>1.00</td>\n",
       "      <td>1.00</td>\n",
       "      <td>1.00</td>\n",
       "    </tr>\n",
       "  </tbody>\n",
       "</table>\n",
       "</div>"
      ],
      "text/plain": [
       "          Sex     Age   SibSp   Parch    Fare  FamilySize     Pc1     Pc2  \\\n",
       "count  891.00  891.00  891.00  891.00  891.00      891.00  891.00  891.00   \n",
       "mean     0.35    0.37    0.07    0.06    0.06        0.09    0.24    0.21   \n",
       "std      0.48    0.17    0.14    0.13    0.10        0.16    0.43    0.41   \n",
       "min     -0.00   -0.00   -0.00   -0.00   -0.00       -0.00   -0.00   -0.00   \n",
       "25%     -0.00    0.27   -0.00   -0.00    0.02       -0.00   -0.00   -0.00   \n",
       "50%      0.00    0.36    0.00    0.00    0.03        0.00    0.00    0.00   \n",
       "75%      1.00    0.45    0.12   -0.00    0.06        0.10   -0.00   -0.00   \n",
       "max      1.00    1.00    1.00    1.00    1.00        1.00    1.00    1.00   \n",
       "\n",
       "          Pc3     em1     em2     em3  Age_tb  FareBin_Code  AgeBin_Code  \n",
       "count  891.00  891.00  891.00  891.00  891.00        891.00       891.00  \n",
       "mean     0.55    0.19    0.09    0.72    0.37          0.50         0.50  \n",
       "std      0.50    0.39    0.28    0.45    0.17          0.35         0.38  \n",
       "min     -0.00   -0.00   -0.00   -0.00   -0.00         -0.00        -0.00  \n",
       "25%     -0.00   -0.00   -0.00   -0.00    0.27          0.25         0.33  \n",
       "50%      1.00    0.00    0.00    1.00    0.37          0.50         0.33  \n",
       "75%      1.00   -0.00   -0.00    1.00    0.43          0.75         1.00  \n",
       "max      1.00    1.00    1.00    1.00    1.00          1.00         1.00  "
      ]
     },
     "execution_count": 8,
     "metadata": {},
     "output_type": "execute_result"
    }
   ],
   "source": [
    "train_in_nor.describe().round(2)"
   ]
  },
  {
   "cell_type": "code",
   "execution_count": 9,
   "id": "af1e5c9e",
   "metadata": {
    "execution": {
     "iopub.execute_input": "2023-01-02T00:48:18.977176Z",
     "iopub.status.busy": "2023-01-02T00:48:18.976149Z",
     "iopub.status.idle": "2023-01-02T00:48:19.024579Z",
     "shell.execute_reply": "2023-01-02T00:48:19.023424Z"
    },
    "papermill": {
     "duration": 0.073933,
     "end_time": "2023-01-02T00:48:19.026966",
     "exception": false,
     "start_time": "2023-01-02T00:48:18.953033",
     "status": "completed"
    },
    "tags": []
   },
   "outputs": [
    {
     "data": {
      "text/html": [
       "<div>\n",
       "<style scoped>\n",
       "    .dataframe tbody tr th:only-of-type {\n",
       "        vertical-align: middle;\n",
       "    }\n",
       "\n",
       "    .dataframe tbody tr th {\n",
       "        vertical-align: top;\n",
       "    }\n",
       "\n",
       "    .dataframe thead th {\n",
       "        text-align: right;\n",
       "    }\n",
       "</style>\n",
       "<table border=\"1\" class=\"dataframe\">\n",
       "  <thead>\n",
       "    <tr style=\"text-align: right;\">\n",
       "      <th></th>\n",
       "      <th>Sex</th>\n",
       "      <th>Age</th>\n",
       "      <th>SibSp</th>\n",
       "      <th>Parch</th>\n",
       "      <th>Fare</th>\n",
       "      <th>FamilySize</th>\n",
       "      <th>Pc1</th>\n",
       "      <th>Pc2</th>\n",
       "      <th>Pc3</th>\n",
       "      <th>em1</th>\n",
       "      <th>em2</th>\n",
       "      <th>em3</th>\n",
       "      <th>Age_tb</th>\n",
       "      <th>FareBin_Code</th>\n",
       "      <th>AgeBin_Code</th>\n",
       "    </tr>\n",
       "  </thead>\n",
       "  <tbody>\n",
       "    <tr>\n",
       "      <th>count</th>\n",
       "      <td>418.00</td>\n",
       "      <td>418.00</td>\n",
       "      <td>418.00</td>\n",
       "      <td>418.00</td>\n",
       "      <td>418.00</td>\n",
       "      <td>418.00</td>\n",
       "      <td>418.00</td>\n",
       "      <td>418.00</td>\n",
       "      <td>418.00</td>\n",
       "      <td>418.00</td>\n",
       "      <td>418.00</td>\n",
       "      <td>418.00</td>\n",
       "      <td>418.00</td>\n",
       "      <td>418.00</td>\n",
       "      <td>418.00</td>\n",
       "    </tr>\n",
       "    <tr>\n",
       "      <th>mean</th>\n",
       "      <td>0.36</td>\n",
       "      <td>0.38</td>\n",
       "      <td>0.06</td>\n",
       "      <td>0.07</td>\n",
       "      <td>0.07</td>\n",
       "      <td>0.08</td>\n",
       "      <td>0.26</td>\n",
       "      <td>0.22</td>\n",
       "      <td>0.52</td>\n",
       "      <td>0.24</td>\n",
       "      <td>0.11</td>\n",
       "      <td>0.65</td>\n",
       "      <td>0.37</td>\n",
       "      <td>0.49</td>\n",
       "      <td>0.50</td>\n",
       "    </tr>\n",
       "    <tr>\n",
       "      <th>std</th>\n",
       "      <td>0.48</td>\n",
       "      <td>0.16</td>\n",
       "      <td>0.11</td>\n",
       "      <td>0.16</td>\n",
       "      <td>0.11</td>\n",
       "      <td>0.15</td>\n",
       "      <td>0.44</td>\n",
       "      <td>0.42</td>\n",
       "      <td>0.50</td>\n",
       "      <td>0.43</td>\n",
       "      <td>0.31</td>\n",
       "      <td>0.48</td>\n",
       "      <td>0.16</td>\n",
       "      <td>0.36</td>\n",
       "      <td>0.38</td>\n",
       "    </tr>\n",
       "    <tr>\n",
       "      <th>min</th>\n",
       "      <td>-0.00</td>\n",
       "      <td>-0.00</td>\n",
       "      <td>-0.00</td>\n",
       "      <td>-0.00</td>\n",
       "      <td>-0.00</td>\n",
       "      <td>-0.00</td>\n",
       "      <td>-0.00</td>\n",
       "      <td>-0.00</td>\n",
       "      <td>-0.00</td>\n",
       "      <td>-0.00</td>\n",
       "      <td>-0.00</td>\n",
       "      <td>-0.00</td>\n",
       "      <td>-0.00</td>\n",
       "      <td>-0.00</td>\n",
       "      <td>-0.00</td>\n",
       "    </tr>\n",
       "    <tr>\n",
       "      <th>25%</th>\n",
       "      <td>0.00</td>\n",
       "      <td>0.27</td>\n",
       "      <td>0.00</td>\n",
       "      <td>0.00</td>\n",
       "      <td>0.02</td>\n",
       "      <td>0.00</td>\n",
       "      <td>0.00</td>\n",
       "      <td>0.00</td>\n",
       "      <td>0.00</td>\n",
       "      <td>0.00</td>\n",
       "      <td>0.00</td>\n",
       "      <td>0.00</td>\n",
       "      <td>0.27</td>\n",
       "      <td>0.25</td>\n",
       "      <td>0.33</td>\n",
       "    </tr>\n",
       "    <tr>\n",
       "      <th>50%</th>\n",
       "      <td>-0.00</td>\n",
       "      <td>0.35</td>\n",
       "      <td>-0.00</td>\n",
       "      <td>-0.00</td>\n",
       "      <td>0.03</td>\n",
       "      <td>-0.00</td>\n",
       "      <td>-0.00</td>\n",
       "      <td>-0.00</td>\n",
       "      <td>1.00</td>\n",
       "      <td>-0.00</td>\n",
       "      <td>-0.00</td>\n",
       "      <td>1.00</td>\n",
       "      <td>0.37</td>\n",
       "      <td>0.50</td>\n",
       "      <td>0.33</td>\n",
       "    </tr>\n",
       "    <tr>\n",
       "      <th>75%</th>\n",
       "      <td>1.00</td>\n",
       "      <td>0.45</td>\n",
       "      <td>0.12</td>\n",
       "      <td>-0.00</td>\n",
       "      <td>0.06</td>\n",
       "      <td>0.10</td>\n",
       "      <td>1.00</td>\n",
       "      <td>-0.00</td>\n",
       "      <td>1.00</td>\n",
       "      <td>-0.00</td>\n",
       "      <td>-0.00</td>\n",
       "      <td>1.00</td>\n",
       "      <td>0.44</td>\n",
       "      <td>0.75</td>\n",
       "      <td>1.00</td>\n",
       "    </tr>\n",
       "    <tr>\n",
       "      <th>max</th>\n",
       "      <td>1.00</td>\n",
       "      <td>0.95</td>\n",
       "      <td>1.00</td>\n",
       "      <td>1.50</td>\n",
       "      <td>1.00</td>\n",
       "      <td>1.00</td>\n",
       "      <td>1.00</td>\n",
       "      <td>1.00</td>\n",
       "      <td>1.00</td>\n",
       "      <td>1.00</td>\n",
       "      <td>1.00</td>\n",
       "      <td>1.00</td>\n",
       "      <td>0.95</td>\n",
       "      <td>1.00</td>\n",
       "      <td>1.00</td>\n",
       "    </tr>\n",
       "  </tbody>\n",
       "</table>\n",
       "</div>"
      ],
      "text/plain": [
       "          Sex     Age   SibSp   Parch    Fare  FamilySize     Pc1     Pc2  \\\n",
       "count  418.00  418.00  418.00  418.00  418.00      418.00  418.00  418.00   \n",
       "mean     0.36    0.38    0.06    0.07    0.07        0.08    0.26    0.22   \n",
       "std      0.48    0.16    0.11    0.16    0.11        0.15    0.44    0.42   \n",
       "min     -0.00   -0.00   -0.00   -0.00   -0.00       -0.00   -0.00   -0.00   \n",
       "25%      0.00    0.27    0.00    0.00    0.02        0.00    0.00    0.00   \n",
       "50%     -0.00    0.35   -0.00   -0.00    0.03       -0.00   -0.00   -0.00   \n",
       "75%      1.00    0.45    0.12   -0.00    0.06        0.10    1.00   -0.00   \n",
       "max      1.00    0.95    1.00    1.50    1.00        1.00    1.00    1.00   \n",
       "\n",
       "          Pc3     em1     em2     em3  Age_tb  FareBin_Code  AgeBin_Code  \n",
       "count  418.00  418.00  418.00  418.00  418.00        418.00       418.00  \n",
       "mean     0.52    0.24    0.11    0.65    0.37          0.49         0.50  \n",
       "std      0.50    0.43    0.31    0.48    0.16          0.36         0.38  \n",
       "min     -0.00   -0.00   -0.00   -0.00   -0.00         -0.00        -0.00  \n",
       "25%      0.00    0.00    0.00    0.00    0.27          0.25         0.33  \n",
       "50%      1.00   -0.00   -0.00    1.00    0.37          0.50         0.33  \n",
       "75%      1.00   -0.00   -0.00    1.00    0.44          0.75         1.00  \n",
       "max      1.00    1.00    1.00    1.00    0.95          1.00         1.00  "
      ]
     },
     "execution_count": 9,
     "metadata": {},
     "output_type": "execute_result"
    }
   ],
   "source": [
    "test_in_nor.describe().round(2)"
   ]
  },
  {
   "attachments": {},
   "cell_type": "markdown",
   "id": "56ccf453",
   "metadata": {
    "papermill": {
     "duration": 0.020765,
     "end_time": "2023-01-02T00:48:19.069065",
     "exception": false,
     "start_time": "2023-01-02T00:48:19.048300",
     "status": "completed"
    },
    "tags": []
   },
   "source": [
    "**Developing a Random Forest model:**"
   ]
  },
  {
   "cell_type": "code",
   "execution_count": 11,
   "id": "d7383a3e",
   "metadata": {
    "execution": {
     "iopub.execute_input": "2023-01-02T00:48:19.323273Z",
     "iopub.status.busy": "2023-01-02T00:48:19.322858Z",
     "iopub.status.idle": "2023-01-02T00:51:08.716208Z",
     "shell.execute_reply": "2023-01-02T00:51:08.714646Z"
    },
    "papermill": {
     "duration": 169.439995,
     "end_time": "2023-01-02T00:51:08.739460",
     "exception": false,
     "start_time": "2023-01-02T00:48:19.299465",
     "status": "completed"
    },
    "tags": []
   },
   "outputs": [
    {
     "name": "stderr",
     "output_type": "stream",
     "text": [
      "c:\\Behzad\\gitHub-Projects\\Kaggle\\Titanic\\env_titanic\\lib\\site-packages\\skopt\\optimizer\\optimizer.py:449: UserWarning: The objective has been evaluated at this point before.\n",
      "  warnings.warn(\"The objective has been evaluated \"\n"
     ]
    },
    {
     "data": {
      "text/plain": [
       "BayesSearchCV(cv=RepeatedKFold(n_repeats=1, n_splits=5, random_state=1),\n",
       "              estimator=RandomForestClassifier(n_estimators=200), n_jobs=-1,\n",
       "              return_train_score=True,\n",
       "              search_spaces={'max_depth': Integer(low=1, high=30, prior='uniform', transform='normalize'),\n",
       "                             'max_features': Integer(low=1, high=15, prior='uniform', transform='normalize'),\n",
       "                             'max_samples': [0.1, 0.2, 0.3, 0.4, 0.5, 0.6, 0.7,\n",
       "                                             0.8, 0.9, 0.999]})"
      ]
     },
     "execution_count": 11,
     "metadata": {},
     "output_type": "execute_result"
    }
   ],
   "source": [
    "model_rf = RandomForestClassifier(n_estimators=200)\n",
    "param = {'max_depth'    : Integer(1, 30),\n",
    "         'max_features' : Integer(1, 15),\n",
    "         'max_samples'  : [0.1,0.2,0.3,0.4,0.5,0.6,0.7,0.8,0.9,0.999]}\n",
    "cv = RepeatedKFold(n_repeats=1, n_splits=5, random_state=1)\n",
    "b_search = BayesSearchCV(model_rf, param, cv=cv, return_train_score=True, n_jobs=-1, verbose=0)\n",
    "b_search.fit(train_in_nor, train_out.values.ravel())"
   ]
  },
  {
   "cell_type": "code",
   "execution_count": 12,
   "id": "7e2eaf45",
   "metadata": {
    "execution": {
     "iopub.execute_input": "2023-01-02T00:51:08.785052Z",
     "iopub.status.busy": "2023-01-02T00:51:08.784574Z",
     "iopub.status.idle": "2023-01-02T00:51:08.790836Z",
     "shell.execute_reply": "2023-01-02T00:51:08.789592Z"
    },
    "papermill": {
     "duration": 0.032338,
     "end_time": "2023-01-02T00:51:08.793252",
     "exception": false,
     "start_time": "2023-01-02T00:51:08.760914",
     "status": "completed"
    },
    "tags": []
   },
   "outputs": [
    {
     "name": "stdout",
     "output_type": "stream",
     "text": [
      "Mean train score = 0.9234\n",
      "Mean test score = 0.8362\n"
     ]
    }
   ],
   "source": [
    "print(f\"Mean train score = {b_search.cv_results_['mean_train_score'][b_search.best_index_].round(4)}\")\n",
    "print(f\"Mean test score = {b_search.cv_results_['mean_test_score'][b_search.best_index_].round(4)}\")"
   ]
  },
  {
   "cell_type": "code",
   "execution_count": 13,
   "id": "5fa40378",
   "metadata": {
    "execution": {
     "iopub.execute_input": "2023-01-02T00:51:08.838613Z",
     "iopub.status.busy": "2023-01-02T00:51:08.838159Z",
     "iopub.status.idle": "2023-01-02T00:51:08.845768Z",
     "shell.execute_reply": "2023-01-02T00:51:08.844585Z"
    },
    "papermill": {
     "duration": 0.033059,
     "end_time": "2023-01-02T00:51:08.848235",
     "exception": false,
     "start_time": "2023-01-02T00:51:08.815176",
     "status": "completed"
    },
    "tags": []
   },
   "outputs": [
    {
     "data": {
      "text/plain": [
       "OrderedDict([('max_depth', 8), ('max_features', 9), ('max_samples', 0.7)])"
      ]
     },
     "execution_count": 13,
     "metadata": {},
     "output_type": "execute_result"
    }
   ],
   "source": [
    "b_search.best_params_"
   ]
  },
  {
   "cell_type": "code",
   "execution_count": 15,
   "id": "563e5e20",
   "metadata": {
    "execution": {
     "iopub.execute_input": "2023-01-02T00:51:08.894716Z",
     "iopub.status.busy": "2023-01-02T00:51:08.894009Z",
     "iopub.status.idle": "2023-01-02T00:51:09.147240Z",
     "shell.execute_reply": "2023-01-02T00:51:09.146061Z"
    },
    "papermill": {
     "duration": 0.279431,
     "end_time": "2023-01-02T00:51:09.149813",
     "exception": false,
     "start_time": "2023-01-02T00:51:08.870382",
     "status": "completed"
    },
    "tags": []
   },
   "outputs": [
    {
     "data": {
      "text/plain": [
       "RandomForestClassifier(max_depth=8, max_features=9, max_samples=0.7,\n",
       "                       random_state=1)"
      ]
     },
     "execution_count": 15,
     "metadata": {},
     "output_type": "execute_result"
    }
   ],
   "source": [
    "model_rf1 = RandomForestClassifier(max_depth=b_search.best_params_['max_depth'],\n",
    "                                         max_features=b_search.best_params_['max_features'],\n",
    "                                         max_samples=b_search.best_params_['max_samples'],\n",
    "                                         random_state=1)\n",
    "model_rf1.fit(train_in, train_out.values.ravel())"
   ]
  },
  {
   "attachments": {},
   "cell_type": "markdown",
   "id": "13e7cb6b",
   "metadata": {},
   "source": [
    "Checking how many predicted labels are different when using model trained with CV and model trained over full train set:"
   ]
  },
  {
   "cell_type": "code",
   "execution_count": 17,
   "id": "194e8cff",
   "metadata": {
    "execution": {
     "iopub.execute_input": "2023-01-02T00:51:09.195641Z",
     "iopub.status.busy": "2023-01-02T00:51:09.194844Z",
     "iopub.status.idle": "2023-01-02T00:51:09.286131Z",
     "shell.execute_reply": "2023-01-02T00:51:09.284832Z"
    },
    "papermill": {
     "duration": 0.117183,
     "end_time": "2023-01-02T00:51:09.288777",
     "exception": false,
     "start_time": "2023-01-02T00:51:09.171594",
     "status": "completed"
    },
    "tags": []
   },
   "outputs": [
    {
     "data": {
      "text/plain": [
       "True     356\n",
       "False     62\n",
       "dtype: int64"
      ]
     },
     "execution_count": 17,
     "metadata": {},
     "output_type": "execute_result"
    }
   ],
   "source": [
    "compare = pd.DataFrame([b_search.predict(test_in), model_rf1.predict(test_in)]).T\n",
    "pd.DataFrame([compare[0] == compare[1]]).T.value_counts()"
   ]
  },
  {
   "cell_type": "code",
   "execution_count": 20,
   "id": "f14876d2",
   "metadata": {
    "execution": {
     "iopub.execute_input": "2023-01-02T00:51:09.335657Z",
     "iopub.status.busy": "2023-01-02T00:51:09.335204Z",
     "iopub.status.idle": "2023-01-02T00:51:09.350967Z",
     "shell.execute_reply": "2023-01-02T00:51:09.349675Z"
    },
    "papermill": {
     "duration": 0.042324,
     "end_time": "2023-01-02T00:51:09.353313",
     "exception": false,
     "start_time": "2023-01-02T00:51:09.310989",
     "status": "completed"
    },
    "tags": []
   },
   "outputs": [
    {
     "data": {
      "text/html": [
       "<div>\n",
       "<style scoped>\n",
       "    .dataframe tbody tr th:only-of-type {\n",
       "        vertical-align: middle;\n",
       "    }\n",
       "\n",
       "    .dataframe tbody tr th {\n",
       "        vertical-align: top;\n",
       "    }\n",
       "\n",
       "    .dataframe thead th {\n",
       "        text-align: right;\n",
       "    }\n",
       "</style>\n",
       "<table border=\"1\" class=\"dataframe\">\n",
       "  <thead>\n",
       "    <tr style=\"text-align: right;\">\n",
       "      <th></th>\n",
       "      <th>PassengerId</th>\n",
       "      <th>Survived</th>\n",
       "    </tr>\n",
       "  </thead>\n",
       "  <tbody>\n",
       "    <tr>\n",
       "      <th>0</th>\n",
       "      <td>892</td>\n",
       "      <td>0</td>\n",
       "    </tr>\n",
       "    <tr>\n",
       "      <th>1</th>\n",
       "      <td>893</td>\n",
       "      <td>1</td>\n",
       "    </tr>\n",
       "    <tr>\n",
       "      <th>2</th>\n",
       "      <td>894</td>\n",
       "      <td>0</td>\n",
       "    </tr>\n",
       "    <tr>\n",
       "      <th>3</th>\n",
       "      <td>895</td>\n",
       "      <td>0</td>\n",
       "    </tr>\n",
       "    <tr>\n",
       "      <th>4</th>\n",
       "      <td>896</td>\n",
       "      <td>1</td>\n",
       "    </tr>\n",
       "  </tbody>\n",
       "</table>\n",
       "</div>"
      ],
      "text/plain": [
       "   PassengerId  Survived\n",
       "0          892         0\n",
       "1          893         1\n",
       "2          894         0\n",
       "3          895         0\n",
       "4          896         1"
      ]
     },
     "execution_count": 20,
     "metadata": {},
     "output_type": "execute_result"
    }
   ],
   "source": [
    "os.chdir(\"../training\")\n",
    "data_path = \"../data/raw/\"\n",
    "\n",
    "submission = pd.read_csv(data_path + \"gender_submission.csv\")\n",
    "submission.head()"
   ]
  },
  {
   "cell_type": "code",
   "execution_count": 21,
   "id": "eb4fd866",
   "metadata": {
    "execution": {
     "iopub.execute_input": "2023-01-02T00:51:09.401928Z",
     "iopub.status.busy": "2023-01-02T00:51:09.401230Z",
     "iopub.status.idle": "2023-01-02T00:51:09.441325Z",
     "shell.execute_reply": "2023-01-02T00:51:09.440088Z"
    },
    "papermill": {
     "duration": 0.066841,
     "end_time": "2023-01-02T00:51:09.443678",
     "exception": false,
     "start_time": "2023-01-02T00:51:09.376837",
     "status": "completed"
    },
    "tags": []
   },
   "outputs": [
    {
     "data": {
      "text/html": [
       "<div>\n",
       "<style scoped>\n",
       "    .dataframe tbody tr th:only-of-type {\n",
       "        vertical-align: middle;\n",
       "    }\n",
       "\n",
       "    .dataframe tbody tr th {\n",
       "        vertical-align: top;\n",
       "    }\n",
       "\n",
       "    .dataframe thead th {\n",
       "        text-align: right;\n",
       "    }\n",
       "</style>\n",
       "<table border=\"1\" class=\"dataframe\">\n",
       "  <thead>\n",
       "    <tr style=\"text-align: right;\">\n",
       "      <th></th>\n",
       "      <th>PassengerId</th>\n",
       "      <th>Survived</th>\n",
       "    </tr>\n",
       "  </thead>\n",
       "  <tbody>\n",
       "    <tr>\n",
       "      <th>0</th>\n",
       "      <td>892</td>\n",
       "      <td>0</td>\n",
       "    </tr>\n",
       "    <tr>\n",
       "      <th>1</th>\n",
       "      <td>893</td>\n",
       "      <td>0</td>\n",
       "    </tr>\n",
       "    <tr>\n",
       "      <th>2</th>\n",
       "      <td>894</td>\n",
       "      <td>0</td>\n",
       "    </tr>\n",
       "    <tr>\n",
       "      <th>3</th>\n",
       "      <td>895</td>\n",
       "      <td>0</td>\n",
       "    </tr>\n",
       "    <tr>\n",
       "      <th>4</th>\n",
       "      <td>896</td>\n",
       "      <td>0</td>\n",
       "    </tr>\n",
       "    <tr>\n",
       "      <th>...</th>\n",
       "      <td>...</td>\n",
       "      <td>...</td>\n",
       "    </tr>\n",
       "    <tr>\n",
       "      <th>413</th>\n",
       "      <td>1305</td>\n",
       "      <td>0</td>\n",
       "    </tr>\n",
       "    <tr>\n",
       "      <th>414</th>\n",
       "      <td>1306</td>\n",
       "      <td>1</td>\n",
       "    </tr>\n",
       "    <tr>\n",
       "      <th>415</th>\n",
       "      <td>1307</td>\n",
       "      <td>0</td>\n",
       "    </tr>\n",
       "    <tr>\n",
       "      <th>416</th>\n",
       "      <td>1308</td>\n",
       "      <td>0</td>\n",
       "    </tr>\n",
       "    <tr>\n",
       "      <th>417</th>\n",
       "      <td>1309</td>\n",
       "      <td>1</td>\n",
       "    </tr>\n",
       "  </tbody>\n",
       "</table>\n",
       "<p>418 rows × 2 columns</p>\n",
       "</div>"
      ],
      "text/plain": [
       "     PassengerId  Survived\n",
       "0            892         0\n",
       "1            893         0\n",
       "2            894         0\n",
       "3            895         0\n",
       "4            896         0\n",
       "..           ...       ...\n",
       "413         1305         0\n",
       "414         1306         1\n",
       "415         1307         0\n",
       "416         1308         0\n",
       "417         1309         1\n",
       "\n",
       "[418 rows x 2 columns]"
      ]
     },
     "execution_count": 21,
     "metadata": {},
     "output_type": "execute_result"
    }
   ],
   "source": [
    "predictions = pd.DataFrame([test['PassengerId'], model_rf1.predict(test_in)]).T\n",
    "predictions.columns = ['PassengerId','Survived']\n",
    "predictions"
   ]
  },
  {
   "cell_type": "code",
   "execution_count": 23,
   "id": "0f6a20c4",
   "metadata": {
    "execution": {
     "iopub.execute_input": "2023-01-02T00:51:09.491285Z",
     "iopub.status.busy": "2023-01-02T00:51:09.490881Z",
     "iopub.status.idle": "2023-01-02T00:51:09.499269Z",
     "shell.execute_reply": "2023-01-02T00:51:09.498396Z"
    },
    "papermill": {
     "duration": 0.035183,
     "end_time": "2023-01-02T00:51:09.501710",
     "exception": false,
     "start_time": "2023-01-02T00:51:09.466527",
     "status": "completed"
    },
    "tags": []
   },
   "outputs": [],
   "source": [
    "os.chdir(\"../training\")\n",
    "data_path = \"../data/prediction/\"\n",
    "\n",
    "predictions.to_csv(data_path + 'submission1.csv', index=False)"
   ]
  },
  {
   "attachments": {},
   "cell_type": "markdown",
   "id": "88f3aaca",
   "metadata": {},
   "source": [
    "#### CV Train Accuracy: 0.923 / CV Val. Accuracy: 0.836 / Test Accuracy (website): 0.77751"
   ]
  },
  {
   "attachments": {},
   "cell_type": "markdown",
   "id": "d76101cb",
   "metadata": {},
   "source": [
    "------\n",
    "--------\n",
    "--------\n",
    "--------"
   ]
  },
  {
   "cell_type": "markdown",
   "id": "7a515f89",
   "metadata": {},
   "source": [
    "## Model 2: Gradient Boosting Tree"
   ]
  },
  {
   "cell_type": "code",
   "execution_count": 7,
   "id": "4c5a4ad4",
   "metadata": {},
   "outputs": [],
   "source": [
    "columns = ['Sex','Age','SibSp','Parch','Fare','FamilySize','Pc1','Pc2','Pc3','em1','em2','em3','Age_tb','FareBin_Code','AgeBin_Code']\n",
    "\n",
    "train_in = train[columns].copy()\n",
    "test_in = test[columns].copy()\n",
    "train_out = train[['Survived']].copy()"
   ]
  },
  {
   "cell_type": "markdown",
   "id": "e78244f9",
   "metadata": {},
   "source": [
    "**Data Normalization:**\n",
    "\n",
    "Normalizing the data based on the train set"
   ]
  },
  {
   "cell_type": "code",
   "execution_count": 9,
   "id": "0e92b835",
   "metadata": {
    "papermill": {
     "duration": 0.022191,
     "end_time": "2023-01-02T00:51:09.546424",
     "exception": false,
     "start_time": "2023-01-02T00:51:09.524233",
     "status": "completed"
    },
    "tags": []
   },
   "outputs": [],
   "source": [
    "cols_exc = [] \n",
    "\n",
    "train_max = train_in.drop(columns=cols_exc).max()\n",
    "train_min = train_in.drop(columns=cols_exc).min()\n",
    "\n",
    "A1 = (train_min - train_in.drop(columns=cols_exc))/(train_min - train_max)\n",
    "A2 = (train_min - test_in.drop(columns=cols_exc))/(train_min - train_max)\n",
    "\n",
    "train_in_nor = A1.join(train_in[cols_exc])\n",
    "test_in_nor = A2.join(test_in[cols_exc])"
   ]
  },
  {
   "attachments": {},
   "cell_type": "markdown",
   "id": "77eafe01",
   "metadata": {},
   "source": [
    "**Developing a gradient boosting tree model:**"
   ]
  },
  {
   "cell_type": "code",
   "execution_count": 10,
   "id": "86ffeb7b",
   "metadata": {},
   "outputs": [
    {
     "data": {
      "text/plain": [
       "BayesSearchCV(cv=RepeatedKFold(n_repeats=1, n_splits=5, random_state=1),\n",
       "              estimator=GradientBoostingClassifier(), n_jobs=-1,\n",
       "              return_train_score=True,\n",
       "              search_spaces={'learning_rate': Real(low=0.001, high=1, prior='log-uniform', transform='normalize'),\n",
       "                             'max_depth': Integer(low=1, high=20, prior='uniform', transform='normalize'),\n",
       "                             'n_estimators': Integer(low=1, high=300, prior='uniform', transform='normalize')})"
      ]
     },
     "execution_count": 10,
     "metadata": {},
     "output_type": "execute_result"
    }
   ],
   "source": [
    "model_gbt = GradientBoostingClassifier()\n",
    "param = {'max_depth'     : Integer(1, 20),\n",
    "         'learning_rate' : Real(1e-3, 1, prior='log-uniform'),\n",
    "         'n_estimators'  : Integer(1, 300)}\n",
    "cv = RepeatedKFold(n_repeats=1, n_splits=5, random_state=1)\n",
    "b_search = BayesSearchCV(model_gbt, param, cv=cv, return_train_score=True, n_jobs=-1, verbose=0)\n",
    "b_search.fit(train_in_nor, train_out.values.ravel())"
   ]
  },
  {
   "cell_type": "code",
   "execution_count": 11,
   "id": "891e827f",
   "metadata": {},
   "outputs": [
    {
     "name": "stdout",
     "output_type": "stream",
     "text": [
      "Mean train score = 0.9517\n",
      "Mean test score = 0.8249\n"
     ]
    }
   ],
   "source": [
    "print(f\"Mean train score = {b_search.cv_results_['mean_train_score'][b_search.best_index_].round(4)}\")\n",
    "print(f\"Mean test score = {b_search.cv_results_['mean_test_score'][b_search.best_index_].round(4)}\")"
   ]
  },
  {
   "cell_type": "code",
   "execution_count": 12,
   "id": "dfbe947a",
   "metadata": {},
   "outputs": [
    {
     "data": {
      "text/plain": [
       "OrderedDict([('learning_rate', 0.005544441212074988),\n",
       "             ('max_depth', 8),\n",
       "             ('n_estimators', 300)])"
      ]
     },
     "execution_count": 12,
     "metadata": {},
     "output_type": "execute_result"
    }
   ],
   "source": [
    "b_search.best_params_"
   ]
  },
  {
   "cell_type": "code",
   "execution_count": 15,
   "id": "fa0a926e",
   "metadata": {},
   "outputs": [
    {
     "data": {
      "text/plain": [
       "GradientBoostingClassifier(learning_rate=0.005544441212074988, max_depth=8,\n",
       "                           n_estimators=300, random_state=1)"
      ]
     },
     "execution_count": 15,
     "metadata": {},
     "output_type": "execute_result"
    }
   ],
   "source": [
    "model_gbt1 = GradientBoostingClassifier(max_depth=b_search.best_params_['max_depth'],\n",
    "                                        learning_rate=b_search.best_params_['learning_rate'],\n",
    "                                        n_estimators=b_search.best_params_['n_estimators'],\n",
    "                                        random_state=1)\n",
    "model_gbt1.fit(train_in, train_out.values.ravel())"
   ]
  },
  {
   "cell_type": "markdown",
   "id": "c16bc5fc",
   "metadata": {},
   "source": [
    "Checking how many predicted labels are different when using model trained with CV and model trained over full train set:"
   ]
  },
  {
   "cell_type": "code",
   "execution_count": 16,
   "id": "268d7b08",
   "metadata": {},
   "outputs": [
    {
     "data": {
      "text/plain": [
       "False    223\n",
       "True     195\n",
       "dtype: int64"
      ]
     },
     "execution_count": 16,
     "metadata": {},
     "output_type": "execute_result"
    }
   ],
   "source": [
    "compare = pd.DataFrame([b_search.predict(test_in), model_gbt1.predict(test_in)]).T\n",
    "pd.DataFrame([compare[0] == compare[1]]).T.value_counts()"
   ]
  },
  {
   "cell_type": "code",
   "execution_count": 18,
   "id": "e112f752",
   "metadata": {},
   "outputs": [
    {
     "data": {
      "text/html": [
       "<div>\n",
       "<style scoped>\n",
       "    .dataframe tbody tr th:only-of-type {\n",
       "        vertical-align: middle;\n",
       "    }\n",
       "\n",
       "    .dataframe tbody tr th {\n",
       "        vertical-align: top;\n",
       "    }\n",
       "\n",
       "    .dataframe thead th {\n",
       "        text-align: right;\n",
       "    }\n",
       "</style>\n",
       "<table border=\"1\" class=\"dataframe\">\n",
       "  <thead>\n",
       "    <tr style=\"text-align: right;\">\n",
       "      <th></th>\n",
       "      <th>PassengerId</th>\n",
       "      <th>Survived</th>\n",
       "    </tr>\n",
       "  </thead>\n",
       "  <tbody>\n",
       "    <tr>\n",
       "      <th>0</th>\n",
       "      <td>892</td>\n",
       "      <td>0</td>\n",
       "    </tr>\n",
       "    <tr>\n",
       "      <th>1</th>\n",
       "      <td>893</td>\n",
       "      <td>0</td>\n",
       "    </tr>\n",
       "    <tr>\n",
       "      <th>2</th>\n",
       "      <td>894</td>\n",
       "      <td>0</td>\n",
       "    </tr>\n",
       "    <tr>\n",
       "      <th>3</th>\n",
       "      <td>895</td>\n",
       "      <td>0</td>\n",
       "    </tr>\n",
       "    <tr>\n",
       "      <th>4</th>\n",
       "      <td>896</td>\n",
       "      <td>0</td>\n",
       "    </tr>\n",
       "    <tr>\n",
       "      <th>...</th>\n",
       "      <td>...</td>\n",
       "      <td>...</td>\n",
       "    </tr>\n",
       "    <tr>\n",
       "      <th>413</th>\n",
       "      <td>1305</td>\n",
       "      <td>0</td>\n",
       "    </tr>\n",
       "    <tr>\n",
       "      <th>414</th>\n",
       "      <td>1306</td>\n",
       "      <td>1</td>\n",
       "    </tr>\n",
       "    <tr>\n",
       "      <th>415</th>\n",
       "      <td>1307</td>\n",
       "      <td>0</td>\n",
       "    </tr>\n",
       "    <tr>\n",
       "      <th>416</th>\n",
       "      <td>1308</td>\n",
       "      <td>0</td>\n",
       "    </tr>\n",
       "    <tr>\n",
       "      <th>417</th>\n",
       "      <td>1309</td>\n",
       "      <td>1</td>\n",
       "    </tr>\n",
       "  </tbody>\n",
       "</table>\n",
       "<p>418 rows × 2 columns</p>\n",
       "</div>"
      ],
      "text/plain": [
       "     PassengerId  Survived\n",
       "0            892         0\n",
       "1            893         0\n",
       "2            894         0\n",
       "3            895         0\n",
       "4            896         0\n",
       "..           ...       ...\n",
       "413         1305         0\n",
       "414         1306         1\n",
       "415         1307         0\n",
       "416         1308         0\n",
       "417         1309         1\n",
       "\n",
       "[418 rows x 2 columns]"
      ]
     },
     "execution_count": 18,
     "metadata": {},
     "output_type": "execute_result"
    }
   ],
   "source": [
    "predictions = pd.DataFrame([test['PassengerId'], model_gbt1.predict(test_in)]).T\n",
    "predictions.columns = ['PassengerId','Survived']\n",
    "predictions"
   ]
  },
  {
   "cell_type": "code",
   "execution_count": 19,
   "id": "12b07aa1",
   "metadata": {},
   "outputs": [],
   "source": [
    "os.chdir(\"../training\")\n",
    "data_path = \"../data/prediction/\"\n",
    "\n",
    "predictions.to_csv(data_path + 'submission2.csv', index=False)"
   ]
  },
  {
   "attachments": {},
   "cell_type": "markdown",
   "id": "05d68e68",
   "metadata": {},
   "source": [
    "#### CV Train Accuracy: 0.9517 / CV Val. Accuracy: 0.8249 / Test Accuracy (website): 0.77033"
   ]
  },
  {
   "attachments": {},
   "cell_type": "markdown",
   "id": "01d9d8ff",
   "metadata": {},
   "source": [
    "-------------\n",
    "-------------\n",
    "--------------\n",
    "---------------"
   ]
  },
  {
   "attachments": {},
   "cell_type": "markdown",
   "id": "25ac20d6",
   "metadata": {},
   "source": [
    "## Model 3: K-Nearest Neighbor"
   ]
  },
  {
   "cell_type": "code",
   "execution_count": 20,
   "id": "30b634b3",
   "metadata": {},
   "outputs": [],
   "source": [
    "columns = ['Sex','Age','SibSp','Parch','Fare','FamilySize','Pc1','Pc2','Pc3','em1','em2','em3','Age_tb','FareBin_Code','AgeBin_Code']\n",
    "\n",
    "train_in = train[columns].copy()\n",
    "test_in = test[columns].copy()\n",
    "train_out = train[['Survived']].copy()"
   ]
  },
  {
   "attachments": {},
   "cell_type": "markdown",
   "id": "3fd89649",
   "metadata": {},
   "source": [
    "**Data Normalization:**\n",
    "\n",
    "Normalizing the data based on the train set"
   ]
  },
  {
   "cell_type": "code",
   "execution_count": 21,
   "id": "30d88a53",
   "metadata": {},
   "outputs": [],
   "source": [
    "cols_exc = [] \n",
    "\n",
    "train_max = train_in.drop(columns=cols_exc).max()\n",
    "train_min = train_in.drop(columns=cols_exc).min()\n",
    "\n",
    "A1 = (train_min - train_in.drop(columns=cols_exc))/(train_min - train_max)\n",
    "A2 = (train_min - test_in.drop(columns=cols_exc))/(train_min - train_max)\n",
    "\n",
    "train_in_nor = A1.join(train_in[cols_exc])\n",
    "test_in_nor = A2.join(test_in[cols_exc])"
   ]
  },
  {
   "attachments": {},
   "cell_type": "markdown",
   "id": "cb2768c6",
   "metadata": {},
   "source": [
    "**Developing KNN model:**"
   ]
  },
  {
   "cell_type": "code",
   "execution_count": 22,
   "id": "e8a04919",
   "metadata": {},
   "outputs": [
    {
     "name": "stderr",
     "output_type": "stream",
     "text": [
      "c:\\Behzad\\gitHub-Projects\\Kaggle\\Titanic\\env_titanic\\lib\\site-packages\\skopt\\optimizer\\optimizer.py:449: UserWarning: The objective has been evaluated at this point before.\n",
      "  warnings.warn(\"The objective has been evaluated \"\n",
      "c:\\Behzad\\gitHub-Projects\\Kaggle\\Titanic\\env_titanic\\lib\\site-packages\\skopt\\optimizer\\optimizer.py:449: UserWarning: The objective has been evaluated at this point before.\n",
      "  warnings.warn(\"The objective has been evaluated \"\n",
      "c:\\Behzad\\gitHub-Projects\\Kaggle\\Titanic\\env_titanic\\lib\\site-packages\\skopt\\optimizer\\optimizer.py:449: UserWarning: The objective has been evaluated at this point before.\n",
      "  warnings.warn(\"The objective has been evaluated \"\n",
      "c:\\Behzad\\gitHub-Projects\\Kaggle\\Titanic\\env_titanic\\lib\\site-packages\\skopt\\optimizer\\optimizer.py:449: UserWarning: The objective has been evaluated at this point before.\n",
      "  warnings.warn(\"The objective has been evaluated \"\n",
      "c:\\Behzad\\gitHub-Projects\\Kaggle\\Titanic\\env_titanic\\lib\\site-packages\\skopt\\optimizer\\optimizer.py:449: UserWarning: The objective has been evaluated at this point before.\n",
      "  warnings.warn(\"The objective has been evaluated \"\n",
      "c:\\Behzad\\gitHub-Projects\\Kaggle\\Titanic\\env_titanic\\lib\\site-packages\\skopt\\optimizer\\optimizer.py:449: UserWarning: The objective has been evaluated at this point before.\n",
      "  warnings.warn(\"The objective has been evaluated \"\n"
     ]
    },
    {
     "data": {
      "text/plain": [
       "BayesSearchCV(cv=RepeatedKFold(n_repeats=1, n_splits=5, random_state=1),\n",
       "              estimator=KNeighborsClassifier(), n_jobs=-1,\n",
       "              return_train_score=True,\n",
       "              search_spaces={'leaf_size': Integer(low=1, high=50, prior='uniform', transform='normalize'),\n",
       "                             'n_neighbors': Integer(low=1, high=20, prior='uniform', transform='normalize'),\n",
       "                             'weights': Categorical(categories=('uniform', 'distance'), prior=None)})"
      ]
     },
     "execution_count": 22,
     "metadata": {},
     "output_type": "execute_result"
    }
   ],
   "source": [
    "model_knn = KNeighborsClassifier()\n",
    "param = {'n_neighbors' : Integer(1, 20),\n",
    "         'weights'     : Categorical(['uniform', 'distance']),\n",
    "         'leaf_size'   : Integer(1,50)}\n",
    "cv = RepeatedKFold(n_repeats=1, n_splits=5, random_state=1)\n",
    "b_search = BayesSearchCV(model_knn, param, cv=cv, return_train_score=True, n_jobs=-1, verbose=0)\n",
    "b_search.fit(train_in, train_out.values.ravel())"
   ]
  },
  {
   "cell_type": "code",
   "execution_count": 23,
   "id": "79ce1320",
   "metadata": {},
   "outputs": [
    {
     "name": "stdout",
     "output_type": "stream",
     "text": [
      "Mean train score = 0.986\n",
      "Mean test score = 0.7307\n"
     ]
    }
   ],
   "source": [
    "print(f\"Mean train score = {b_search.cv_results_['mean_train_score'][b_search.best_index_].round(4)}\")\n",
    "print(f\"Mean test score = {b_search.cv_results_['mean_test_score'][b_search.best_index_].round(4)}\")"
   ]
  },
  {
   "cell_type": "code",
   "execution_count": 24,
   "id": "5061e7fc",
   "metadata": {},
   "outputs": [
    {
     "data": {
      "text/plain": [
       "OrderedDict([('leaf_size', 50), ('n_neighbors', 20), ('weights', 'distance')])"
      ]
     },
     "execution_count": 24,
     "metadata": {},
     "output_type": "execute_result"
    }
   ],
   "source": [
    "b_search.best_params_"
   ]
  },
  {
   "cell_type": "code",
   "execution_count": 26,
   "id": "95102c4b",
   "metadata": {},
   "outputs": [
    {
     "data": {
      "text/plain": [
       "KNeighborsClassifier(leaf_size=50, n_neighbors=20, weights='distance')"
      ]
     },
     "execution_count": 26,
     "metadata": {},
     "output_type": "execute_result"
    }
   ],
   "source": [
    "model_knn1 = KNeighborsClassifier(n_neighbors=b_search.best_params_['n_neighbors'],\n",
    "                                  weights=b_search.best_params_['weights'],\n",
    "                                  leaf_size=b_search.best_params_['leaf_size'])\n",
    "model_knn1.fit(train_in, train_out.values.ravel())"
   ]
  },
  {
   "attachments": {},
   "cell_type": "markdown",
   "id": "562576b2",
   "metadata": {},
   "source": [
    "Checking how many predicted labels are different when using model trained with CV and model trained over full train set:"
   ]
  },
  {
   "cell_type": "code",
   "execution_count": 27,
   "id": "7e64b0f1",
   "metadata": {},
   "outputs": [
    {
     "data": {
      "text/plain": [
       "True    418\n",
       "dtype: int64"
      ]
     },
     "execution_count": 27,
     "metadata": {},
     "output_type": "execute_result"
    }
   ],
   "source": [
    "compare = pd.DataFrame([b_search.predict(test_in), model_knn1.predict(test_in)]).T\n",
    "pd.DataFrame([compare[0] == compare[1]]).T.value_counts()"
   ]
  },
  {
   "cell_type": "code",
   "execution_count": 28,
   "id": "1bc0e00f",
   "metadata": {},
   "outputs": [
    {
     "data": {
      "text/html": [
       "<div>\n",
       "<style scoped>\n",
       "    .dataframe tbody tr th:only-of-type {\n",
       "        vertical-align: middle;\n",
       "    }\n",
       "\n",
       "    .dataframe tbody tr th {\n",
       "        vertical-align: top;\n",
       "    }\n",
       "\n",
       "    .dataframe thead th {\n",
       "        text-align: right;\n",
       "    }\n",
       "</style>\n",
       "<table border=\"1\" class=\"dataframe\">\n",
       "  <thead>\n",
       "    <tr style=\"text-align: right;\">\n",
       "      <th></th>\n",
       "      <th>PassengerId</th>\n",
       "      <th>Survived</th>\n",
       "    </tr>\n",
       "  </thead>\n",
       "  <tbody>\n",
       "    <tr>\n",
       "      <th>0</th>\n",
       "      <td>892</td>\n",
       "      <td>0</td>\n",
       "    </tr>\n",
       "    <tr>\n",
       "      <th>1</th>\n",
       "      <td>893</td>\n",
       "      <td>0</td>\n",
       "    </tr>\n",
       "    <tr>\n",
       "      <th>2</th>\n",
       "      <td>894</td>\n",
       "      <td>0</td>\n",
       "    </tr>\n",
       "    <tr>\n",
       "      <th>3</th>\n",
       "      <td>895</td>\n",
       "      <td>1</td>\n",
       "    </tr>\n",
       "    <tr>\n",
       "      <th>4</th>\n",
       "      <td>896</td>\n",
       "      <td>0</td>\n",
       "    </tr>\n",
       "    <tr>\n",
       "      <th>...</th>\n",
       "      <td>...</td>\n",
       "      <td>...</td>\n",
       "    </tr>\n",
       "    <tr>\n",
       "      <th>413</th>\n",
       "      <td>1305</td>\n",
       "      <td>0</td>\n",
       "    </tr>\n",
       "    <tr>\n",
       "      <th>414</th>\n",
       "      <td>1306</td>\n",
       "      <td>1</td>\n",
       "    </tr>\n",
       "    <tr>\n",
       "      <th>415</th>\n",
       "      <td>1307</td>\n",
       "      <td>0</td>\n",
       "    </tr>\n",
       "    <tr>\n",
       "      <th>416</th>\n",
       "      <td>1308</td>\n",
       "      <td>0</td>\n",
       "    </tr>\n",
       "    <tr>\n",
       "      <th>417</th>\n",
       "      <td>1309</td>\n",
       "      <td>0</td>\n",
       "    </tr>\n",
       "  </tbody>\n",
       "</table>\n",
       "<p>418 rows × 2 columns</p>\n",
       "</div>"
      ],
      "text/plain": [
       "     PassengerId  Survived\n",
       "0            892         0\n",
       "1            893         0\n",
       "2            894         0\n",
       "3            895         1\n",
       "4            896         0\n",
       "..           ...       ...\n",
       "413         1305         0\n",
       "414         1306         1\n",
       "415         1307         0\n",
       "416         1308         0\n",
       "417         1309         0\n",
       "\n",
       "[418 rows x 2 columns]"
      ]
     },
     "execution_count": 28,
     "metadata": {},
     "output_type": "execute_result"
    }
   ],
   "source": [
    "predictions = pd.DataFrame([test['PassengerId'], model_knn1.predict(test_in)]).T\n",
    "predictions.columns = ['PassengerId','Survived']\n",
    "predictions"
   ]
  },
  {
   "cell_type": "code",
   "execution_count": 29,
   "id": "0c00f3ce",
   "metadata": {},
   "outputs": [],
   "source": [
    "os.chdir(\"../training\")\n",
    "data_path = \"../data/prediction/\"\n",
    "\n",
    "predictions.to_csv(data_path + 'submission3.csv', index=False)"
   ]
  },
  {
   "attachments": {},
   "cell_type": "markdown",
   "id": "e3902aff",
   "metadata": {},
   "source": [
    "#### CV Train Accuracy: 0.986 / CV Val. Accuracy: 0.7307 / Test Accuracy (website): 0.65311"
   ]
  },
  {
   "attachments": {},
   "cell_type": "markdown",
   "id": "53b66de7",
   "metadata": {},
   "source": [
    "-------------\n",
    "--------------\n",
    "-------------\n",
    "----------"
   ]
  },
  {
   "attachments": {},
   "cell_type": "markdown",
   "id": "8d411994",
   "metadata": {},
   "source": [
    "## Model 4: K-Nearest Neighbor"
   ]
  },
  {
   "cell_type": "code",
   "execution_count": 30,
   "id": "ba99bc87",
   "metadata": {},
   "outputs": [],
   "source": [
    "columns = ['Sex','Pc3','Fare','FamilySize','Pc1']\n",
    "\n",
    "train_in = train[columns].copy()\n",
    "test_in = test[columns].copy()\n",
    "train_out = train[['Survived']].copy()"
   ]
  },
  {
   "cell_type": "markdown",
   "id": "d3858f81",
   "metadata": {},
   "source": [
    "**Data Normalization:**\n",
    "\n",
    "Normalizing the data based on the train set"
   ]
  },
  {
   "cell_type": "code",
   "execution_count": 32,
   "id": "9d487e77",
   "metadata": {},
   "outputs": [],
   "source": [
    "cols_exc = [] \n",
    "\n",
    "train_max = train_in.drop(columns=cols_exc).max()\n",
    "train_min = train_in.drop(columns=cols_exc).min()\n",
    "\n",
    "A1 = (train_min - train_in.drop(columns=cols_exc))/(train_min - train_max)\n",
    "A2 = (train_min - test_in.drop(columns=cols_exc))/(train_min - train_max)\n",
    "\n",
    "train_in_nor = A1.join(train_in[cols_exc])\n",
    "test_in_nor = A2.join(test_in[cols_exc])"
   ]
  },
  {
   "attachments": {},
   "cell_type": "markdown",
   "id": "2440a370",
   "metadata": {},
   "source": [
    "**Developing KNN model:**"
   ]
  },
  {
   "cell_type": "code",
   "execution_count": 33,
   "id": "ba4cc8e8",
   "metadata": {},
   "outputs": [
    {
     "name": "stderr",
     "output_type": "stream",
     "text": [
      "c:\\Behzad\\gitHub-Projects\\Kaggle\\Titanic\\env_titanic\\lib\\site-packages\\skopt\\optimizer\\optimizer.py:449: UserWarning: The objective has been evaluated at this point before.\n",
      "  warnings.warn(\"The objective has been evaluated \"\n",
      "c:\\Behzad\\gitHub-Projects\\Kaggle\\Titanic\\env_titanic\\lib\\site-packages\\skopt\\optimizer\\optimizer.py:449: UserWarning: The objective has been evaluated at this point before.\n",
      "  warnings.warn(\"The objective has been evaluated \"\n",
      "c:\\Behzad\\gitHub-Projects\\Kaggle\\Titanic\\env_titanic\\lib\\site-packages\\skopt\\optimizer\\optimizer.py:449: UserWarning: The objective has been evaluated at this point before.\n",
      "  warnings.warn(\"The objective has been evaluated \"\n",
      "c:\\Behzad\\gitHub-Projects\\Kaggle\\Titanic\\env_titanic\\lib\\site-packages\\skopt\\optimizer\\optimizer.py:449: UserWarning: The objective has been evaluated at this point before.\n",
      "  warnings.warn(\"The objective has been evaluated \"\n",
      "c:\\Behzad\\gitHub-Projects\\Kaggle\\Titanic\\env_titanic\\lib\\site-packages\\skopt\\optimizer\\optimizer.py:449: UserWarning: The objective has been evaluated at this point before.\n",
      "  warnings.warn(\"The objective has been evaluated \"\n",
      "c:\\Behzad\\gitHub-Projects\\Kaggle\\Titanic\\env_titanic\\lib\\site-packages\\skopt\\optimizer\\optimizer.py:449: UserWarning: The objective has been evaluated at this point before.\n",
      "  warnings.warn(\"The objective has been evaluated \"\n",
      "c:\\Behzad\\gitHub-Projects\\Kaggle\\Titanic\\env_titanic\\lib\\site-packages\\skopt\\optimizer\\optimizer.py:449: UserWarning: The objective has been evaluated at this point before.\n",
      "  warnings.warn(\"The objective has been evaluated \"\n"
     ]
    },
    {
     "data": {
      "text/plain": [
       "BayesSearchCV(cv=RepeatedKFold(n_repeats=1, n_splits=5, random_state=1),\n",
       "              estimator=KNeighborsClassifier(), n_jobs=-1,\n",
       "              return_train_score=True,\n",
       "              search_spaces={'leaf_size': Integer(low=1, high=50, prior='uniform', transform='normalize'),\n",
       "                             'n_neighbors': Integer(low=1, high=20, prior='uniform', transform='normalize'),\n",
       "                             'weights': Categorical(categories=('uniform', 'distance'), prior=None)})"
      ]
     },
     "execution_count": 33,
     "metadata": {},
     "output_type": "execute_result"
    }
   ],
   "source": [
    "model_knn = KNeighborsClassifier()\n",
    "param = {'n_neighbors' : Integer(1, 20),\n",
    "         'weights'     : Categorical(['uniform', 'distance']),\n",
    "         'leaf_size'   : Integer(1,50)}\n",
    "cv = RepeatedKFold(n_repeats=1, n_splits=5, random_state=1)\n",
    "b_search = BayesSearchCV(model_knn, param, cv=cv, return_train_score=True, n_jobs=-1, verbose=0)\n",
    "b_search.fit(train_in, train_out.values.ravel())"
   ]
  },
  {
   "cell_type": "code",
   "execution_count": 34,
   "id": "802255f2",
   "metadata": {},
   "outputs": [
    {
     "name": "stdout",
     "output_type": "stream",
     "text": [
      "Mean train score = 0.9228\n",
      "Mean test score = 0.7991\n"
     ]
    }
   ],
   "source": [
    "print(f\"Mean train score = {b_search.cv_results_['mean_train_score'][b_search.best_index_].round(4)}\")\n",
    "print(f\"Mean test score = {b_search.cv_results_['mean_test_score'][b_search.best_index_].round(4)}\")"
   ]
  },
  {
   "cell_type": "code",
   "execution_count": 35,
   "id": "a4948e30",
   "metadata": {},
   "outputs": [
    {
     "data": {
      "text/plain": [
       "OrderedDict([('leaf_size', 50), ('n_neighbors', 6), ('weights', 'distance')])"
      ]
     },
     "execution_count": 35,
     "metadata": {},
     "output_type": "execute_result"
    }
   ],
   "source": [
    "b_search.best_params_"
   ]
  },
  {
   "cell_type": "code",
   "execution_count": 38,
   "id": "a1b510fd",
   "metadata": {},
   "outputs": [
    {
     "data": {
      "text/plain": [
       "KNeighborsClassifier(leaf_size=50, n_neighbors=6, weights='distance')"
      ]
     },
     "execution_count": 38,
     "metadata": {},
     "output_type": "execute_result"
    }
   ],
   "source": [
    "model_knn2 = KNeighborsClassifier(n_neighbors=b_search.best_params_['n_neighbors'],\n",
    "                                  weights=b_search.best_params_['weights'],\n",
    "                                  leaf_size=b_search.best_params_['leaf_size'])\n",
    "model_knn2.fit(train_in, train_out.values.ravel())"
   ]
  },
  {
   "cell_type": "markdown",
   "id": "2b73a3c9",
   "metadata": {},
   "source": [
    "Checking how many predicted labels are different when using model trained with CV and model trained over full train set:"
   ]
  },
  {
   "cell_type": "code",
   "execution_count": 39,
   "id": "a4d35ba7",
   "metadata": {},
   "outputs": [
    {
     "data": {
      "text/plain": [
       "True    418\n",
       "dtype: int64"
      ]
     },
     "execution_count": 39,
     "metadata": {},
     "output_type": "execute_result"
    }
   ],
   "source": [
    "compare = pd.DataFrame([b_search.predict(test_in), model_knn2.predict(test_in)]).T\n",
    "pd.DataFrame([compare[0] == compare[1]]).T.value_counts()"
   ]
  },
  {
   "cell_type": "code",
   "execution_count": 40,
   "id": "83e54dcb",
   "metadata": {},
   "outputs": [
    {
     "data": {
      "text/html": [
       "<div>\n",
       "<style scoped>\n",
       "    .dataframe tbody tr th:only-of-type {\n",
       "        vertical-align: middle;\n",
       "    }\n",
       "\n",
       "    .dataframe tbody tr th {\n",
       "        vertical-align: top;\n",
       "    }\n",
       "\n",
       "    .dataframe thead th {\n",
       "        text-align: right;\n",
       "    }\n",
       "</style>\n",
       "<table border=\"1\" class=\"dataframe\">\n",
       "  <thead>\n",
       "    <tr style=\"text-align: right;\">\n",
       "      <th></th>\n",
       "      <th>PassengerId</th>\n",
       "      <th>Survived</th>\n",
       "    </tr>\n",
       "  </thead>\n",
       "  <tbody>\n",
       "    <tr>\n",
       "      <th>0</th>\n",
       "      <td>892</td>\n",
       "      <td>0</td>\n",
       "    </tr>\n",
       "    <tr>\n",
       "      <th>1</th>\n",
       "      <td>893</td>\n",
       "      <td>1</td>\n",
       "    </tr>\n",
       "    <tr>\n",
       "      <th>2</th>\n",
       "      <td>894</td>\n",
       "      <td>0</td>\n",
       "    </tr>\n",
       "    <tr>\n",
       "      <th>3</th>\n",
       "      <td>895</td>\n",
       "      <td>0</td>\n",
       "    </tr>\n",
       "    <tr>\n",
       "      <th>4</th>\n",
       "      <td>896</td>\n",
       "      <td>1</td>\n",
       "    </tr>\n",
       "    <tr>\n",
       "      <th>...</th>\n",
       "      <td>...</td>\n",
       "      <td>...</td>\n",
       "    </tr>\n",
       "    <tr>\n",
       "      <th>413</th>\n",
       "      <td>1305</td>\n",
       "      <td>0</td>\n",
       "    </tr>\n",
       "    <tr>\n",
       "      <th>414</th>\n",
       "      <td>1306</td>\n",
       "      <td>1</td>\n",
       "    </tr>\n",
       "    <tr>\n",
       "      <th>415</th>\n",
       "      <td>1307</td>\n",
       "      <td>0</td>\n",
       "    </tr>\n",
       "    <tr>\n",
       "      <th>416</th>\n",
       "      <td>1308</td>\n",
       "      <td>0</td>\n",
       "    </tr>\n",
       "    <tr>\n",
       "      <th>417</th>\n",
       "      <td>1309</td>\n",
       "      <td>1</td>\n",
       "    </tr>\n",
       "  </tbody>\n",
       "</table>\n",
       "<p>418 rows × 2 columns</p>\n",
       "</div>"
      ],
      "text/plain": [
       "     PassengerId  Survived\n",
       "0            892         0\n",
       "1            893         1\n",
       "2            894         0\n",
       "3            895         0\n",
       "4            896         1\n",
       "..           ...       ...\n",
       "413         1305         0\n",
       "414         1306         1\n",
       "415         1307         0\n",
       "416         1308         0\n",
       "417         1309         1\n",
       "\n",
       "[418 rows x 2 columns]"
      ]
     },
     "execution_count": 40,
     "metadata": {},
     "output_type": "execute_result"
    }
   ],
   "source": [
    "predictions = pd.DataFrame([test['PassengerId'], model_knn2.predict(test_in)]).T\n",
    "predictions.columns = ['PassengerId','Survived']\n",
    "predictions"
   ]
  },
  {
   "cell_type": "code",
   "execution_count": 41,
   "id": "1aba765a",
   "metadata": {},
   "outputs": [],
   "source": [
    "os.chdir(\"../training\")\n",
    "data_path = \"../data/prediction/\"\n",
    "\n",
    "predictions.to_csv(data_path + 'submission4.csv', index=False)"
   ]
  },
  {
   "attachments": {},
   "cell_type": "markdown",
   "id": "e3e088b8",
   "metadata": {},
   "source": [
    "#### CV Train Accuracy: 0.9228 / CV Val. Accuracy: 0.7991 / Test Accuracy (website): 0.73923"
   ]
  },
  {
   "attachments": {},
   "cell_type": "markdown",
   "id": "414ee5f6",
   "metadata": {},
   "source": [
    "-------------\n",
    "------------\n",
    "------------\n",
    "------------"
   ]
  },
  {
   "cell_type": "code",
   "execution_count": null,
   "id": "b6d678e7",
   "metadata": {},
   "outputs": [],
   "source": []
  }
 ],
 "metadata": {
  "kernelspec": {
   "display_name": "env_titanic",
   "language": "python",
   "name": "python3"
  },
  "language_info": {
   "codemirror_mode": {
    "name": "ipython",
    "version": 3
   },
   "file_extension": ".py",
   "mimetype": "text/x-python",
   "name": "python",
   "nbconvert_exporter": "python",
   "pygments_lexer": "ipython3",
   "version": "3.9.13"
  },
  "papermill": {
   "default_parameters": {},
   "duration": 189.629909,
   "end_time": "2023-01-02T00:51:12.237357",
   "environment_variables": {},
   "exception": null,
   "input_path": "__notebook__.ipynb",
   "output_path": "__notebook__.ipynb",
   "parameters": {},
   "start_time": "2023-01-02T00:48:02.607448",
   "version": "2.3.4"
  },
  "vscode": {
   "interpreter": {
    "hash": "07b3ae5a9ebdaa4d071c2e25f24cebb5d992587d57d12c41b4d5fe9fe2942ae4"
   }
  }
 },
 "nbformat": 4,
 "nbformat_minor": 5
}
