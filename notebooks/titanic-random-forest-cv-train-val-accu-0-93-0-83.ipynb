{
 "cells": [
  {
   "attachments": {},
   "cell_type": "markdown",
   "id": "4a16aeba",
   "metadata": {},
   "source": [
    "# Kaggle Competition: Titanic - Machine Learning from Disaster\n",
    "URL: https://www.kaggle.com/competitions/titanic"
   ]
  },
  {
   "cell_type": "code",
   "execution_count": 3,
   "id": "93ae8482",
   "metadata": {
    "execution": {
     "iopub.execute_input": "2023-01-02T00:48:13.093771Z",
     "iopub.status.busy": "2023-01-02T00:48:13.093336Z",
     "iopub.status.idle": "2023-01-02T00:48:14.546768Z",
     "shell.execute_reply": "2023-01-02T00:48:14.545523Z"
    },
    "papermill": {
     "duration": 1.473564,
     "end_time": "2023-01-02T00:48:14.549685",
     "exception": false,
     "start_time": "2023-01-02T00:48:13.076121",
     "status": "completed"
    },
    "tags": []
   },
   "outputs": [],
   "source": [
    "import pandas as pd\n",
    "import numpy as np\n",
    "from sklearn.preprocessing import OneHotEncoder\n",
    "from sklearn.impute import SimpleImputer\n",
    "from sklearn.impute import KNNImputer\n",
    "import seaborn as sns\n",
    "import matplotlib.pyplot as plt\n",
    "import os"
   ]
  },
  {
   "cell_type": "markdown",
   "id": "4575e3b5",
   "metadata": {
    "papermill": {
     "duration": 0.014636,
     "end_time": "2023-01-02T00:48:14.579864",
     "exception": false,
     "start_time": "2023-01-02T00:48:14.565228",
     "status": "completed"
    },
    "tags": []
   },
   "source": [
    "---------\n",
    "----------\n",
    "------------\n",
    "-----------"
   ]
  },
  {
   "attachments": {},
   "cell_type": "markdown",
   "id": "37370c2e",
   "metadata": {
    "papermill": {
     "duration": 0.014795,
     "end_time": "2023-01-02T00:48:14.610254",
     "exception": false,
     "start_time": "2023-01-02T00:48:14.595459",
     "status": "completed"
    },
    "tags": []
   },
   "source": [
    "## 1. Extracting and Looking at Data"
   ]
  },
  {
   "cell_type": "code",
   "execution_count": null,
   "id": "983183fc",
   "metadata": {},
   "outputs": [],
   "source": [
    "os.chdir(\"../nodes\")"
   ]
  },
  {
   "cell_type": "code",
   "execution_count": 3,
   "id": "d1db534b",
   "metadata": {
    "execution": {
     "iopub.execute_input": "2023-01-02T00:48:14.642258Z",
     "iopub.status.busy": "2023-01-02T00:48:14.641850Z",
     "iopub.status.idle": "2023-01-02T00:48:14.686213Z",
     "shell.execute_reply": "2023-01-02T00:48:14.685300Z"
    },
    "papermill": {
     "duration": 0.062885,
     "end_time": "2023-01-02T00:48:14.688341",
     "exception": false,
     "start_time": "2023-01-02T00:48:14.625456",
     "status": "completed"
    },
    "tags": []
   },
   "outputs": [
    {
     "data": {
      "text/html": [
       "<div>\n",
       "<style scoped>\n",
       "    .dataframe tbody tr th:only-of-type {\n",
       "        vertical-align: middle;\n",
       "    }\n",
       "\n",
       "    .dataframe tbody tr th {\n",
       "        vertical-align: top;\n",
       "    }\n",
       "\n",
       "    .dataframe thead th {\n",
       "        text-align: right;\n",
       "    }\n",
       "</style>\n",
       "<table border=\"1\" class=\"dataframe\">\n",
       "  <thead>\n",
       "    <tr style=\"text-align: right;\">\n",
       "      <th></th>\n",
       "      <th>PassengerId</th>\n",
       "      <th>Survived</th>\n",
       "      <th>Pclass</th>\n",
       "      <th>Name</th>\n",
       "      <th>Sex</th>\n",
       "      <th>Age</th>\n",
       "      <th>SibSp</th>\n",
       "      <th>Parch</th>\n",
       "      <th>Ticket</th>\n",
       "      <th>Fare</th>\n",
       "      <th>Cabin</th>\n",
       "      <th>Embarked</th>\n",
       "    </tr>\n",
       "  </thead>\n",
       "  <tbody>\n",
       "    <tr>\n",
       "      <th>0</th>\n",
       "      <td>1</td>\n",
       "      <td>0</td>\n",
       "      <td>3</td>\n",
       "      <td>Braund, Mr. Owen Harris</td>\n",
       "      <td>male</td>\n",
       "      <td>22.0</td>\n",
       "      <td>1</td>\n",
       "      <td>0</td>\n",
       "      <td>A/5 21171</td>\n",
       "      <td>7.2500</td>\n",
       "      <td>NaN</td>\n",
       "      <td>S</td>\n",
       "    </tr>\n",
       "    <tr>\n",
       "      <th>1</th>\n",
       "      <td>2</td>\n",
       "      <td>1</td>\n",
       "      <td>1</td>\n",
       "      <td>Cumings, Mrs. John Bradley (Florence Briggs Th...</td>\n",
       "      <td>female</td>\n",
       "      <td>38.0</td>\n",
       "      <td>1</td>\n",
       "      <td>0</td>\n",
       "      <td>PC 17599</td>\n",
       "      <td>71.2833</td>\n",
       "      <td>C85</td>\n",
       "      <td>C</td>\n",
       "    </tr>\n",
       "    <tr>\n",
       "      <th>2</th>\n",
       "      <td>3</td>\n",
       "      <td>1</td>\n",
       "      <td>3</td>\n",
       "      <td>Heikkinen, Miss. Laina</td>\n",
       "      <td>female</td>\n",
       "      <td>26.0</td>\n",
       "      <td>0</td>\n",
       "      <td>0</td>\n",
       "      <td>STON/O2. 3101282</td>\n",
       "      <td>7.9250</td>\n",
       "      <td>NaN</td>\n",
       "      <td>S</td>\n",
       "    </tr>\n",
       "    <tr>\n",
       "      <th>3</th>\n",
       "      <td>4</td>\n",
       "      <td>1</td>\n",
       "      <td>1</td>\n",
       "      <td>Futrelle, Mrs. Jacques Heath (Lily May Peel)</td>\n",
       "      <td>female</td>\n",
       "      <td>35.0</td>\n",
       "      <td>1</td>\n",
       "      <td>0</td>\n",
       "      <td>113803</td>\n",
       "      <td>53.1000</td>\n",
       "      <td>C123</td>\n",
       "      <td>S</td>\n",
       "    </tr>\n",
       "    <tr>\n",
       "      <th>4</th>\n",
       "      <td>5</td>\n",
       "      <td>0</td>\n",
       "      <td>3</td>\n",
       "      <td>Allen, Mr. William Henry</td>\n",
       "      <td>male</td>\n",
       "      <td>35.0</td>\n",
       "      <td>0</td>\n",
       "      <td>0</td>\n",
       "      <td>373450</td>\n",
       "      <td>8.0500</td>\n",
       "      <td>NaN</td>\n",
       "      <td>S</td>\n",
       "    </tr>\n",
       "  </tbody>\n",
       "</table>\n",
       "</div>"
      ],
      "text/plain": [
       "   PassengerId  Survived  Pclass  \\\n",
       "0            1         0       3   \n",
       "1            2         1       1   \n",
       "2            3         1       3   \n",
       "3            4         1       1   \n",
       "4            5         0       3   \n",
       "\n",
       "                                                Name     Sex   Age  SibSp  \\\n",
       "0                            Braund, Mr. Owen Harris    male  22.0      1   \n",
       "1  Cumings, Mrs. John Bradley (Florence Briggs Th...  female  38.0      1   \n",
       "2                             Heikkinen, Miss. Laina  female  26.0      0   \n",
       "3       Futrelle, Mrs. Jacques Heath (Lily May Peel)  female  35.0      1   \n",
       "4                           Allen, Mr. William Henry    male  35.0      0   \n",
       "\n",
       "   Parch            Ticket     Fare Cabin Embarked  \n",
       "0      0         A/5 21171   7.2500   NaN        S  \n",
       "1      0          PC 17599  71.2833   C85        C  \n",
       "2      0  STON/O2. 3101282   7.9250   NaN        S  \n",
       "3      0            113803  53.1000  C123        S  \n",
       "4      0            373450   8.0500   NaN        S  "
      ]
     },
     "execution_count": 3,
     "metadata": {},
     "output_type": "execute_result"
    }
   ],
   "source": [
    "train_data = pd.read_csv(\"/kaggle/input/titanic/train.csv\")\n",
    "train_data.head()"
   ]
  },
  {
   "cell_type": "code",
   "execution_count": 4,
   "id": "0ffdb349",
   "metadata": {
    "execution": {
     "iopub.execute_input": "2023-01-02T00:48:14.723091Z",
     "iopub.status.busy": "2023-01-02T00:48:14.722129Z",
     "iopub.status.idle": "2023-01-02T00:48:14.749412Z",
     "shell.execute_reply": "2023-01-02T00:48:14.747770Z"
    },
    "papermill": {
     "duration": 0.048854,
     "end_time": "2023-01-02T00:48:14.753477",
     "exception": false,
     "start_time": "2023-01-02T00:48:14.704623",
     "status": "completed"
    },
    "tags": []
   },
   "outputs": [
    {
     "name": "stdout",
     "output_type": "stream",
     "text": [
      "<class 'pandas.core.frame.DataFrame'>\n",
      "RangeIndex: 891 entries, 0 to 890\n",
      "Data columns (total 12 columns):\n",
      " #   Column       Non-Null Count  Dtype  \n",
      "---  ------       --------------  -----  \n",
      " 0   PassengerId  891 non-null    int64  \n",
      " 1   Survived     891 non-null    int64  \n",
      " 2   Pclass       891 non-null    int64  \n",
      " 3   Name         891 non-null    object \n",
      " 4   Sex          891 non-null    object \n",
      " 5   Age          714 non-null    float64\n",
      " 6   SibSp        891 non-null    int64  \n",
      " 7   Parch        891 non-null    int64  \n",
      " 8   Ticket       891 non-null    object \n",
      " 9   Fare         891 non-null    float64\n",
      " 10  Cabin        204 non-null    object \n",
      " 11  Embarked     889 non-null    object \n",
      "dtypes: float64(2), int64(5), object(5)\n",
      "memory usage: 83.7+ KB\n"
     ]
    }
   ],
   "source": [
    "train_data.info()"
   ]
  },
  {
   "cell_type": "code",
   "execution_count": 5,
   "id": "8afb440e",
   "metadata": {
    "execution": {
     "iopub.execute_input": "2023-01-02T00:48:14.790365Z",
     "iopub.status.busy": "2023-01-02T00:48:14.789241Z",
     "iopub.status.idle": "2023-01-02T00:48:14.818141Z",
     "shell.execute_reply": "2023-01-02T00:48:14.816920Z"
    },
    "papermill": {
     "duration": 0.050711,
     "end_time": "2023-01-02T00:48:14.820778",
     "exception": false,
     "start_time": "2023-01-02T00:48:14.770067",
     "status": "completed"
    },
    "tags": []
   },
   "outputs": [
    {
     "data": {
      "text/html": [
       "<div>\n",
       "<style scoped>\n",
       "    .dataframe tbody tr th:only-of-type {\n",
       "        vertical-align: middle;\n",
       "    }\n",
       "\n",
       "    .dataframe tbody tr th {\n",
       "        vertical-align: top;\n",
       "    }\n",
       "\n",
       "    .dataframe thead th {\n",
       "        text-align: right;\n",
       "    }\n",
       "</style>\n",
       "<table border=\"1\" class=\"dataframe\">\n",
       "  <thead>\n",
       "    <tr style=\"text-align: right;\">\n",
       "      <th></th>\n",
       "      <th>PassengerId</th>\n",
       "      <th>Pclass</th>\n",
       "      <th>Name</th>\n",
       "      <th>Sex</th>\n",
       "      <th>Age</th>\n",
       "      <th>SibSp</th>\n",
       "      <th>Parch</th>\n",
       "      <th>Ticket</th>\n",
       "      <th>Fare</th>\n",
       "      <th>Cabin</th>\n",
       "      <th>Embarked</th>\n",
       "    </tr>\n",
       "  </thead>\n",
       "  <tbody>\n",
       "    <tr>\n",
       "      <th>0</th>\n",
       "      <td>892</td>\n",
       "      <td>3</td>\n",
       "      <td>Kelly, Mr. James</td>\n",
       "      <td>male</td>\n",
       "      <td>34.5</td>\n",
       "      <td>0</td>\n",
       "      <td>0</td>\n",
       "      <td>330911</td>\n",
       "      <td>7.8292</td>\n",
       "      <td>NaN</td>\n",
       "      <td>Q</td>\n",
       "    </tr>\n",
       "    <tr>\n",
       "      <th>1</th>\n",
       "      <td>893</td>\n",
       "      <td>3</td>\n",
       "      <td>Wilkes, Mrs. James (Ellen Needs)</td>\n",
       "      <td>female</td>\n",
       "      <td>47.0</td>\n",
       "      <td>1</td>\n",
       "      <td>0</td>\n",
       "      <td>363272</td>\n",
       "      <td>7.0000</td>\n",
       "      <td>NaN</td>\n",
       "      <td>S</td>\n",
       "    </tr>\n",
       "    <tr>\n",
       "      <th>2</th>\n",
       "      <td>894</td>\n",
       "      <td>2</td>\n",
       "      <td>Myles, Mr. Thomas Francis</td>\n",
       "      <td>male</td>\n",
       "      <td>62.0</td>\n",
       "      <td>0</td>\n",
       "      <td>0</td>\n",
       "      <td>240276</td>\n",
       "      <td>9.6875</td>\n",
       "      <td>NaN</td>\n",
       "      <td>Q</td>\n",
       "    </tr>\n",
       "    <tr>\n",
       "      <th>3</th>\n",
       "      <td>895</td>\n",
       "      <td>3</td>\n",
       "      <td>Wirz, Mr. Albert</td>\n",
       "      <td>male</td>\n",
       "      <td>27.0</td>\n",
       "      <td>0</td>\n",
       "      <td>0</td>\n",
       "      <td>315154</td>\n",
       "      <td>8.6625</td>\n",
       "      <td>NaN</td>\n",
       "      <td>S</td>\n",
       "    </tr>\n",
       "    <tr>\n",
       "      <th>4</th>\n",
       "      <td>896</td>\n",
       "      <td>3</td>\n",
       "      <td>Hirvonen, Mrs. Alexander (Helga E Lindqvist)</td>\n",
       "      <td>female</td>\n",
       "      <td>22.0</td>\n",
       "      <td>1</td>\n",
       "      <td>1</td>\n",
       "      <td>3101298</td>\n",
       "      <td>12.2875</td>\n",
       "      <td>NaN</td>\n",
       "      <td>S</td>\n",
       "    </tr>\n",
       "  </tbody>\n",
       "</table>\n",
       "</div>"
      ],
      "text/plain": [
       "   PassengerId  Pclass                                          Name     Sex  \\\n",
       "0          892       3                              Kelly, Mr. James    male   \n",
       "1          893       3              Wilkes, Mrs. James (Ellen Needs)  female   \n",
       "2          894       2                     Myles, Mr. Thomas Francis    male   \n",
       "3          895       3                              Wirz, Mr. Albert    male   \n",
       "4          896       3  Hirvonen, Mrs. Alexander (Helga E Lindqvist)  female   \n",
       "\n",
       "    Age  SibSp  Parch   Ticket     Fare Cabin Embarked  \n",
       "0  34.5      0      0   330911   7.8292   NaN        Q  \n",
       "1  47.0      1      0   363272   7.0000   NaN        S  \n",
       "2  62.0      0      0   240276   9.6875   NaN        Q  \n",
       "3  27.0      0      0   315154   8.6625   NaN        S  \n",
       "4  22.0      1      1  3101298  12.2875   NaN        S  "
      ]
     },
     "execution_count": 5,
     "metadata": {},
     "output_type": "execute_result"
    }
   ],
   "source": [
    "test_data = pd.read_csv(\"/kaggle/input/titanic/test.csv\")\n",
    "test_data.head()"
   ]
  },
  {
   "cell_type": "code",
   "execution_count": 6,
   "id": "a77cd521",
   "metadata": {
    "execution": {
     "iopub.execute_input": "2023-01-02T00:48:14.855451Z",
     "iopub.status.busy": "2023-01-02T00:48:14.854331Z",
     "iopub.status.idle": "2023-01-02T00:48:14.867950Z",
     "shell.execute_reply": "2023-01-02T00:48:14.866482Z"
    },
    "papermill": {
     "duration": 0.033474,
     "end_time": "2023-01-02T00:48:14.870717",
     "exception": false,
     "start_time": "2023-01-02T00:48:14.837243",
     "status": "completed"
    },
    "tags": []
   },
   "outputs": [
    {
     "name": "stdout",
     "output_type": "stream",
     "text": [
      "<class 'pandas.core.frame.DataFrame'>\n",
      "RangeIndex: 418 entries, 0 to 417\n",
      "Data columns (total 11 columns):\n",
      " #   Column       Non-Null Count  Dtype  \n",
      "---  ------       --------------  -----  \n",
      " 0   PassengerId  418 non-null    int64  \n",
      " 1   Pclass       418 non-null    int64  \n",
      " 2   Name         418 non-null    object \n",
      " 3   Sex          418 non-null    object \n",
      " 4   Age          332 non-null    float64\n",
      " 5   SibSp        418 non-null    int64  \n",
      " 6   Parch        418 non-null    int64  \n",
      " 7   Ticket       418 non-null    object \n",
      " 8   Fare         417 non-null    float64\n",
      " 9   Cabin        91 non-null     object \n",
      " 10  Embarked     418 non-null    object \n",
      "dtypes: float64(2), int64(4), object(5)\n",
      "memory usage: 36.0+ KB\n"
     ]
    }
   ],
   "source": [
    "test_data.info()"
   ]
  },
  {
   "cell_type": "markdown",
   "id": "23c0af83",
   "metadata": {
    "papermill": {
     "duration": 0.01705,
     "end_time": "2023-01-02T00:48:14.903826",
     "exception": false,
     "start_time": "2023-01-02T00:48:14.886776",
     "status": "completed"
    },
    "tags": []
   },
   "source": [
    "Checking the number of missing data points:"
   ]
  },
  {
   "cell_type": "code",
   "execution_count": 7,
   "id": "a0fa7abd",
   "metadata": {
    "execution": {
     "iopub.execute_input": "2023-01-02T00:48:14.938733Z",
     "iopub.status.busy": "2023-01-02T00:48:14.938295Z",
     "iopub.status.idle": "2023-01-02T00:48:14.948187Z",
     "shell.execute_reply": "2023-01-02T00:48:14.946847Z"
    },
    "papermill": {
     "duration": 0.030498,
     "end_time": "2023-01-02T00:48:14.950641",
     "exception": false,
     "start_time": "2023-01-02T00:48:14.920143",
     "status": "completed"
    },
    "tags": []
   },
   "outputs": [
    {
     "data": {
      "text/plain": [
       "PassengerId      0\n",
       "Survived         0\n",
       "Pclass           0\n",
       "Name             0\n",
       "Sex              0\n",
       "Age            177\n",
       "SibSp            0\n",
       "Parch            0\n",
       "Ticket           0\n",
       "Fare             0\n",
       "Cabin          687\n",
       "Embarked         2\n",
       "dtype: int64"
      ]
     },
     "execution_count": 7,
     "metadata": {},
     "output_type": "execute_result"
    }
   ],
   "source": [
    "train_data.isna().sum()"
   ]
  },
  {
   "cell_type": "code",
   "execution_count": 8,
   "id": "35ea13f7",
   "metadata": {
    "execution": {
     "iopub.execute_input": "2023-01-02T00:48:14.984334Z",
     "iopub.status.busy": "2023-01-02T00:48:14.983913Z",
     "iopub.status.idle": "2023-01-02T00:48:14.994628Z",
     "shell.execute_reply": "2023-01-02T00:48:14.993474Z"
    },
    "papermill": {
     "duration": 0.030411,
     "end_time": "2023-01-02T00:48:14.996984",
     "exception": false,
     "start_time": "2023-01-02T00:48:14.966573",
     "status": "completed"
    },
    "tags": []
   },
   "outputs": [
    {
     "data": {
      "text/plain": [
       "PassengerId      0\n",
       "Pclass           0\n",
       "Name             0\n",
       "Sex              0\n",
       "Age             86\n",
       "SibSp            0\n",
       "Parch            0\n",
       "Ticket           0\n",
       "Fare             1\n",
       "Cabin          327\n",
       "Embarked         0\n",
       "dtype: int64"
      ]
     },
     "execution_count": 8,
     "metadata": {},
     "output_type": "execute_result"
    }
   ],
   "source": [
    "test_data.isna().sum()"
   ]
  },
  {
   "cell_type": "code",
   "execution_count": 9,
   "id": "98ce3452",
   "metadata": {
    "execution": {
     "iopub.execute_input": "2023-01-02T00:48:15.031284Z",
     "iopub.status.busy": "2023-01-02T00:48:15.030896Z",
     "iopub.status.idle": "2023-01-02T00:48:15.067458Z",
     "shell.execute_reply": "2023-01-02T00:48:15.066281Z"
    },
    "papermill": {
     "duration": 0.057271,
     "end_time": "2023-01-02T00:48:15.070323",
     "exception": false,
     "start_time": "2023-01-02T00:48:15.013052",
     "status": "completed"
    },
    "tags": []
   },
   "outputs": [
    {
     "data": {
      "text/html": [
       "<div>\n",
       "<style scoped>\n",
       "    .dataframe tbody tr th:only-of-type {\n",
       "        vertical-align: middle;\n",
       "    }\n",
       "\n",
       "    .dataframe tbody tr th {\n",
       "        vertical-align: top;\n",
       "    }\n",
       "\n",
       "    .dataframe thead th {\n",
       "        text-align: right;\n",
       "    }\n",
       "</style>\n",
       "<table border=\"1\" class=\"dataframe\">\n",
       "  <thead>\n",
       "    <tr style=\"text-align: right;\">\n",
       "      <th></th>\n",
       "      <th>PassengerId</th>\n",
       "      <th>Survived</th>\n",
       "      <th>Pclass</th>\n",
       "      <th>Age</th>\n",
       "      <th>SibSp</th>\n",
       "      <th>Parch</th>\n",
       "      <th>Fare</th>\n",
       "    </tr>\n",
       "  </thead>\n",
       "  <tbody>\n",
       "    <tr>\n",
       "      <th>count</th>\n",
       "      <td>891.000000</td>\n",
       "      <td>891.000000</td>\n",
       "      <td>891.000000</td>\n",
       "      <td>714.000000</td>\n",
       "      <td>891.000000</td>\n",
       "      <td>891.000000</td>\n",
       "      <td>891.000000</td>\n",
       "    </tr>\n",
       "    <tr>\n",
       "      <th>mean</th>\n",
       "      <td>446.000000</td>\n",
       "      <td>0.383838</td>\n",
       "      <td>2.308642</td>\n",
       "      <td>29.699118</td>\n",
       "      <td>0.523008</td>\n",
       "      <td>0.381594</td>\n",
       "      <td>32.204208</td>\n",
       "    </tr>\n",
       "    <tr>\n",
       "      <th>std</th>\n",
       "      <td>257.353842</td>\n",
       "      <td>0.486592</td>\n",
       "      <td>0.836071</td>\n",
       "      <td>14.526497</td>\n",
       "      <td>1.102743</td>\n",
       "      <td>0.806057</td>\n",
       "      <td>49.693429</td>\n",
       "    </tr>\n",
       "    <tr>\n",
       "      <th>min</th>\n",
       "      <td>1.000000</td>\n",
       "      <td>0.000000</td>\n",
       "      <td>1.000000</td>\n",
       "      <td>0.420000</td>\n",
       "      <td>0.000000</td>\n",
       "      <td>0.000000</td>\n",
       "      <td>0.000000</td>\n",
       "    </tr>\n",
       "    <tr>\n",
       "      <th>25%</th>\n",
       "      <td>223.500000</td>\n",
       "      <td>0.000000</td>\n",
       "      <td>2.000000</td>\n",
       "      <td>20.125000</td>\n",
       "      <td>0.000000</td>\n",
       "      <td>0.000000</td>\n",
       "      <td>7.910400</td>\n",
       "    </tr>\n",
       "    <tr>\n",
       "      <th>50%</th>\n",
       "      <td>446.000000</td>\n",
       "      <td>0.000000</td>\n",
       "      <td>3.000000</td>\n",
       "      <td>28.000000</td>\n",
       "      <td>0.000000</td>\n",
       "      <td>0.000000</td>\n",
       "      <td>14.454200</td>\n",
       "    </tr>\n",
       "    <tr>\n",
       "      <th>75%</th>\n",
       "      <td>668.500000</td>\n",
       "      <td>1.000000</td>\n",
       "      <td>3.000000</td>\n",
       "      <td>38.000000</td>\n",
       "      <td>1.000000</td>\n",
       "      <td>0.000000</td>\n",
       "      <td>31.000000</td>\n",
       "    </tr>\n",
       "    <tr>\n",
       "      <th>max</th>\n",
       "      <td>891.000000</td>\n",
       "      <td>1.000000</td>\n",
       "      <td>3.000000</td>\n",
       "      <td>80.000000</td>\n",
       "      <td>8.000000</td>\n",
       "      <td>6.000000</td>\n",
       "      <td>512.329200</td>\n",
       "    </tr>\n",
       "  </tbody>\n",
       "</table>\n",
       "</div>"
      ],
      "text/plain": [
       "       PassengerId    Survived      Pclass         Age       SibSp  \\\n",
       "count   891.000000  891.000000  891.000000  714.000000  891.000000   \n",
       "mean    446.000000    0.383838    2.308642   29.699118    0.523008   \n",
       "std     257.353842    0.486592    0.836071   14.526497    1.102743   \n",
       "min       1.000000    0.000000    1.000000    0.420000    0.000000   \n",
       "25%     223.500000    0.000000    2.000000   20.125000    0.000000   \n",
       "50%     446.000000    0.000000    3.000000   28.000000    0.000000   \n",
       "75%     668.500000    1.000000    3.000000   38.000000    1.000000   \n",
       "max     891.000000    1.000000    3.000000   80.000000    8.000000   \n",
       "\n",
       "            Parch        Fare  \n",
       "count  891.000000  891.000000  \n",
       "mean     0.381594   32.204208  \n",
       "std      0.806057   49.693429  \n",
       "min      0.000000    0.000000  \n",
       "25%      0.000000    7.910400  \n",
       "50%      0.000000   14.454200  \n",
       "75%      0.000000   31.000000  \n",
       "max      6.000000  512.329200  "
      ]
     },
     "execution_count": 9,
     "metadata": {},
     "output_type": "execute_result"
    }
   ],
   "source": [
    "train_data.describe()"
   ]
  },
  {
   "cell_type": "code",
   "execution_count": 10,
   "id": "e74c87aa",
   "metadata": {
    "execution": {
     "iopub.execute_input": "2023-01-02T00:48:15.105443Z",
     "iopub.status.busy": "2023-01-02T00:48:15.104626Z",
     "iopub.status.idle": "2023-01-02T00:48:15.131833Z",
     "shell.execute_reply": "2023-01-02T00:48:15.130575Z"
    },
    "papermill": {
     "duration": 0.047927,
     "end_time": "2023-01-02T00:48:15.134703",
     "exception": false,
     "start_time": "2023-01-02T00:48:15.086776",
     "status": "completed"
    },
    "tags": []
   },
   "outputs": [
    {
     "data": {
      "text/html": [
       "<div>\n",
       "<style scoped>\n",
       "    .dataframe tbody tr th:only-of-type {\n",
       "        vertical-align: middle;\n",
       "    }\n",
       "\n",
       "    .dataframe tbody tr th {\n",
       "        vertical-align: top;\n",
       "    }\n",
       "\n",
       "    .dataframe thead th {\n",
       "        text-align: right;\n",
       "    }\n",
       "</style>\n",
       "<table border=\"1\" class=\"dataframe\">\n",
       "  <thead>\n",
       "    <tr style=\"text-align: right;\">\n",
       "      <th></th>\n",
       "      <th>Name</th>\n",
       "      <th>Sex</th>\n",
       "      <th>Ticket</th>\n",
       "      <th>Cabin</th>\n",
       "      <th>Embarked</th>\n",
       "    </tr>\n",
       "  </thead>\n",
       "  <tbody>\n",
       "    <tr>\n",
       "      <th>count</th>\n",
       "      <td>891</td>\n",
       "      <td>891</td>\n",
       "      <td>891</td>\n",
       "      <td>204</td>\n",
       "      <td>889</td>\n",
       "    </tr>\n",
       "    <tr>\n",
       "      <th>unique</th>\n",
       "      <td>891</td>\n",
       "      <td>2</td>\n",
       "      <td>681</td>\n",
       "      <td>147</td>\n",
       "      <td>3</td>\n",
       "    </tr>\n",
       "    <tr>\n",
       "      <th>top</th>\n",
       "      <td>Braund, Mr. Owen Harris</td>\n",
       "      <td>male</td>\n",
       "      <td>347082</td>\n",
       "      <td>B96 B98</td>\n",
       "      <td>S</td>\n",
       "    </tr>\n",
       "    <tr>\n",
       "      <th>freq</th>\n",
       "      <td>1</td>\n",
       "      <td>577</td>\n",
       "      <td>7</td>\n",
       "      <td>4</td>\n",
       "      <td>644</td>\n",
       "    </tr>\n",
       "  </tbody>\n",
       "</table>\n",
       "</div>"
      ],
      "text/plain": [
       "                           Name   Sex  Ticket    Cabin Embarked\n",
       "count                       891   891     891      204      889\n",
       "unique                      891     2     681      147        3\n",
       "top     Braund, Mr. Owen Harris  male  347082  B96 B98        S\n",
       "freq                          1   577       7        4      644"
      ]
     },
     "execution_count": 10,
     "metadata": {},
     "output_type": "execute_result"
    }
   ],
   "source": [
    "train_data.describe(include=['O'])"
   ]
  },
  {
   "cell_type": "markdown",
   "id": "cce1a4ad",
   "metadata": {
    "papermill": {
     "duration": 0.016713,
     "end_time": "2023-01-02T00:48:15.168388",
     "exception": false,
     "start_time": "2023-01-02T00:48:15.151675",
     "status": "completed"
    },
    "tags": []
   },
   "source": [
    "--------------\n",
    "-----------------\n",
    "-------------"
   ]
  },
  {
   "cell_type": "markdown",
   "id": "71b64b43",
   "metadata": {
    "papermill": {
     "duration": 0.0162,
     "end_time": "2023-01-02T00:48:15.202120",
     "exception": false,
     "start_time": "2023-01-02T00:48:15.185920",
     "status": "completed"
    },
    "tags": []
   },
   "source": [
    "# 2. Some Data Preparations"
   ]
  },
  {
   "cell_type": "markdown",
   "id": "c115895f",
   "metadata": {
    "papermill": {
     "duration": 0.017202,
     "end_time": "2023-01-02T00:48:15.235853",
     "exception": false,
     "start_time": "2023-01-02T00:48:15.218651",
     "status": "completed"
    },
    "tags": []
   },
   "source": [
    "## 2.1. Droping Some Features\n",
    "The values of \"Name\" and \"PassengerId\" are unique for each passenger. So, we will drop these features.\n",
    "\n",
    "We check the values of the feature \"Ticket\" to see how unique they are. \n",
    "This feature seems to be useless for developing the models."
   ]
  },
  {
   "cell_type": "code",
   "execution_count": 11,
   "id": "c32a164c",
   "metadata": {
    "execution": {
     "iopub.execute_input": "2023-01-02T00:48:15.271850Z",
     "iopub.status.busy": "2023-01-02T00:48:15.271421Z",
     "iopub.status.idle": "2023-01-02T00:48:15.282223Z",
     "shell.execute_reply": "2023-01-02T00:48:15.281030Z"
    },
    "papermill": {
     "duration": 0.031811,
     "end_time": "2023-01-02T00:48:15.284860",
     "exception": false,
     "start_time": "2023-01-02T00:48:15.253049",
     "status": "completed"
    },
    "tags": []
   },
   "outputs": [
    {
     "data": {
      "text/plain": [
       "347082      7\n",
       "CA. 2343    7\n",
       "1601        7\n",
       "3101295     6\n",
       "CA 2144     6\n",
       "           ..\n",
       "9234        1\n",
       "19988       1\n",
       "2693        1\n",
       "PC 17612    1\n",
       "370376      1\n",
       "Name: Ticket, Length: 681, dtype: int64"
      ]
     },
     "execution_count": 11,
     "metadata": {},
     "output_type": "execute_result"
    }
   ],
   "source": [
    "train_data['Ticket'].value_counts()"
   ]
  },
  {
   "cell_type": "markdown",
   "id": "fdcaf39a",
   "metadata": {
    "papermill": {
     "duration": 0.016463,
     "end_time": "2023-01-02T00:48:15.318191",
     "exception": false,
     "start_time": "2023-01-02T00:48:15.301728",
     "status": "completed"
    },
    "tags": []
   },
   "source": [
    "As we can see, there are 681 different ticket numbers for 891 passengers. So, it apparently dosen't contain valuable information we can use.\n",
    "\n",
    "On the other hand, the feature \"Cabin\" has 687 missing values (out of 891). Moreover, it may present unique values. Lets check it."
   ]
  },
  {
   "cell_type": "code",
   "execution_count": 12,
   "id": "933d2109",
   "metadata": {
    "execution": {
     "iopub.execute_input": "2023-01-02T00:48:15.354385Z",
     "iopub.status.busy": "2023-01-02T00:48:15.353324Z",
     "iopub.status.idle": "2023-01-02T00:48:15.363300Z",
     "shell.execute_reply": "2023-01-02T00:48:15.362238Z"
    },
    "papermill": {
     "duration": 0.030605,
     "end_time": "2023-01-02T00:48:15.365697",
     "exception": false,
     "start_time": "2023-01-02T00:48:15.335092",
     "status": "completed"
    },
    "tags": []
   },
   "outputs": [
    {
     "data": {
      "text/plain": [
       "B96 B98        4\n",
       "G6             4\n",
       "C23 C25 C27    4\n",
       "C22 C26        3\n",
       "F33            3\n",
       "              ..\n",
       "E34            1\n",
       "C7             1\n",
       "C54            1\n",
       "E36            1\n",
       "C148           1\n",
       "Name: Cabin, Length: 147, dtype: int64"
      ]
     },
     "execution_count": 12,
     "metadata": {},
     "output_type": "execute_result"
    }
   ],
   "source": [
    "train_data['Cabin'].value_counts()"
   ]
  },
  {
   "cell_type": "markdown",
   "id": "5155eb85",
   "metadata": {
    "papermill": {
     "duration": 0.01644,
     "end_time": "2023-01-02T00:48:15.399148",
     "exception": false,
     "start_time": "2023-01-02T00:48:15.382708",
     "status": "completed"
    },
    "tags": []
   },
   "source": [
    "So, it contains 147 unique values (out of 204 recorded values). So, we can drop this feature, too."
   ]
  },
  {
   "cell_type": "code",
   "execution_count": 13,
   "id": "4aceddb9",
   "metadata": {
    "execution": {
     "iopub.execute_input": "2023-01-02T00:48:15.435784Z",
     "iopub.status.busy": "2023-01-02T00:48:15.434725Z",
     "iopub.status.idle": "2023-01-02T00:48:15.442991Z",
     "shell.execute_reply": "2023-01-02T00:48:15.441772Z"
    },
    "papermill": {
     "duration": 0.030008,
     "end_time": "2023-01-02T00:48:15.445887",
     "exception": false,
     "start_time": "2023-01-02T00:48:15.415879",
     "status": "completed"
    },
    "tags": []
   },
   "outputs": [],
   "source": [
    "cols_drop = ['PassengerId','Name','Ticket','Cabin']\n",
    "train_df = train_data.copy().drop(columns=cols_drop)\n",
    "test_df = test_data.copy().drop(columns=cols_drop)"
   ]
  },
  {
   "cell_type": "markdown",
   "id": "c369a702",
   "metadata": {
    "papermill": {
     "duration": 0.016361,
     "end_time": "2023-01-02T00:48:15.479178",
     "exception": false,
     "start_time": "2023-01-02T00:48:15.462817",
     "status": "completed"
    },
    "tags": []
   },
   "source": [
    "## 2.2. Converting Some Features\n",
    "Lets change 'Sex' to binary values."
   ]
  },
  {
   "cell_type": "code",
   "execution_count": 14,
   "id": "24b5b97f",
   "metadata": {
    "execution": {
     "iopub.execute_input": "2023-01-02T00:48:15.514642Z",
     "iopub.status.busy": "2023-01-02T00:48:15.514210Z",
     "iopub.status.idle": "2023-01-02T00:48:15.525171Z",
     "shell.execute_reply": "2023-01-02T00:48:15.524227Z"
    },
    "papermill": {
     "duration": 0.031449,
     "end_time": "2023-01-02T00:48:15.527454",
     "exception": false,
     "start_time": "2023-01-02T00:48:15.496005",
     "status": "completed"
    },
    "tags": []
   },
   "outputs": [
    {
     "data": {
      "text/plain": [
       "male      577\n",
       "female    314\n",
       "Name: Sex, dtype: int64"
      ]
     },
     "execution_count": 14,
     "metadata": {},
     "output_type": "execute_result"
    }
   ],
   "source": [
    "train_df['Sex'].value_counts()"
   ]
  },
  {
   "cell_type": "code",
   "execution_count": 15,
   "id": "a4fa865b",
   "metadata": {
    "execution": {
     "iopub.execute_input": "2023-01-02T00:48:15.564621Z",
     "iopub.status.busy": "2023-01-02T00:48:15.564139Z",
     "iopub.status.idle": "2023-01-02T00:48:15.580244Z",
     "shell.execute_reply": "2023-01-02T00:48:15.579305Z"
    },
    "papermill": {
     "duration": 0.037566,
     "end_time": "2023-01-02T00:48:15.582713",
     "exception": false,
     "start_time": "2023-01-02T00:48:15.545147",
     "status": "completed"
    },
    "tags": []
   },
   "outputs": [
    {
     "data": {
      "text/plain": [
       "0    577\n",
       "1    314\n",
       "Name: Sex, dtype: int64"
      ]
     },
     "execution_count": 15,
     "metadata": {},
     "output_type": "execute_result"
    }
   ],
   "source": [
    "train_df.loc[train_df['Sex']=='male', 'Sex'] = 0\n",
    "train_df.loc[train_df['Sex']=='female', 'Sex'] = 1\n",
    "\n",
    "test_df.loc[test_df['Sex']=='male', 'Sex'] = 0\n",
    "test_df.loc[test_df['Sex']=='female', 'Sex'] = 1\n",
    "\n",
    "# change the type of column 'Sex' to int\n",
    "train_df['Sex'] = train_df['Sex'].astype('int')\n",
    "test_df['Sex'] = test_df['Sex'].astype('int')\n",
    "\n",
    "train_df['Sex'].value_counts()"
   ]
  },
  {
   "cell_type": "markdown",
   "id": "3c21ea67",
   "metadata": {
    "papermill": {
     "duration": 0.017365,
     "end_time": "2023-01-02T00:48:15.617973",
     "exception": false,
     "start_time": "2023-01-02T00:48:15.600608",
     "status": "completed"
    },
    "tags": []
   },
   "source": [
    "We apply one-hot encoding to 'Pclass' and 'Embarked'."
   ]
  },
  {
   "cell_type": "code",
   "execution_count": 16,
   "id": "ec853353",
   "metadata": {
    "execution": {
     "iopub.execute_input": "2023-01-02T00:48:15.654883Z",
     "iopub.status.busy": "2023-01-02T00:48:15.653745Z",
     "iopub.status.idle": "2023-01-02T00:48:15.662828Z",
     "shell.execute_reply": "2023-01-02T00:48:15.661731Z"
    },
    "papermill": {
     "duration": 0.029829,
     "end_time": "2023-01-02T00:48:15.665161",
     "exception": false,
     "start_time": "2023-01-02T00:48:15.635332",
     "status": "completed"
    },
    "tags": []
   },
   "outputs": [
    {
     "data": {
      "text/plain": [
       "3    491\n",
       "1    216\n",
       "2    184\n",
       "Name: Pclass, dtype: int64"
      ]
     },
     "execution_count": 16,
     "metadata": {},
     "output_type": "execute_result"
    }
   ],
   "source": [
    "train_df['Pclass'].value_counts()"
   ]
  },
  {
   "cell_type": "code",
   "execution_count": 17,
   "id": "f52483ea",
   "metadata": {
    "execution": {
     "iopub.execute_input": "2023-01-02T00:48:15.701581Z",
     "iopub.status.busy": "2023-01-02T00:48:15.700675Z",
     "iopub.status.idle": "2023-01-02T00:48:15.720270Z",
     "shell.execute_reply": "2023-01-02T00:48:15.719039Z"
    },
    "papermill": {
     "duration": 0.04113,
     "end_time": "2023-01-02T00:48:15.723234",
     "exception": false,
     "start_time": "2023-01-02T00:48:15.682104",
     "status": "completed"
    },
    "tags": []
   },
   "outputs": [],
   "source": [
    "enc = OneHotEncoder(handle_unknown='ignore')\n",
    "enc.fit(train_df[['Pclass']])\n",
    "Pclass_train_df = pd.DataFrame(enc.transform(train_df[['Pclass']]).toarray())\n",
    "Pclass_test_df = pd.DataFrame(enc.transform(test_df[['Pclass']]).toarray())\n",
    "\n",
    "# adding the new features to the datasets\n",
    "train_df[['Pc1','Pc2','Pc3']] = Pclass_train_df.copy()\n",
    "test_df[['Pc1','Pc2','Pc3']] = Pclass_test_df.copy()\n",
    "\n",
    "# dropping the original feature \n",
    "train_df.drop(columns=['Pclass'], inplace=True)\n",
    "test_df.drop(columns=['Pclass'], inplace=True)"
   ]
  },
  {
   "cell_type": "markdown",
   "id": "ee73e694",
   "metadata": {
    "papermill": {
     "duration": 0.017578,
     "end_time": "2023-01-02T00:48:15.758849",
     "exception": false,
     "start_time": "2023-01-02T00:48:15.741271",
     "status": "completed"
    },
    "tags": []
   },
   "source": [
    "Now, lets apply one hot encoding to the feature 'Embarked'. This feature has 2 missing values inthe train set."
   ]
  },
  {
   "cell_type": "code",
   "execution_count": 18,
   "id": "4b57fb5c",
   "metadata": {
    "execution": {
     "iopub.execute_input": "2023-01-02T00:48:15.795215Z",
     "iopub.status.busy": "2023-01-02T00:48:15.794724Z",
     "iopub.status.idle": "2023-01-02T00:48:15.804294Z",
     "shell.execute_reply": "2023-01-02T00:48:15.803058Z"
    },
    "papermill": {
     "duration": 0.031311,
     "end_time": "2023-01-02T00:48:15.807351",
     "exception": false,
     "start_time": "2023-01-02T00:48:15.776040",
     "status": "completed"
    },
    "tags": []
   },
   "outputs": [
    {
     "data": {
      "text/plain": [
       "S    644\n",
       "C    168\n",
       "Q     77\n",
       "Name: Embarked, dtype: int64"
      ]
     },
     "execution_count": 18,
     "metadata": {},
     "output_type": "execute_result"
    }
   ],
   "source": [
    "train_df['Embarked'].value_counts()"
   ]
  },
  {
   "cell_type": "markdown",
   "id": "52b658c7",
   "metadata": {
    "papermill": {
     "duration": 0.018266,
     "end_time": "2023-01-02T00:48:15.846524",
     "exception": false,
     "start_time": "2023-01-02T00:48:15.828258",
     "status": "completed"
    },
    "tags": []
   },
   "source": [
    "Considering the missing values in \"Embarked\", the fact that to use \"KNNImputer\" we have to convert the categorical values, and the fact that to use \"OneHotEncoder\" we should not have np.nan values:\n",
    "We implement the procedure explained in https://stackoverflow.com/questions/62868129/cyclical-loop-between-onehotencoder-and-knnimpute-in-scikit-learn:\n",
    "\n",
    "* Fill categorical missings with pandas or SimpleImputer with the string \"missing\".\n",
    "* Use OneHotEncoder then.\n",
    "* Use the one-hot encoder's get_feature_names to identify the columns corresponding to each original feature, and in particular the \"missing\" indicator.\n",
    "* For each row and each original categorical feature, when the 1 is in the \"missing\" column, replace the 0's with np.nan; then delete the missing indicator column.\n",
    "* Now everything should be set up to run KNNImputer.\n",
    "* Finally, if desired, postprocess the imputed categorical-encoding columns. (Simply rounding might get you an all-zeros row for a categorical feature, but I don't think with KNNImputer you could get more than one 1 in a row. You could argmax instead to get back exactly one 1.)"
   ]
  },
  {
   "cell_type": "markdown",
   "id": "6d98ca2b",
   "metadata": {
    "papermill": {
     "duration": 0.016992,
     "end_time": "2023-01-02T00:48:15.881403",
     "exception": false,
     "start_time": "2023-01-02T00:48:15.864411",
     "status": "completed"
    },
    "tags": []
   },
   "source": [
    "First, we replace the mising values of 'Embarked' with 'Missing'."
   ]
  },
  {
   "cell_type": "code",
   "execution_count": 19,
   "id": "1c8f9b37",
   "metadata": {
    "execution": {
     "iopub.execute_input": "2023-01-02T00:48:15.918333Z",
     "iopub.status.busy": "2023-01-02T00:48:15.917565Z",
     "iopub.status.idle": "2023-01-02T00:48:15.931027Z",
     "shell.execute_reply": "2023-01-02T00:48:15.930151Z"
    },
    "papermill": {
     "duration": 0.0345,
     "end_time": "2023-01-02T00:48:15.933242",
     "exception": false,
     "start_time": "2023-01-02T00:48:15.898742",
     "status": "completed"
    },
    "tags": []
   },
   "outputs": [
    {
     "data": {
      "text/plain": [
       "Embarked    0\n",
       "dtype: int64"
      ]
     },
     "execution_count": 19,
     "metadata": {},
     "output_type": "execute_result"
    }
   ],
   "source": [
    "sim_imp = SimpleImputer(missing_values=np.nan, strategy='constant',fill_value='Missing')\n",
    "train_df['Embarked'] = sim_imp.fit_transform(train_df[['Embarked']])\n",
    "train_df[['Embarked']].isna().sum()"
   ]
  },
  {
   "cell_type": "markdown",
   "id": "0f97e64b",
   "metadata": {
    "papermill": {
     "duration": 0.01692,
     "end_time": "2023-01-02T00:48:15.967643",
     "exception": false,
     "start_time": "2023-01-02T00:48:15.950723",
     "status": "completed"
    },
    "tags": []
   },
   "source": [
    "Then, we apply 'OneHotEncoder' to the dataset."
   ]
  },
  {
   "cell_type": "code",
   "execution_count": 20,
   "id": "fb433eb5",
   "metadata": {
    "execution": {
     "iopub.execute_input": "2023-01-02T00:48:16.004796Z",
     "iopub.status.busy": "2023-01-02T00:48:16.004004Z",
     "iopub.status.idle": "2023-01-02T00:48:16.015399Z",
     "shell.execute_reply": "2023-01-02T00:48:16.013914Z"
    },
    "papermill": {
     "duration": 0.033376,
     "end_time": "2023-01-02T00:48:16.018313",
     "exception": false,
     "start_time": "2023-01-02T00:48:15.984937",
     "status": "completed"
    },
    "tags": []
   },
   "outputs": [],
   "source": [
    "enc = OneHotEncoder(handle_unknown='ignore')\n",
    "enc.fit(train_df[['Embarked']])\n",
    "embarked_train_df = pd.DataFrame(enc.transform(train_df[['Embarked']]).toarray())\n",
    "embarked_test_df = pd.DataFrame(enc.transform(test_df[['Embarked']]).toarray())"
   ]
  },
  {
   "cell_type": "code",
   "execution_count": 21,
   "id": "6d100943",
   "metadata": {
    "execution": {
     "iopub.execute_input": "2023-01-02T00:48:16.056700Z",
     "iopub.status.busy": "2023-01-02T00:48:16.055319Z",
     "iopub.status.idle": "2023-01-02T00:48:16.068155Z",
     "shell.execute_reply": "2023-01-02T00:48:16.066806Z"
    },
    "papermill": {
     "duration": 0.034636,
     "end_time": "2023-01-02T00:48:16.070785",
     "exception": false,
     "start_time": "2023-01-02T00:48:16.036149",
     "status": "completed"
    },
    "tags": []
   },
   "outputs": [
    {
     "data": {
      "text/plain": [
       "0.0    889\n",
       "1.0      2\n",
       "Name: 1, dtype: int64"
      ]
     },
     "execution_count": 21,
     "metadata": {},
     "output_type": "execute_result"
    }
   ],
   "source": [
    "embarked_train_df[1].value_counts()"
   ]
  },
  {
   "cell_type": "markdown",
   "id": "7aed748f",
   "metadata": {
    "papermill": {
     "duration": 0.017406,
     "end_time": "2023-01-02T00:48:16.106064",
     "exception": false,
     "start_time": "2023-01-02T00:48:16.088658",
     "status": "completed"
    },
    "tags": []
   },
   "source": [
    "So, the second column represents the 'Missing' values. For each row where this variable is 1, the other varaibels of 'embarked_df' have to be np.nan. "
   ]
  },
  {
   "cell_type": "code",
   "execution_count": 22,
   "id": "eb0a9921",
   "metadata": {
    "execution": {
     "iopub.execute_input": "2023-01-02T00:48:16.144773Z",
     "iopub.status.busy": "2023-01-02T00:48:16.143974Z",
     "iopub.status.idle": "2023-01-02T00:48:16.154590Z",
     "shell.execute_reply": "2023-01-02T00:48:16.153109Z"
    },
    "papermill": {
     "duration": 0.033299,
     "end_time": "2023-01-02T00:48:16.157198",
     "exception": false,
     "start_time": "2023-01-02T00:48:16.123899",
     "status": "completed"
    },
    "tags": []
   },
   "outputs": [
    {
     "data": {
      "text/plain": [
       "0    0\n",
       "1    0\n",
       "2    0\n",
       "3    0\n",
       "dtype: int64"
      ]
     },
     "execution_count": 22,
     "metadata": {},
     "output_type": "execute_result"
    }
   ],
   "source": [
    "embarked_train_df.isna().sum()"
   ]
  },
  {
   "cell_type": "code",
   "execution_count": 23,
   "id": "b9bb1cd8",
   "metadata": {
    "execution": {
     "iopub.execute_input": "2023-01-02T00:48:16.195475Z",
     "iopub.status.busy": "2023-01-02T00:48:16.195034Z",
     "iopub.status.idle": "2023-01-02T00:48:16.206360Z",
     "shell.execute_reply": "2023-01-02T00:48:16.204928Z"
    },
    "papermill": {
     "duration": 0.033455,
     "end_time": "2023-01-02T00:48:16.209317",
     "exception": false,
     "start_time": "2023-01-02T00:48:16.175862",
     "status": "completed"
    },
    "tags": []
   },
   "outputs": [
    {
     "data": {
      "text/plain": [
       "0    2\n",
       "1    2\n",
       "2    2\n",
       "3    2\n",
       "dtype: int64"
      ]
     },
     "execution_count": 23,
     "metadata": {},
     "output_type": "execute_result"
    }
   ],
   "source": [
    "embarked_train_df[embarked_train_df[1] == 1] = np.nan\n",
    "embarked_train_df.isna().sum()"
   ]
  },
  {
   "cell_type": "markdown",
   "id": "a421eb6e",
   "metadata": {
    "papermill": {
     "duration": 0.018069,
     "end_time": "2023-01-02T00:48:16.245604",
     "exception": false,
     "start_time": "2023-01-02T00:48:16.227535",
     "status": "completed"
    },
    "tags": []
   },
   "source": [
    "Now, we can integrate the other columns of 'embarked_df' (except the second column) into 'train_df'."
   ]
  },
  {
   "cell_type": "code",
   "execution_count": 24,
   "id": "0967c774",
   "metadata": {
    "execution": {
     "iopub.execute_input": "2023-01-02T00:48:16.283211Z",
     "iopub.status.busy": "2023-01-02T00:48:16.282771Z",
     "iopub.status.idle": "2023-01-02T00:48:16.299456Z",
     "shell.execute_reply": "2023-01-02T00:48:16.298591Z"
    },
    "papermill": {
     "duration": 0.038757,
     "end_time": "2023-01-02T00:48:16.302117",
     "exception": false,
     "start_time": "2023-01-02T00:48:16.263360",
     "status": "completed"
    },
    "tags": []
   },
   "outputs": [],
   "source": [
    "train_df[['em1','em2','em3']] = embarked_train_df[[0,2,3]].copy()\n",
    "test_df[['em1','em2','em3']] = embarked_test_df[[0,2,3]].copy()\n",
    "\n",
    "train_df.drop(columns=['Embarked'], inplace=True)\n",
    "test_df.drop(columns=['Embarked'], inplace=True)"
   ]
  },
  {
   "cell_type": "code",
   "execution_count": 25,
   "id": "81990a64",
   "metadata": {
    "execution": {
     "iopub.execute_input": "2023-01-02T00:48:16.343558Z",
     "iopub.status.busy": "2023-01-02T00:48:16.342373Z",
     "iopub.status.idle": "2023-01-02T00:48:16.352203Z",
     "shell.execute_reply": "2023-01-02T00:48:16.351250Z"
    },
    "papermill": {
     "duration": 0.032523,
     "end_time": "2023-01-02T00:48:16.354547",
     "exception": false,
     "start_time": "2023-01-02T00:48:16.322024",
     "status": "completed"
    },
    "tags": []
   },
   "outputs": [
    {
     "data": {
      "text/plain": [
       "Survived      0\n",
       "Sex           0\n",
       "Age         177\n",
       "SibSp         0\n",
       "Parch         0\n",
       "Fare          0\n",
       "Pc1           0\n",
       "Pc2           0\n",
       "Pc3           0\n",
       "em1           2\n",
       "em2           2\n",
       "em3           2\n",
       "dtype: int64"
      ]
     },
     "execution_count": 25,
     "metadata": {},
     "output_type": "execute_result"
    }
   ],
   "source": [
    "train_df.isna().sum()"
   ]
  },
  {
   "cell_type": "code",
   "execution_count": 26,
   "id": "44e0f799",
   "metadata": {
    "execution": {
     "iopub.execute_input": "2023-01-02T00:48:16.392814Z",
     "iopub.status.busy": "2023-01-02T00:48:16.391883Z",
     "iopub.status.idle": "2023-01-02T00:48:16.401861Z",
     "shell.execute_reply": "2023-01-02T00:48:16.400715Z"
    },
    "papermill": {
     "duration": 0.031766,
     "end_time": "2023-01-02T00:48:16.404218",
     "exception": false,
     "start_time": "2023-01-02T00:48:16.372452",
     "status": "completed"
    },
    "tags": []
   },
   "outputs": [
    {
     "data": {
      "text/plain": [
       "Sex       0\n",
       "Age      86\n",
       "SibSp     0\n",
       "Parch     0\n",
       "Fare      1\n",
       "Pc1       0\n",
       "Pc2       0\n",
       "Pc3       0\n",
       "em1       0\n",
       "em2       0\n",
       "em3       0\n",
       "dtype: int64"
      ]
     },
     "execution_count": 26,
     "metadata": {},
     "output_type": "execute_result"
    }
   ],
   "source": [
    "test_df.isna().sum()"
   ]
  },
  {
   "cell_type": "markdown",
   "id": "7345b4fd",
   "metadata": {
    "papermill": {
     "duration": 0.018657,
     "end_time": "2023-01-02T00:48:16.441944",
     "exception": false,
     "start_time": "2023-01-02T00:48:16.423287",
     "status": "completed"
    },
    "tags": []
   },
   "source": [
    "## 2.3. Data Imputation\n",
    "Now, we can apply 'KNNImputer' to the datasets. Both train and test sets have similar features in similar order, except for the feature 'Survived'."
   ]
  },
  {
   "cell_type": "code",
   "execution_count": 27,
   "id": "7b0c5947",
   "metadata": {
    "execution": {
     "iopub.execute_input": "2023-01-02T00:48:16.480265Z",
     "iopub.status.busy": "2023-01-02T00:48:16.479791Z",
     "iopub.status.idle": "2023-01-02T00:48:16.545581Z",
     "shell.execute_reply": "2023-01-02T00:48:16.543877Z"
    },
    "papermill": {
     "duration": 0.089635,
     "end_time": "2023-01-02T00:48:16.550259",
     "exception": false,
     "start_time": "2023-01-02T00:48:16.460624",
     "status": "completed"
    },
    "tags": []
   },
   "outputs": [],
   "source": [
    "col_exc = ['Survived']\n",
    "imputer = KNNImputer(n_neighbors=10)\n",
    "imputer.fit(train_df.drop(columns=col_exc))\n",
    "train_imp = pd.DataFrame(imputer.transform(train_df.drop(columns=col_exc)), columns=test_df.columns)\n",
    "test_imp = pd.DataFrame(imputer.transform(test_df), columns=test_df.columns)\n",
    "\n",
    "# adding 'Survived' to the train set\n",
    "train_imp = train_imp.join(train_df[['Survived']])"
   ]
  },
  {
   "cell_type": "markdown",
   "id": "664583dd",
   "metadata": {
    "papermill": {
     "duration": 0.047093,
     "end_time": "2023-01-02T00:48:16.644617",
     "exception": false,
     "start_time": "2023-01-02T00:48:16.597524",
     "status": "completed"
    },
    "tags": []
   },
   "source": [
    "----------------\n",
    "------------------\n",
    "-----------------\n",
    "# 3. Data Analysis"
   ]
  },
  {
   "cell_type": "markdown",
   "id": "80049194",
   "metadata": {
    "papermill": {
     "duration": 0.017519,
     "end_time": "2023-01-02T00:48:16.683252",
     "exception": false,
     "start_time": "2023-01-02T00:48:16.665733",
     "status": "completed"
    },
    "tags": []
   },
   "source": [
    "What percentage of the passengers survived?"
   ]
  },
  {
   "cell_type": "code",
   "execution_count": 28,
   "id": "c6274333",
   "metadata": {
    "execution": {
     "iopub.execute_input": "2023-01-02T00:48:16.721584Z",
     "iopub.status.busy": "2023-01-02T00:48:16.720528Z",
     "iopub.status.idle": "2023-01-02T00:48:16.730374Z",
     "shell.execute_reply": "2023-01-02T00:48:16.728970Z"
    },
    "papermill": {
     "duration": 0.031506,
     "end_time": "2023-01-02T00:48:16.732817",
     "exception": false,
     "start_time": "2023-01-02T00:48:16.701311",
     "status": "completed"
    },
    "tags": []
   },
   "outputs": [
    {
     "data": {
      "text/plain": [
       "0    0.616162\n",
       "1    0.383838\n",
       "Name: Survived, dtype: float64"
      ]
     },
     "execution_count": 28,
     "metadata": {},
     "output_type": "execute_result"
    }
   ],
   "source": [
    "train_imp['Survived'].value_counts()/len(train_imp)"
   ]
  },
  {
   "cell_type": "markdown",
   "id": "62b798ae",
   "metadata": {
    "papermill": {
     "duration": 0.017898,
     "end_time": "2023-01-02T00:48:16.769249",
     "exception": false,
     "start_time": "2023-01-02T00:48:16.751351",
     "status": "completed"
    },
    "tags": []
   },
   "source": [
    "Taking a look at the correlations:"
   ]
  },
  {
   "cell_type": "code",
   "execution_count": 29,
   "id": "5b5f9038",
   "metadata": {
    "execution": {
     "iopub.execute_input": "2023-01-02T00:48:16.808148Z",
     "iopub.status.busy": "2023-01-02T00:48:16.806920Z",
     "iopub.status.idle": "2023-01-02T00:48:17.588992Z",
     "shell.execute_reply": "2023-01-02T00:48:17.587795Z"
    },
    "papermill": {
     "duration": 0.804749,
     "end_time": "2023-01-02T00:48:17.592101",
     "exception": false,
     "start_time": "2023-01-02T00:48:16.787352",
     "status": "completed"
    },
    "tags": []
   },
   "outputs": [
    {
     "data": {
      "text/plain": [
       "Text(0.5, 1.0, 'Correlation Heatmap in Train Set')"
      ]
     },
     "execution_count": 29,
     "metadata": {},
     "output_type": "execute_result"
    },
    {
     "data": {
      "image/png": "[encoded data removed]",
      "text/plain": [
       "<Figure size 864x576 with 2 Axes>"
      ]
     },
     "metadata": {
      "needs_background": "light"
     },
     "output_type": "display_data"
    }
   ],
   "source": [
    "plt.figure(figsize=(12,8))\n",
    "# define the mask to set the values in the upper triangle to True\n",
    "mask = np.triu(np.ones_like(train_imp.corr(), dtype=bool))\n",
    "heatmap = sns.heatmap(train_imp.corr(), mask=mask, vmin=-1, vmax=1, annot=True, cmap='BrBG')\n",
    "heatmap.set_title('Correlation Heatmap in Train Set', fontdict={'fontsize':18})"
   ]
  },
  {
   "cell_type": "markdown",
   "id": "343e42ae",
   "metadata": {
    "papermill": {
     "duration": 0.01873,
     "end_time": "2023-01-02T00:48:17.630367",
     "exception": false,
     "start_time": "2023-01-02T00:48:17.611637",
     "status": "completed"
    },
    "tags": []
   },
   "source": [
    "What percentage of men (0) and women (1) survived?"
   ]
  },
  {
   "cell_type": "code",
   "execution_count": 30,
   "id": "79baf55d",
   "metadata": {
    "execution": {
     "iopub.execute_input": "2023-01-02T00:48:17.671366Z",
     "iopub.status.busy": "2023-01-02T00:48:17.670719Z",
     "iopub.status.idle": "2023-01-02T00:48:17.693305Z",
     "shell.execute_reply": "2023-01-02T00:48:17.691885Z"
    },
    "papermill": {
     "duration": 0.046624,
     "end_time": "2023-01-02T00:48:17.696109",
     "exception": false,
     "start_time": "2023-01-02T00:48:17.649485",
     "status": "completed"
    },
    "tags": []
   },
   "outputs": [
    {
     "data": {
      "text/html": [
       "<div>\n",
       "<style scoped>\n",
       "    .dataframe tbody tr th:only-of-type {\n",
       "        vertical-align: middle;\n",
       "    }\n",
       "\n",
       "    .dataframe tbody tr th {\n",
       "        vertical-align: top;\n",
       "    }\n",
       "\n",
       "    .dataframe thead th {\n",
       "        text-align: right;\n",
       "    }\n",
       "</style>\n",
       "<table border=\"1\" class=\"dataframe\">\n",
       "  <thead>\n",
       "    <tr style=\"text-align: right;\">\n",
       "      <th></th>\n",
       "      <th>Sex</th>\n",
       "      <th>Survived</th>\n",
       "      <th>Percentage_from_all</th>\n",
       "    </tr>\n",
       "  </thead>\n",
       "  <tbody>\n",
       "    <tr>\n",
       "      <th>0</th>\n",
       "      <td>0.0</td>\n",
       "      <td>0.188908</td>\n",
       "      <td>0.647587</td>\n",
       "    </tr>\n",
       "    <tr>\n",
       "      <th>1</th>\n",
       "      <td>1.0</td>\n",
       "      <td>0.742038</td>\n",
       "      <td>0.352413</td>\n",
       "    </tr>\n",
       "  </tbody>\n",
       "</table>\n",
       "</div>"
      ],
      "text/plain": [
       "   Sex  Survived  Percentage_from_all\n",
       "0  0.0  0.188908             0.647587\n",
       "1  1.0  0.742038             0.352413"
      ]
     },
     "execution_count": 30,
     "metadata": {},
     "output_type": "execute_result"
    }
   ],
   "source": [
    "a = train_imp[['Sex','Survived']].groupby(['Sex'], as_index=False).mean()\n",
    "a['Percentage_from_all'] = [train_imp[train_imp['Sex']==a.loc[0,'Sex']].shape[0]/len(train_imp),\n",
    "                            train_imp[train_imp['Sex']==a.loc[1,'Sex']].shape[0]/len(train_imp)]\n",
    "a"
   ]
  },
  {
   "cell_type": "markdown",
   "id": "cd27b336",
   "metadata": {
    "papermill": {
     "duration": 0.020018,
     "end_time": "2023-01-02T00:48:17.738942",
     "exception": false,
     "start_time": "2023-01-02T00:48:17.718924",
     "status": "completed"
    },
    "tags": []
   },
   "source": [
    "What is the relation between the number of sibling/spouse and survival?"
   ]
  },
  {
   "cell_type": "code",
   "execution_count": 31,
   "id": "c629a056",
   "metadata": {
    "execution": {
     "iopub.execute_input": "2023-01-02T00:48:17.781407Z",
     "iopub.status.busy": "2023-01-02T00:48:17.780238Z",
     "iopub.status.idle": "2023-01-02T00:48:17.804527Z",
     "shell.execute_reply": "2023-01-02T00:48:17.803660Z"
    },
    "papermill": {
     "duration": 0.047836,
     "end_time": "2023-01-02T00:48:17.806770",
     "exception": false,
     "start_time": "2023-01-02T00:48:17.758934",
     "status": "completed"
    },
    "tags": []
   },
   "outputs": [
    {
     "data": {
      "text/html": [
       "<div>\n",
       "<style scoped>\n",
       "    .dataframe tbody tr th:only-of-type {\n",
       "        vertical-align: middle;\n",
       "    }\n",
       "\n",
       "    .dataframe tbody tr th {\n",
       "        vertical-align: top;\n",
       "    }\n",
       "\n",
       "    .dataframe thead th {\n",
       "        text-align: right;\n",
       "    }\n",
       "</style>\n",
       "<table border=\"1\" class=\"dataframe\">\n",
       "  <thead>\n",
       "    <tr style=\"text-align: right;\">\n",
       "      <th></th>\n",
       "      <th>SibSp</th>\n",
       "      <th>Survived</th>\n",
       "      <th>Percentage_from_all</th>\n",
       "    </tr>\n",
       "  </thead>\n",
       "  <tbody>\n",
       "    <tr>\n",
       "      <th>0</th>\n",
       "      <td>0.0</td>\n",
       "      <td>0.345395</td>\n",
       "      <td>0.682379</td>\n",
       "    </tr>\n",
       "    <tr>\n",
       "      <th>1</th>\n",
       "      <td>1.0</td>\n",
       "      <td>0.535885</td>\n",
       "      <td>0.234568</td>\n",
       "    </tr>\n",
       "    <tr>\n",
       "      <th>2</th>\n",
       "      <td>2.0</td>\n",
       "      <td>0.464286</td>\n",
       "      <td>0.031425</td>\n",
       "    </tr>\n",
       "    <tr>\n",
       "      <th>3</th>\n",
       "      <td>3.0</td>\n",
       "      <td>0.250000</td>\n",
       "      <td>0.017957</td>\n",
       "    </tr>\n",
       "    <tr>\n",
       "      <th>4</th>\n",
       "      <td>4.0</td>\n",
       "      <td>0.166667</td>\n",
       "      <td>0.020202</td>\n",
       "    </tr>\n",
       "    <tr>\n",
       "      <th>5</th>\n",
       "      <td>5.0</td>\n",
       "      <td>0.000000</td>\n",
       "      <td>0.005612</td>\n",
       "    </tr>\n",
       "    <tr>\n",
       "      <th>6</th>\n",
       "      <td>8.0</td>\n",
       "      <td>0.000000</td>\n",
       "      <td>0.007856</td>\n",
       "    </tr>\n",
       "  </tbody>\n",
       "</table>\n",
       "</div>"
      ],
      "text/plain": [
       "   SibSp  Survived  Percentage_from_all\n",
       "0    0.0  0.345395             0.682379\n",
       "1    1.0  0.535885             0.234568\n",
       "2    2.0  0.464286             0.031425\n",
       "3    3.0  0.250000             0.017957\n",
       "4    4.0  0.166667             0.020202\n",
       "5    5.0  0.000000             0.005612\n",
       "6    8.0  0.000000             0.007856"
      ]
     },
     "execution_count": 31,
     "metadata": {},
     "output_type": "execute_result"
    }
   ],
   "source": [
    "a = train_imp[['SibSp','Survived']].groupby(['SibSp'], as_index=False).mean()\n",
    "a['Percentage_from_all'] = [train_imp[train_imp['SibSp']==a.loc[0,'SibSp']].shape[0]/len(train_imp),\n",
    "                            train_imp[train_imp['SibSp']==a.loc[1,'SibSp']].shape[0]/len(train_imp),\n",
    "                            train_imp[train_imp['SibSp']==a.loc[2,'SibSp']].shape[0]/len(train_imp),\n",
    "                            train_imp[train_imp['SibSp']==a.loc[3,'SibSp']].shape[0]/len(train_imp),\n",
    "                            train_imp[train_imp['SibSp']==a.loc[4,'SibSp']].shape[0]/len(train_imp),\n",
    "                            train_imp[train_imp['SibSp']==a.loc[5,'SibSp']].shape[0]/len(train_imp),\n",
    "                            train_imp[train_imp['SibSp']==a.loc[6,'SibSp']].shape[0]/len(train_imp)]\n",
    "a"
   ]
  },
  {
   "cell_type": "markdown",
   "id": "5857550c",
   "metadata": {
    "papermill": {
     "duration": 0.019004,
     "end_time": "2023-01-02T00:48:17.845208",
     "exception": false,
     "start_time": "2023-01-02T00:48:17.826204",
     "status": "completed"
    },
    "tags": []
   },
   "source": [
    "What is the relation between the number of parents/children and survival?"
   ]
  },
  {
   "cell_type": "code",
   "execution_count": 32,
   "id": "54f4f227",
   "metadata": {
    "execution": {
     "iopub.execute_input": "2023-01-02T00:48:17.886385Z",
     "iopub.status.busy": "2023-01-02T00:48:17.885329Z",
     "iopub.status.idle": "2023-01-02T00:48:17.910504Z",
     "shell.execute_reply": "2023-01-02T00:48:17.909306Z"
    },
    "papermill": {
     "duration": 0.04836,
     "end_time": "2023-01-02T00:48:17.912930",
     "exception": false,
     "start_time": "2023-01-02T00:48:17.864570",
     "status": "completed"
    },
    "tags": []
   },
   "outputs": [
    {
     "data": {
      "text/html": [
       "<div>\n",
       "<style scoped>\n",
       "    .dataframe tbody tr th:only-of-type {\n",
       "        vertical-align: middle;\n",
       "    }\n",
       "\n",
       "    .dataframe tbody tr th {\n",
       "        vertical-align: top;\n",
       "    }\n",
       "\n",
       "    .dataframe thead th {\n",
       "        text-align: right;\n",
       "    }\n",
       "</style>\n",
       "<table border=\"1\" class=\"dataframe\">\n",
       "  <thead>\n",
       "    <tr style=\"text-align: right;\">\n",
       "      <th></th>\n",
       "      <th>Parch</th>\n",
       "      <th>Survived</th>\n",
       "      <th>Percentage_from_all</th>\n",
       "    </tr>\n",
       "  </thead>\n",
       "  <tbody>\n",
       "    <tr>\n",
       "      <th>0</th>\n",
       "      <td>0.0</td>\n",
       "      <td>0.343658</td>\n",
       "      <td>0.760943</td>\n",
       "    </tr>\n",
       "    <tr>\n",
       "      <th>1</th>\n",
       "      <td>1.0</td>\n",
       "      <td>0.550847</td>\n",
       "      <td>0.132435</td>\n",
       "    </tr>\n",
       "    <tr>\n",
       "      <th>2</th>\n",
       "      <td>2.0</td>\n",
       "      <td>0.500000</td>\n",
       "      <td>0.089787</td>\n",
       "    </tr>\n",
       "    <tr>\n",
       "      <th>3</th>\n",
       "      <td>3.0</td>\n",
       "      <td>0.600000</td>\n",
       "      <td>0.005612</td>\n",
       "    </tr>\n",
       "    <tr>\n",
       "      <th>4</th>\n",
       "      <td>4.0</td>\n",
       "      <td>0.000000</td>\n",
       "      <td>0.004489</td>\n",
       "    </tr>\n",
       "    <tr>\n",
       "      <th>5</th>\n",
       "      <td>5.0</td>\n",
       "      <td>0.200000</td>\n",
       "      <td>0.005612</td>\n",
       "    </tr>\n",
       "    <tr>\n",
       "      <th>6</th>\n",
       "      <td>6.0</td>\n",
       "      <td>0.000000</td>\n",
       "      <td>0.001122</td>\n",
       "    </tr>\n",
       "  </tbody>\n",
       "</table>\n",
       "</div>"
      ],
      "text/plain": [
       "   Parch  Survived  Percentage_from_all\n",
       "0    0.0  0.343658             0.760943\n",
       "1    1.0  0.550847             0.132435\n",
       "2    2.0  0.500000             0.089787\n",
       "3    3.0  0.600000             0.005612\n",
       "4    4.0  0.000000             0.004489\n",
       "5    5.0  0.200000             0.005612\n",
       "6    6.0  0.000000             0.001122"
      ]
     },
     "execution_count": 32,
     "metadata": {},
     "output_type": "execute_result"
    }
   ],
   "source": [
    "a = train_imp[['Parch','Survived']].groupby(['Parch'], as_index=False).mean()\n",
    "a['Percentage_from_all'] = [train_imp[train_imp['Parch']==a.loc[0,'Parch']].shape[0]/len(train_imp),\n",
    "                            train_imp[train_imp['Parch']==a.loc[1,'Parch']].shape[0]/len(train_imp),\n",
    "                            train_imp[train_imp['Parch']==a.loc[2,'Parch']].shape[0]/len(train_imp),\n",
    "                            train_imp[train_imp['Parch']==a.loc[3,'Parch']].shape[0]/len(train_imp),\n",
    "                            train_imp[train_imp['Parch']==a.loc[4,'Parch']].shape[0]/len(train_imp),\n",
    "                            train_imp[train_imp['Parch']==a.loc[5,'Parch']].shape[0]/len(train_imp),\n",
    "                            train_imp[train_imp['Parch']==a.loc[6,'Parch']].shape[0]/len(train_imp)]\n",
    "a"
   ]
  },
  {
   "cell_type": "markdown",
   "id": "a19bec60",
   "metadata": {
    "papermill": {
     "duration": 0.020458,
     "end_time": "2023-01-02T00:48:17.953580",
     "exception": false,
     "start_time": "2023-01-02T00:48:17.933122",
     "status": "completed"
    },
    "tags": []
   },
   "source": [
    "What is the relation between the ticket class and survival?"
   ]
  },
  {
   "cell_type": "code",
   "execution_count": 33,
   "id": "f92718e5",
   "metadata": {
    "execution": {
     "iopub.execute_input": "2023-01-02T00:48:17.996774Z",
     "iopub.status.busy": "2023-01-02T00:48:17.996080Z",
     "iopub.status.idle": "2023-01-02T00:48:18.014195Z",
     "shell.execute_reply": "2023-01-02T00:48:18.012965Z"
    },
    "papermill": {
     "duration": 0.042354,
     "end_time": "2023-01-02T00:48:18.016684",
     "exception": false,
     "start_time": "2023-01-02T00:48:17.974330",
     "status": "completed"
    },
    "tags": []
   },
   "outputs": [
    {
     "data": {
      "text/html": [
       "<div>\n",
       "<style scoped>\n",
       "    .dataframe tbody tr th:only-of-type {\n",
       "        vertical-align: middle;\n",
       "    }\n",
       "\n",
       "    .dataframe tbody tr th {\n",
       "        vertical-align: top;\n",
       "    }\n",
       "\n",
       "    .dataframe thead th {\n",
       "        text-align: right;\n",
       "    }\n",
       "</style>\n",
       "<table border=\"1\" class=\"dataframe\">\n",
       "  <thead>\n",
       "    <tr style=\"text-align: right;\">\n",
       "      <th></th>\n",
       "      <th>Pclass</th>\n",
       "      <th>Survived</th>\n",
       "      <th>Percentage_from_all</th>\n",
       "    </tr>\n",
       "  </thead>\n",
       "  <tbody>\n",
       "    <tr>\n",
       "      <th>0</th>\n",
       "      <td>1</td>\n",
       "      <td>0.629630</td>\n",
       "      <td>0.242424</td>\n",
       "    </tr>\n",
       "    <tr>\n",
       "      <th>1</th>\n",
       "      <td>2</td>\n",
       "      <td>0.472826</td>\n",
       "      <td>0.206510</td>\n",
       "    </tr>\n",
       "    <tr>\n",
       "      <th>2</th>\n",
       "      <td>3</td>\n",
       "      <td>0.242363</td>\n",
       "      <td>0.551066</td>\n",
       "    </tr>\n",
       "  </tbody>\n",
       "</table>\n",
       "</div>"
      ],
      "text/plain": [
       "   Pclass  Survived  Percentage_from_all\n",
       "0       1  0.629630             0.242424\n",
       "1       2  0.472826             0.206510\n",
       "2       3  0.242363             0.551066"
      ]
     },
     "execution_count": 33,
     "metadata": {},
     "output_type": "execute_result"
    }
   ],
   "source": [
    "a = train_data[['Pclass','Survived']].groupby(['Pclass'], as_index=False).mean()\n",
    "a['Percentage_from_all'] = [train_data[train_data['Pclass']==a.loc[0,'Pclass']].shape[0]/len(train_data),\n",
    "                            train_data[train_data['Pclass']==a.loc[1,'Pclass']].shape[0]/len(train_data),\n",
    "                            train_data[train_data['Pclass']==a.loc[2,'Pclass']].shape[0]/len(train_data)]\n",
    "a"
   ]
  },
  {
   "cell_type": "markdown",
   "id": "a4d81a6c",
   "metadata": {
    "papermill": {
     "duration": 0.019836,
     "end_time": "2023-01-02T00:48:18.056966",
     "exception": false,
     "start_time": "2023-01-02T00:48:18.037130",
     "status": "completed"
    },
    "tags": []
   },
   "source": [
    "What is the relation between the port of embarkation and survival?"
   ]
  },
  {
   "cell_type": "code",
   "execution_count": 34,
   "id": "a9b3655f",
   "metadata": {
    "execution": {
     "iopub.execute_input": "2023-01-02T00:48:18.099318Z",
     "iopub.status.busy": "2023-01-02T00:48:18.098577Z",
     "iopub.status.idle": "2023-01-02T00:48:18.117402Z",
     "shell.execute_reply": "2023-01-02T00:48:18.116267Z"
    },
    "papermill": {
     "duration": 0.043033,
     "end_time": "2023-01-02T00:48:18.120008",
     "exception": false,
     "start_time": "2023-01-02T00:48:18.076975",
     "status": "completed"
    },
    "tags": []
   },
   "outputs": [
    {
     "data": {
      "text/html": [
       "<div>\n",
       "<style scoped>\n",
       "    .dataframe tbody tr th:only-of-type {\n",
       "        vertical-align: middle;\n",
       "    }\n",
       "\n",
       "    .dataframe tbody tr th {\n",
       "        vertical-align: top;\n",
       "    }\n",
       "\n",
       "    .dataframe thead th {\n",
       "        text-align: right;\n",
       "    }\n",
       "</style>\n",
       "<table border=\"1\" class=\"dataframe\">\n",
       "  <thead>\n",
       "    <tr style=\"text-align: right;\">\n",
       "      <th></th>\n",
       "      <th>Embarked</th>\n",
       "      <th>Survived</th>\n",
       "      <th>Percentage_from_all</th>\n",
       "    </tr>\n",
       "  </thead>\n",
       "  <tbody>\n",
       "    <tr>\n",
       "      <th>0</th>\n",
       "      <td>C</td>\n",
       "      <td>0.553571</td>\n",
       "      <td>0.188552</td>\n",
       "    </tr>\n",
       "    <tr>\n",
       "      <th>1</th>\n",
       "      <td>Q</td>\n",
       "      <td>0.389610</td>\n",
       "      <td>0.086420</td>\n",
       "    </tr>\n",
       "    <tr>\n",
       "      <th>2</th>\n",
       "      <td>S</td>\n",
       "      <td>0.336957</td>\n",
       "      <td>0.722783</td>\n",
       "    </tr>\n",
       "  </tbody>\n",
       "</table>\n",
       "</div>"
      ],
      "text/plain": [
       "  Embarked  Survived  Percentage_from_all\n",
       "0        C  0.553571             0.188552\n",
       "1        Q  0.389610             0.086420\n",
       "2        S  0.336957             0.722783"
      ]
     },
     "execution_count": 34,
     "metadata": {},
     "output_type": "execute_result"
    }
   ],
   "source": [
    "a = train_data[['Embarked','Survived']].groupby(['Embarked'], as_index=False).mean()\n",
    "a['Percentage_from_all'] = [train_data[train_data['Embarked']==a.loc[0,'Embarked']].shape[0]/len(train_data),\n",
    "                            train_data[train_data['Embarked']==a.loc[1,'Embarked']].shape[0]/len(train_data),\n",
    "                            train_data[train_data['Embarked']==a.loc[2,'Embarked']].shape[0]/len(train_data)]\n",
    "a"
   ]
  },
  {
   "cell_type": "markdown",
   "id": "9b286557",
   "metadata": {
    "papermill": {
     "duration": 0.020288,
     "end_time": "2023-01-02T00:48:18.161212",
     "exception": false,
     "start_time": "2023-01-02T00:48:18.140924",
     "status": "completed"
    },
    "tags": []
   },
   "source": [
    "How the fare paid by the passengers relate to their survival?"
   ]
  },
  {
   "cell_type": "code",
   "execution_count": 35,
   "id": "d6bf72f6",
   "metadata": {
    "execution": {
     "iopub.execute_input": "2023-01-02T00:48:18.205318Z",
     "iopub.status.busy": "2023-01-02T00:48:18.204882Z",
     "iopub.status.idle": "2023-01-02T00:48:18.421434Z",
     "shell.execute_reply": "2023-01-02T00:48:18.420294Z"
    },
    "papermill": {
     "duration": 0.242151,
     "end_time": "2023-01-02T00:48:18.423952",
     "exception": false,
     "start_time": "2023-01-02T00:48:18.181801",
     "status": "completed"
    },
    "tags": []
   },
   "outputs": [
    {
     "data": {
      "text/plain": [
       "Text(0, 0.5, 'Survived')"
      ]
     },
     "execution_count": 35,
     "metadata": {},
     "output_type": "execute_result"
    },
    {
     "data": {
      "image/png": "[encoded data removed]",
      "text/plain": [
       "<Figure size 936x72 with 1 Axes>"
      ]
     },
     "metadata": {
      "needs_background": "light"
     },
     "output_type": "display_data"
    }
   ],
   "source": [
    "plt.figure(figsize=(13,1))\n",
    "plt.scatter(train_imp['Fare'], train_imp['Survived'], s=100, alpha=0.3)\n",
    "plt.ylim(-0.5,1.5)\n",
    "plt.xlabel('Fare')\n",
    "plt.ylabel('Survived')"
   ]
  },
  {
   "cell_type": "markdown",
   "id": "6be361e0",
   "metadata": {
    "papermill": {
     "duration": 0.019775,
     "end_time": "2023-01-02T00:48:18.463903",
     "exception": false,
     "start_time": "2023-01-02T00:48:18.444128",
     "status": "completed"
    },
    "tags": []
   },
   "source": [
    "How the age of the passengers relate to their survival?"
   ]
  },
  {
   "cell_type": "code",
   "execution_count": 36,
   "id": "20b49d23",
   "metadata": {
    "execution": {
     "iopub.execute_input": "2023-01-02T00:48:18.506597Z",
     "iopub.status.busy": "2023-01-02T00:48:18.505455Z",
     "iopub.status.idle": "2023-01-02T00:48:18.727620Z",
     "shell.execute_reply": "2023-01-02T00:48:18.726295Z"
    },
    "papermill": {
     "duration": 0.246201,
     "end_time": "2023-01-02T00:48:18.730258",
     "exception": false,
     "start_time": "2023-01-02T00:48:18.484057",
     "status": "completed"
    },
    "tags": []
   },
   "outputs": [
    {
     "data": {
      "text/plain": [
       "Text(0, 0.5, 'Survived')"
      ]
     },
     "execution_count": 36,
     "metadata": {},
     "output_type": "execute_result"
    },
    {
     "data": {
      "image/png": "[encoded data removed]",
      "text/plain": [
       "<Figure size 936x72 with 1 Axes>"
      ]
     },
     "metadata": {
      "needs_background": "light"
     },
     "output_type": "display_data"
    }
   ],
   "source": [
    "plt.figure(figsize=(13,1))\n",
    "plt.scatter(train_imp['Age'], train_imp['Survived'], s=100, alpha=0.3)\n",
    "plt.ylim(-0.5,1.5)\n",
    "plt.xlabel('Age')\n",
    "plt.ylabel('Survived')"
   ]
  },
  {
   "cell_type": "markdown",
   "id": "92c2386e",
   "metadata": {
    "papermill": {
     "duration": 0.020275,
     "end_time": "2023-01-02T00:48:18.771100",
     "exception": false,
     "start_time": "2023-01-02T00:48:18.750825",
     "status": "completed"
    },
    "tags": []
   },
   "source": [
    "-------------------\n",
    "-----------------\n",
    "-------------------\n",
    "# 4. Model Training\n",
    "## 4.1. Data Normalization\n",
    "Normalizing the data based on the train set"
   ]
  },
  {
   "cell_type": "code",
   "execution_count": 37,
   "id": "78b9cdec",
   "metadata": {
    "execution": {
     "iopub.execute_input": "2023-01-02T00:48:18.814347Z",
     "iopub.status.busy": "2023-01-02T00:48:18.813487Z",
     "iopub.status.idle": "2023-01-02T00:48:18.831040Z",
     "shell.execute_reply": "2023-01-02T00:48:18.829918Z"
    },
    "papermill": {
     "duration": 0.041868,
     "end_time": "2023-01-02T00:48:18.833520",
     "exception": false,
     "start_time": "2023-01-02T00:48:18.791652",
     "status": "completed"
    },
    "tags": []
   },
   "outputs": [],
   "source": [
    "cols_exc_train = ['Sex','Pc1','Pc2','Pc3','em1','em2','em3','Survived'] # excluding binary features\n",
    "cols_exc_test = ['Sex','Pc1','Pc2','Pc3','em1','em2','em3'] # excluding binary features\n",
    "\n",
    "train_max = train_imp.drop(columns=cols_exc_train).max()\n",
    "train_min = train_imp.drop(columns=cols_exc_train).min()\n",
    "\n",
    "A1 = (train_min - train_imp.drop(columns=cols_exc_train))/(train_min - train_max)\n",
    "A2 = (train_min - test_imp.drop(columns=cols_exc_test))/(train_min - train_max)\n",
    "\n",
    "train_in = A1.join(train_imp[cols_exc_test])\n",
    "test_in = A2.join(test_imp[cols_exc_test])\n",
    "train_out = train_imp[['Survived']]"
   ]
  },
  {
   "cell_type": "code",
   "execution_count": 38,
   "id": "000ff842",
   "metadata": {
    "execution": {
     "iopub.execute_input": "2023-01-02T00:48:18.877818Z",
     "iopub.status.busy": "2023-01-02T00:48:18.876642Z",
     "iopub.status.idle": "2023-01-02T00:48:18.928264Z",
     "shell.execute_reply": "2023-01-02T00:48:18.927074Z"
    },
    "papermill": {
     "duration": 0.076394,
     "end_time": "2023-01-02T00:48:18.930714",
     "exception": false,
     "start_time": "2023-01-02T00:48:18.854320",
     "status": "completed"
    },
    "tags": []
   },
   "outputs": [
    {
     "data": {
      "text/html": [
       "<div>\n",
       "<style scoped>\n",
       "    .dataframe tbody tr th:only-of-type {\n",
       "        vertical-align: middle;\n",
       "    }\n",
       "\n",
       "    .dataframe tbody tr th {\n",
       "        vertical-align: top;\n",
       "    }\n",
       "\n",
       "    .dataframe thead th {\n",
       "        text-align: right;\n",
       "    }\n",
       "</style>\n",
       "<table border=\"1\" class=\"dataframe\">\n",
       "  <thead>\n",
       "    <tr style=\"text-align: right;\">\n",
       "      <th></th>\n",
       "      <th>Age</th>\n",
       "      <th>SibSp</th>\n",
       "      <th>Parch</th>\n",
       "      <th>Fare</th>\n",
       "      <th>Sex</th>\n",
       "      <th>Pc1</th>\n",
       "      <th>Pc2</th>\n",
       "      <th>Pc3</th>\n",
       "      <th>em1</th>\n",
       "      <th>em2</th>\n",
       "      <th>em3</th>\n",
       "    </tr>\n",
       "  </thead>\n",
       "  <tbody>\n",
       "    <tr>\n",
       "      <th>count</th>\n",
       "      <td>891.00</td>\n",
       "      <td>891.00</td>\n",
       "      <td>891.00</td>\n",
       "      <td>891.00</td>\n",
       "      <td>891.00</td>\n",
       "      <td>891.00</td>\n",
       "      <td>891.00</td>\n",
       "      <td>891.00</td>\n",
       "      <td>891.00</td>\n",
       "      <td>891.00</td>\n",
       "      <td>891.00</td>\n",
       "    </tr>\n",
       "    <tr>\n",
       "      <th>mean</th>\n",
       "      <td>0.37</td>\n",
       "      <td>0.07</td>\n",
       "      <td>0.06</td>\n",
       "      <td>0.06</td>\n",
       "      <td>0.35</td>\n",
       "      <td>0.24</td>\n",
       "      <td>0.21</td>\n",
       "      <td>0.55</td>\n",
       "      <td>0.19</td>\n",
       "      <td>0.09</td>\n",
       "      <td>0.72</td>\n",
       "    </tr>\n",
       "    <tr>\n",
       "      <th>std</th>\n",
       "      <td>0.17</td>\n",
       "      <td>0.14</td>\n",
       "      <td>0.13</td>\n",
       "      <td>0.10</td>\n",
       "      <td>0.48</td>\n",
       "      <td>0.43</td>\n",
       "      <td>0.41</td>\n",
       "      <td>0.50</td>\n",
       "      <td>0.39</td>\n",
       "      <td>0.28</td>\n",
       "      <td>0.45</td>\n",
       "    </tr>\n",
       "    <tr>\n",
       "      <th>min</th>\n",
       "      <td>-0.00</td>\n",
       "      <td>-0.00</td>\n",
       "      <td>-0.00</td>\n",
       "      <td>-0.00</td>\n",
       "      <td>0.00</td>\n",
       "      <td>0.00</td>\n",
       "      <td>0.00</td>\n",
       "      <td>0.00</td>\n",
       "      <td>0.00</td>\n",
       "      <td>0.00</td>\n",
       "      <td>0.00</td>\n",
       "    </tr>\n",
       "    <tr>\n",
       "      <th>25%</th>\n",
       "      <td>0.27</td>\n",
       "      <td>-0.00</td>\n",
       "      <td>-0.00</td>\n",
       "      <td>0.02</td>\n",
       "      <td>0.00</td>\n",
       "      <td>0.00</td>\n",
       "      <td>0.00</td>\n",
       "      <td>0.00</td>\n",
       "      <td>0.00</td>\n",
       "      <td>0.00</td>\n",
       "      <td>0.00</td>\n",
       "    </tr>\n",
       "    <tr>\n",
       "      <th>50%</th>\n",
       "      <td>0.36</td>\n",
       "      <td>0.00</td>\n",
       "      <td>0.00</td>\n",
       "      <td>0.03</td>\n",
       "      <td>0.00</td>\n",
       "      <td>0.00</td>\n",
       "      <td>0.00</td>\n",
       "      <td>1.00</td>\n",
       "      <td>0.00</td>\n",
       "      <td>0.00</td>\n",
       "      <td>1.00</td>\n",
       "    </tr>\n",
       "    <tr>\n",
       "      <th>75%</th>\n",
       "      <td>0.45</td>\n",
       "      <td>0.12</td>\n",
       "      <td>-0.00</td>\n",
       "      <td>0.06</td>\n",
       "      <td>1.00</td>\n",
       "      <td>0.00</td>\n",
       "      <td>0.00</td>\n",
       "      <td>1.00</td>\n",
       "      <td>0.00</td>\n",
       "      <td>0.00</td>\n",
       "      <td>1.00</td>\n",
       "    </tr>\n",
       "    <tr>\n",
       "      <th>max</th>\n",
       "      <td>1.00</td>\n",
       "      <td>1.00</td>\n",
       "      <td>1.00</td>\n",
       "      <td>1.00</td>\n",
       "      <td>1.00</td>\n",
       "      <td>1.00</td>\n",
       "      <td>1.00</td>\n",
       "      <td>1.00</td>\n",
       "      <td>1.00</td>\n",
       "      <td>1.00</td>\n",
       "      <td>1.00</td>\n",
       "    </tr>\n",
       "  </tbody>\n",
       "</table>\n",
       "</div>"
      ],
      "text/plain": [
       "          Age   SibSp   Parch    Fare     Sex     Pc1     Pc2     Pc3     em1  \\\n",
       "count  891.00  891.00  891.00  891.00  891.00  891.00  891.00  891.00  891.00   \n",
       "mean     0.37    0.07    0.06    0.06    0.35    0.24    0.21    0.55    0.19   \n",
       "std      0.17    0.14    0.13    0.10    0.48    0.43    0.41    0.50    0.39   \n",
       "min     -0.00   -0.00   -0.00   -0.00    0.00    0.00    0.00    0.00    0.00   \n",
       "25%      0.27   -0.00   -0.00    0.02    0.00    0.00    0.00    0.00    0.00   \n",
       "50%      0.36    0.00    0.00    0.03    0.00    0.00    0.00    1.00    0.00   \n",
       "75%      0.45    0.12   -0.00    0.06    1.00    0.00    0.00    1.00    0.00   \n",
       "max      1.00    1.00    1.00    1.00    1.00    1.00    1.00    1.00    1.00   \n",
       "\n",
       "          em2     em3  \n",
       "count  891.00  891.00  \n",
       "mean     0.09    0.72  \n",
       "std      0.28    0.45  \n",
       "min      0.00    0.00  \n",
       "25%      0.00    0.00  \n",
       "50%      0.00    1.00  \n",
       "75%      0.00    1.00  \n",
       "max      1.00    1.00  "
      ]
     },
     "execution_count": 38,
     "metadata": {},
     "output_type": "execute_result"
    }
   ],
   "source": [
    "train_in.describe().round(2)"
   ]
  },
  {
   "cell_type": "code",
   "execution_count": 39,
   "id": "af1e5c9e",
   "metadata": {
    "execution": {
     "iopub.execute_input": "2023-01-02T00:48:18.977176Z",
     "iopub.status.busy": "2023-01-02T00:48:18.976149Z",
     "iopub.status.idle": "2023-01-02T00:48:19.024579Z",
     "shell.execute_reply": "2023-01-02T00:48:19.023424Z"
    },
    "papermill": {
     "duration": 0.073933,
     "end_time": "2023-01-02T00:48:19.026966",
     "exception": false,
     "start_time": "2023-01-02T00:48:18.953033",
     "status": "completed"
    },
    "tags": []
   },
   "outputs": [
    {
     "data": {
      "text/html": [
       "<div>\n",
       "<style scoped>\n",
       "    .dataframe tbody tr th:only-of-type {\n",
       "        vertical-align: middle;\n",
       "    }\n",
       "\n",
       "    .dataframe tbody tr th {\n",
       "        vertical-align: top;\n",
       "    }\n",
       "\n",
       "    .dataframe thead th {\n",
       "        text-align: right;\n",
       "    }\n",
       "</style>\n",
       "<table border=\"1\" class=\"dataframe\">\n",
       "  <thead>\n",
       "    <tr style=\"text-align: right;\">\n",
       "      <th></th>\n",
       "      <th>Age</th>\n",
       "      <th>SibSp</th>\n",
       "      <th>Parch</th>\n",
       "      <th>Fare</th>\n",
       "      <th>Sex</th>\n",
       "      <th>Pc1</th>\n",
       "      <th>Pc2</th>\n",
       "      <th>Pc3</th>\n",
       "      <th>em1</th>\n",
       "      <th>em2</th>\n",
       "      <th>em3</th>\n",
       "    </tr>\n",
       "  </thead>\n",
       "  <tbody>\n",
       "    <tr>\n",
       "      <th>count</th>\n",
       "      <td>418.00</td>\n",
       "      <td>418.00</td>\n",
       "      <td>418.00</td>\n",
       "      <td>418.00</td>\n",
       "      <td>418.00</td>\n",
       "      <td>418.00</td>\n",
       "      <td>418.00</td>\n",
       "      <td>418.00</td>\n",
       "      <td>418.00</td>\n",
       "      <td>418.00</td>\n",
       "      <td>418.00</td>\n",
       "    </tr>\n",
       "    <tr>\n",
       "      <th>mean</th>\n",
       "      <td>0.38</td>\n",
       "      <td>0.06</td>\n",
       "      <td>0.07</td>\n",
       "      <td>0.07</td>\n",
       "      <td>0.36</td>\n",
       "      <td>0.26</td>\n",
       "      <td>0.22</td>\n",
       "      <td>0.52</td>\n",
       "      <td>0.24</td>\n",
       "      <td>0.11</td>\n",
       "      <td>0.65</td>\n",
       "    </tr>\n",
       "    <tr>\n",
       "      <th>std</th>\n",
       "      <td>0.16</td>\n",
       "      <td>0.11</td>\n",
       "      <td>0.16</td>\n",
       "      <td>0.11</td>\n",
       "      <td>0.48</td>\n",
       "      <td>0.44</td>\n",
       "      <td>0.42</td>\n",
       "      <td>0.50</td>\n",
       "      <td>0.43</td>\n",
       "      <td>0.31</td>\n",
       "      <td>0.48</td>\n",
       "    </tr>\n",
       "    <tr>\n",
       "      <th>min</th>\n",
       "      <td>-0.00</td>\n",
       "      <td>-0.00</td>\n",
       "      <td>-0.00</td>\n",
       "      <td>-0.00</td>\n",
       "      <td>0.00</td>\n",
       "      <td>0.00</td>\n",
       "      <td>0.00</td>\n",
       "      <td>0.00</td>\n",
       "      <td>0.00</td>\n",
       "      <td>0.00</td>\n",
       "      <td>0.00</td>\n",
       "    </tr>\n",
       "    <tr>\n",
       "      <th>25%</th>\n",
       "      <td>0.27</td>\n",
       "      <td>0.00</td>\n",
       "      <td>0.00</td>\n",
       "      <td>0.02</td>\n",
       "      <td>0.00</td>\n",
       "      <td>0.00</td>\n",
       "      <td>0.00</td>\n",
       "      <td>0.00</td>\n",
       "      <td>0.00</td>\n",
       "      <td>0.00</td>\n",
       "      <td>0.00</td>\n",
       "    </tr>\n",
       "    <tr>\n",
       "      <th>50%</th>\n",
       "      <td>0.35</td>\n",
       "      <td>-0.00</td>\n",
       "      <td>-0.00</td>\n",
       "      <td>0.03</td>\n",
       "      <td>0.00</td>\n",
       "      <td>0.00</td>\n",
       "      <td>0.00</td>\n",
       "      <td>1.00</td>\n",
       "      <td>0.00</td>\n",
       "      <td>0.00</td>\n",
       "      <td>1.00</td>\n",
       "    </tr>\n",
       "    <tr>\n",
       "      <th>75%</th>\n",
       "      <td>0.45</td>\n",
       "      <td>0.12</td>\n",
       "      <td>-0.00</td>\n",
       "      <td>0.06</td>\n",
       "      <td>1.00</td>\n",
       "      <td>1.00</td>\n",
       "      <td>0.00</td>\n",
       "      <td>1.00</td>\n",
       "      <td>0.00</td>\n",
       "      <td>0.00</td>\n",
       "      <td>1.00</td>\n",
       "    </tr>\n",
       "    <tr>\n",
       "      <th>max</th>\n",
       "      <td>0.95</td>\n",
       "      <td>1.00</td>\n",
       "      <td>1.50</td>\n",
       "      <td>1.00</td>\n",
       "      <td>1.00</td>\n",
       "      <td>1.00</td>\n",
       "      <td>1.00</td>\n",
       "      <td>1.00</td>\n",
       "      <td>1.00</td>\n",
       "      <td>1.00</td>\n",
       "      <td>1.00</td>\n",
       "    </tr>\n",
       "  </tbody>\n",
       "</table>\n",
       "</div>"
      ],
      "text/plain": [
       "          Age   SibSp   Parch    Fare     Sex     Pc1     Pc2     Pc3     em1  \\\n",
       "count  418.00  418.00  418.00  418.00  418.00  418.00  418.00  418.00  418.00   \n",
       "mean     0.38    0.06    0.07    0.07    0.36    0.26    0.22    0.52    0.24   \n",
       "std      0.16    0.11    0.16    0.11    0.48    0.44    0.42    0.50    0.43   \n",
       "min     -0.00   -0.00   -0.00   -0.00    0.00    0.00    0.00    0.00    0.00   \n",
       "25%      0.27    0.00    0.00    0.02    0.00    0.00    0.00    0.00    0.00   \n",
       "50%      0.35   -0.00   -0.00    0.03    0.00    0.00    0.00    1.00    0.00   \n",
       "75%      0.45    0.12   -0.00    0.06    1.00    1.00    0.00    1.00    0.00   \n",
       "max      0.95    1.00    1.50    1.00    1.00    1.00    1.00    1.00    1.00   \n",
       "\n",
       "          em2     em3  \n",
       "count  418.00  418.00  \n",
       "mean     0.11    0.65  \n",
       "std      0.31    0.48  \n",
       "min      0.00    0.00  \n",
       "25%      0.00    0.00  \n",
       "50%      0.00    1.00  \n",
       "75%      0.00    1.00  \n",
       "max      1.00    1.00  "
      ]
     },
     "execution_count": 39,
     "metadata": {},
     "output_type": "execute_result"
    }
   ],
   "source": [
    "test_in.describe().round(2)"
   ]
  },
  {
   "cell_type": "markdown",
   "id": "56ccf453",
   "metadata": {
    "papermill": {
     "duration": 0.020765,
     "end_time": "2023-01-02T00:48:19.069065",
     "exception": false,
     "start_time": "2023-01-02T00:48:19.048300",
     "status": "completed"
    },
    "tags": []
   },
   "source": [
    "### Developing a Random Forest model"
   ]
  },
  {
   "cell_type": "code",
   "execution_count": 40,
   "id": "f078963b",
   "metadata": {
    "execution": {
     "iopub.execute_input": "2023-01-02T00:48:19.113710Z",
     "iopub.status.busy": "2023-01-02T00:48:19.112898Z",
     "iopub.status.idle": "2023-01-02T00:48:19.273755Z",
     "shell.execute_reply": "2023-01-02T00:48:19.272444Z"
    },
    "papermill": {
     "duration": 0.186333,
     "end_time": "2023-01-02T00:48:19.276553",
     "exception": false,
     "start_time": "2023-01-02T00:48:19.090220",
     "status": "completed"
    },
    "tags": []
   },
   "outputs": [],
   "source": [
    "from sklearn.ensemble import RandomForestClassifier\n",
    "from sklearn.model_selection import RepeatedKFold\n",
    "from skopt import BayesSearchCV\n",
    "from skopt.space import Real, Categorical, Integer\n",
    "from sklearn.metrics import accuracy_score"
   ]
  },
  {
   "cell_type": "code",
   "execution_count": 41,
   "id": "d7383a3e",
   "metadata": {
    "execution": {
     "iopub.execute_input": "2023-01-02T00:48:19.323273Z",
     "iopub.status.busy": "2023-01-02T00:48:19.322858Z",
     "iopub.status.idle": "2023-01-02T00:51:08.716208Z",
     "shell.execute_reply": "2023-01-02T00:51:08.714646Z"
    },
    "papermill": {
     "duration": 169.439995,
     "end_time": "2023-01-02T00:51:08.739460",
     "exception": false,
     "start_time": "2023-01-02T00:48:19.299465",
     "status": "completed"
    },
    "tags": []
   },
   "outputs": [
    {
     "data": {
      "text/plain": [
       "BayesSearchCV(cv=RepeatedKFold(n_repeats=1, n_splits=5, random_state=1),\n",
       "              estimator=RandomForestClassifier(n_estimators=200), n_jobs=-1,\n",
       "              return_train_score=True,\n",
       "              search_spaces={'max_depth': Integer(low=1, high=30, prior='uniform', transform='normalize'),\n",
       "                             'max_features': Integer(low=1, high=11, prior='uniform', transform='normalize'),\n",
       "                             'max_samples': [0.1, 0.2, 0.3, 0.4, 0.5, 0.6, 0.7,\n",
       "                                             0.8, 0.9, 1.0]})"
      ]
     },
     "execution_count": 41,
     "metadata": {},
     "output_type": "execute_result"
    }
   ],
   "source": [
    "model_rf = RandomForestClassifier(n_estimators=200)\n",
    "param = {'max_depth'    : Integer(1, 30),\n",
    "         'max_features' : Integer(1, 11),\n",
    "         'max_samples'  : [0.1,0.2,0.3,0.4,0.5,0.6,0.7,0.8,0.9,1.0]}\n",
    "cv = RepeatedKFold(n_repeats=1, n_splits=5, random_state=1)\n",
    "b_search = BayesSearchCV(model_rf, param, cv=cv, return_train_score=True, n_jobs=-1, verbose=0)\n",
    "b_search.fit(train_in, train_out.values.ravel())"
   ]
  },
  {
   "cell_type": "code",
   "execution_count": 42,
   "id": "7e2eaf45",
   "metadata": {
    "execution": {
     "iopub.execute_input": "2023-01-02T00:51:08.785052Z",
     "iopub.status.busy": "2023-01-02T00:51:08.784574Z",
     "iopub.status.idle": "2023-01-02T00:51:08.790836Z",
     "shell.execute_reply": "2023-01-02T00:51:08.789592Z"
    },
    "papermill": {
     "duration": 0.032338,
     "end_time": "2023-01-02T00:51:08.793252",
     "exception": false,
     "start_time": "2023-01-02T00:51:08.760914",
     "status": "completed"
    },
    "tags": []
   },
   "outputs": [
    {
     "name": "stdout",
     "output_type": "stream",
     "text": [
      "Mean train score = 0.9346\n",
      "Mean test score = 0.8317\n"
     ]
    }
   ],
   "source": [
    "print(f\"Mean train score = {b_search.cv_results_['mean_train_score'][b_search.best_index_].round(4)}\")\n",
    "print(f\"Mean test score = {b_search.cv_results_['mean_test_score'][b_search.best_index_].round(4)}\")"
   ]
  },
  {
   "cell_type": "code",
   "execution_count": 43,
   "id": "5fa40378",
   "metadata": {
    "execution": {
     "iopub.execute_input": "2023-01-02T00:51:08.838613Z",
     "iopub.status.busy": "2023-01-02T00:51:08.838159Z",
     "iopub.status.idle": "2023-01-02T00:51:08.845768Z",
     "shell.execute_reply": "2023-01-02T00:51:08.844585Z"
    },
    "papermill": {
     "duration": 0.033059,
     "end_time": "2023-01-02T00:51:08.848235",
     "exception": false,
     "start_time": "2023-01-02T00:51:08.815176",
     "status": "completed"
    },
    "tags": []
   },
   "outputs": [
    {
     "data": {
      "text/plain": [
       "OrderedDict([('max_depth', 8), ('max_features', 10), ('max_samples', 1.0)])"
      ]
     },
     "execution_count": 43,
     "metadata": {},
     "output_type": "execute_result"
    }
   ],
   "source": [
    "b_search.best_params_"
   ]
  },
  {
   "cell_type": "code",
   "execution_count": 44,
   "id": "563e5e20",
   "metadata": {
    "execution": {
     "iopub.execute_input": "2023-01-02T00:51:08.894716Z",
     "iopub.status.busy": "2023-01-02T00:51:08.894009Z",
     "iopub.status.idle": "2023-01-02T00:51:09.147240Z",
     "shell.execute_reply": "2023-01-02T00:51:09.146061Z"
    },
    "papermill": {
     "duration": 0.279431,
     "end_time": "2023-01-02T00:51:09.149813",
     "exception": false,
     "start_time": "2023-01-02T00:51:08.870382",
     "status": "completed"
    },
    "tags": []
   },
   "outputs": [
    {
     "data": {
      "text/plain": [
       "RandomForestClassifier(max_depth=8, max_features=10, max_samples=1.0,\n",
       "                       random_state=0)"
      ]
     },
     "execution_count": 44,
     "metadata": {},
     "output_type": "execute_result"
    }
   ],
   "source": [
    "model_rf_optim = RandomForestClassifier(max_depth=b_search.best_params_['max_depth'],\n",
    "                                         max_features=b_search.best_params_['max_features'],\n",
    "                                         max_samples=b_search.best_params_['max_samples'],\n",
    "                                         random_state=0)\n",
    "model_rf_optim.fit(train_in, train_out.values.ravel())"
   ]
  },
  {
   "cell_type": "code",
   "execution_count": 45,
   "id": "194e8cff",
   "metadata": {
    "execution": {
     "iopub.execute_input": "2023-01-02T00:51:09.195641Z",
     "iopub.status.busy": "2023-01-02T00:51:09.194844Z",
     "iopub.status.idle": "2023-01-02T00:51:09.286131Z",
     "shell.execute_reply": "2023-01-02T00:51:09.284832Z"
    },
    "papermill": {
     "duration": 0.117183,
     "end_time": "2023-01-02T00:51:09.288777",
     "exception": false,
     "start_time": "2023-01-02T00:51:09.171594",
     "status": "completed"
    },
    "tags": []
   },
   "outputs": [
    {
     "data": {
      "text/plain": [
       "True     415\n",
       "False      3\n",
       "dtype: int64"
      ]
     },
     "execution_count": 45,
     "metadata": {},
     "output_type": "execute_result"
    }
   ],
   "source": [
    "aa = pd.DataFrame([b_search.predict(test_in),model_rf_optim.predict(test_in)]).T\n",
    "pd.DataFrame([aa[0] == aa[1]]).T.value_counts()"
   ]
  },
  {
   "cell_type": "code",
   "execution_count": 46,
   "id": "f14876d2",
   "metadata": {
    "execution": {
     "iopub.execute_input": "2023-01-02T00:51:09.335657Z",
     "iopub.status.busy": "2023-01-02T00:51:09.335204Z",
     "iopub.status.idle": "2023-01-02T00:51:09.350967Z",
     "shell.execute_reply": "2023-01-02T00:51:09.349675Z"
    },
    "papermill": {
     "duration": 0.042324,
     "end_time": "2023-01-02T00:51:09.353313",
     "exception": false,
     "start_time": "2023-01-02T00:51:09.310989",
     "status": "completed"
    },
    "tags": []
   },
   "outputs": [
    {
     "data": {
      "text/html": [
       "<div>\n",
       "<style scoped>\n",
       "    .dataframe tbody tr th:only-of-type {\n",
       "        vertical-align: middle;\n",
       "    }\n",
       "\n",
       "    .dataframe tbody tr th {\n",
       "        vertical-align: top;\n",
       "    }\n",
       "\n",
       "    .dataframe thead th {\n",
       "        text-align: right;\n",
       "    }\n",
       "</style>\n",
       "<table border=\"1\" class=\"dataframe\">\n",
       "  <thead>\n",
       "    <tr style=\"text-align: right;\">\n",
       "      <th></th>\n",
       "      <th>PassengerId</th>\n",
       "      <th>Survived</th>\n",
       "    </tr>\n",
       "  </thead>\n",
       "  <tbody>\n",
       "    <tr>\n",
       "      <th>0</th>\n",
       "      <td>892</td>\n",
       "      <td>0</td>\n",
       "    </tr>\n",
       "    <tr>\n",
       "      <th>1</th>\n",
       "      <td>893</td>\n",
       "      <td>1</td>\n",
       "    </tr>\n",
       "    <tr>\n",
       "      <th>2</th>\n",
       "      <td>894</td>\n",
       "      <td>0</td>\n",
       "    </tr>\n",
       "    <tr>\n",
       "      <th>3</th>\n",
       "      <td>895</td>\n",
       "      <td>0</td>\n",
       "    </tr>\n",
       "    <tr>\n",
       "      <th>4</th>\n",
       "      <td>896</td>\n",
       "      <td>1</td>\n",
       "    </tr>\n",
       "  </tbody>\n",
       "</table>\n",
       "</div>"
      ],
      "text/plain": [
       "   PassengerId  Survived\n",
       "0          892         0\n",
       "1          893         1\n",
       "2          894         0\n",
       "3          895         0\n",
       "4          896         1"
      ]
     },
     "execution_count": 46,
     "metadata": {},
     "output_type": "execute_result"
    }
   ],
   "source": [
    "submission = pd.read_csv(\"/kaggle/input/titanic/gender_submission.csv\")\n",
    "submission.head()"
   ]
  },
  {
   "cell_type": "code",
   "execution_count": 47,
   "id": "eb4fd866",
   "metadata": {
    "execution": {
     "iopub.execute_input": "2023-01-02T00:51:09.401928Z",
     "iopub.status.busy": "2023-01-02T00:51:09.401230Z",
     "iopub.status.idle": "2023-01-02T00:51:09.441325Z",
     "shell.execute_reply": "2023-01-02T00:51:09.440088Z"
    },
    "papermill": {
     "duration": 0.066841,
     "end_time": "2023-01-02T00:51:09.443678",
     "exception": false,
     "start_time": "2023-01-02T00:51:09.376837",
     "status": "completed"
    },
    "tags": []
   },
   "outputs": [
    {
     "data": {
      "text/html": [
       "<div>\n",
       "<style scoped>\n",
       "    .dataframe tbody tr th:only-of-type {\n",
       "        vertical-align: middle;\n",
       "    }\n",
       "\n",
       "    .dataframe tbody tr th {\n",
       "        vertical-align: top;\n",
       "    }\n",
       "\n",
       "    .dataframe thead th {\n",
       "        text-align: right;\n",
       "    }\n",
       "</style>\n",
       "<table border=\"1\" class=\"dataframe\">\n",
       "  <thead>\n",
       "    <tr style=\"text-align: right;\">\n",
       "      <th></th>\n",
       "      <th>PassengerId</th>\n",
       "      <th>Survived</th>\n",
       "    </tr>\n",
       "  </thead>\n",
       "  <tbody>\n",
       "    <tr>\n",
       "      <th>0</th>\n",
       "      <td>892</td>\n",
       "      <td>0</td>\n",
       "    </tr>\n",
       "    <tr>\n",
       "      <th>1</th>\n",
       "      <td>893</td>\n",
       "      <td>0</td>\n",
       "    </tr>\n",
       "    <tr>\n",
       "      <th>2</th>\n",
       "      <td>894</td>\n",
       "      <td>0</td>\n",
       "    </tr>\n",
       "    <tr>\n",
       "      <th>3</th>\n",
       "      <td>895</td>\n",
       "      <td>0</td>\n",
       "    </tr>\n",
       "    <tr>\n",
       "      <th>4</th>\n",
       "      <td>896</td>\n",
       "      <td>1</td>\n",
       "    </tr>\n",
       "    <tr>\n",
       "      <th>...</th>\n",
       "      <td>...</td>\n",
       "      <td>...</td>\n",
       "    </tr>\n",
       "    <tr>\n",
       "      <th>413</th>\n",
       "      <td>1305</td>\n",
       "      <td>0</td>\n",
       "    </tr>\n",
       "    <tr>\n",
       "      <th>414</th>\n",
       "      <td>1306</td>\n",
       "      <td>1</td>\n",
       "    </tr>\n",
       "    <tr>\n",
       "      <th>415</th>\n",
       "      <td>1307</td>\n",
       "      <td>0</td>\n",
       "    </tr>\n",
       "    <tr>\n",
       "      <th>416</th>\n",
       "      <td>1308</td>\n",
       "      <td>0</td>\n",
       "    </tr>\n",
       "    <tr>\n",
       "      <th>417</th>\n",
       "      <td>1309</td>\n",
       "      <td>0</td>\n",
       "    </tr>\n",
       "  </tbody>\n",
       "</table>\n",
       "<p>418 rows × 2 columns</p>\n",
       "</div>"
      ],
      "text/plain": [
       "     PassengerId  Survived\n",
       "0            892         0\n",
       "1            893         0\n",
       "2            894         0\n",
       "3            895         0\n",
       "4            896         1\n",
       "..           ...       ...\n",
       "413         1305         0\n",
       "414         1306         1\n",
       "415         1307         0\n",
       "416         1308         0\n",
       "417         1309         0\n",
       "\n",
       "[418 rows x 2 columns]"
      ]
     },
     "execution_count": 47,
     "metadata": {},
     "output_type": "execute_result"
    }
   ],
   "source": [
    "predictions = pd.DataFrame([test_data['PassengerId'], model_rf_optim.predict(test_in)]).T\n",
    "predictions.columns = ['PassengerId','Survived']\n",
    "predictions"
   ]
  },
  {
   "cell_type": "code",
   "execution_count": 48,
   "id": "0f6a20c4",
   "metadata": {
    "execution": {
     "iopub.execute_input": "2023-01-02T00:51:09.491285Z",
     "iopub.status.busy": "2023-01-02T00:51:09.490881Z",
     "iopub.status.idle": "2023-01-02T00:51:09.499269Z",
     "shell.execute_reply": "2023-01-02T00:51:09.498396Z"
    },
    "papermill": {
     "duration": 0.035183,
     "end_time": "2023-01-02T00:51:09.501710",
     "exception": false,
     "start_time": "2023-01-02T00:51:09.466527",
     "status": "completed"
    },
    "tags": []
   },
   "outputs": [],
   "source": [
    "predictions.to_csv('submission.csv', index=False)"
   ]
  },
  {
   "cell_type": "code",
   "execution_count": null,
   "id": "0e92b835",
   "metadata": {
    "papermill": {
     "duration": 0.022191,
     "end_time": "2023-01-02T00:51:09.546424",
     "exception": false,
     "start_time": "2023-01-02T00:51:09.524233",
     "status": "completed"
    },
    "tags": []
   },
   "outputs": [],
   "source": []
  },
  {
   "cell_type": "code",
   "execution_count": null,
   "id": "64f08b92",
   "metadata": {
    "papermill": {
     "duration": 0.02239,
     "end_time": "2023-01-02T00:51:09.591440",
     "exception": false,
     "start_time": "2023-01-02T00:51:09.569050",
     "status": "completed"
    },
    "tags": []
   },
   "outputs": [],
   "source": []
  }
 ],
 "metadata": {
  "kernelspec": {
   "display_name": "envtf",
   "language": "python",
   "name": "python3"
  },
  "language_info": {
   "codemirror_mode": {
    "name": "ipython",
    "version": 3
   },
   "file_extension": ".py",
   "mimetype": "text/x-python",
   "name": "python",
   "nbconvert_exporter": "python",
   "pygments_lexer": "ipython3",
   "version": "3.9.15"
  },
  "papermill": {
   "default_parameters": {},
   "duration": 189.629909,
   "end_time": "2023-01-02T00:51:12.237357",
   "environment_variables": {},
   "exception": null,
   "input_path": "__notebook__.ipynb",
   "output_path": "__notebook__.ipynb",
   "parameters": {},
   "start_time": "2023-01-02T00:48:02.607448",
   "version": "2.3.4"
  },
  "vscode": {
   "interpreter": {
    "hash": "9ddf6f5be8f1192cf70682edcaa6aaad42b4d7dc59537661b95caff2b632d806"
   }
  }
 },
 "nbformat": 4,
 "nbformat_minor": 5
}
